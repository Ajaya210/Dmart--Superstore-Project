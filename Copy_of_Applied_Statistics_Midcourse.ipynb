{
  "nbformat": 4,
  "nbformat_minor": 0,
  "metadata": {
    "colab": {
      "provenance": [],
      "include_colab_link": true
    },
    "kernelspec": {
      "name": "python3",
      "display_name": "Python 3"
    },
    "language_info": {
      "name": "python"
    }
  },
  "cells": [
    {
      "cell_type": "markdown",
      "metadata": {
        "id": "view-in-github",
        "colab_type": "text"
      },
      "source": [
        "<a href=\"https://colab.research.google.com/github/Ajaya210/Dmart--Superstore-Project/blob/main/Copy_of_Applied_Statistics_Midcourse.ipynb\" target=\"_parent\"><img src=\"https://colab.research.google.com/assets/colab-badge.svg\" alt=\"Open In Colab\"/></a>"
      ]
    },
    {
      "cell_type": "markdown",
      "source": [
        "# D-MART Customer Purchase Behavior Analysis"
      ],
      "metadata": {
        "id": "XVRRli7RVQFs"
      }
    },
    {
      "cell_type": "markdown",
      "source": [
        "![DMart Logo.png](data:image/png;base64,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)"
      ],
      "metadata": {
        "id": "Nsp8wSnKdAvx"
      }
    },
    {
      "cell_type": "markdown",
      "source": [
        "##Problem Statement"
      ],
      "metadata": {
        "id": "jfhbp8ZDB7If"
      }
    },
    {
      "cell_type": "markdown",
      "source": [
        "🔍 **Problem Statement**:\n",
        "\n",
        "Welcome to the Probability and Statistics project! 📊🔍 In this exciting journey, you'll get the chance to apply the concepts you've learned in probability theory and statistics to analyze a real-world dataset. This project is your opportunity to dive deep into the world of data analysis and gain practical experience with the tools and techniques you've been learning. 🚀\n",
        "\n",
        "🎯 **Objective**:\n",
        "\n",
        "Your mission is to analyze the provided dataset containing customer information and purchasing behavior to make informed decisions. Your goal is to identify patterns, trends, and correlations that will help your company optimize its marketing efforts and increase offer acceptance rates. 🎉"
      ],
      "metadata": {
        "id": "EB1yLJOSV1gx"
      }
    },
    {
      "cell_type": "markdown",
      "source": [
        "##About the Dataset"
      ],
      "metadata": {
        "id": "C6I6fCk2B4W-"
      }
    },
    {
      "cell_type": "markdown",
      "source": [
        "\n",
        "\n",
        "Here's the link to the [dataset](https://docs.google.com/spreadsheets/d/12ln9iTNcVNOMYi_AU-OczKpa_KIP8XyVbsjk81Na8Yk/edit?usp=sharing)\n",
        "\n",
        "\n",
        "This data was gathered during last year's campaign.\n",
        "Data description is as follows;\n",
        "\n",
        "1. Response (target) - 1 if customer accepted the offer in the last campaign, 0 otherwise\n",
        "1. ID - Unique ID of each customer\n",
        "1. Year_Birth - Age of the customer\n",
        "1. Complain - 1 if the customer complained in the last 2 years\n",
        "1. Dt_Customer - date of customer's enrollment with the company\n",
        "1. Education - customer's level of education\n",
        "1. Marital - customer's marital status\n",
        "1. Kidhome - number of small children in customer's household\n",
        "1. Teenhome - number of teenagers in customer's household\n",
        "1. Income - customer's yearly household income\n",
        "1. MntFishProducts - the amount spent on fish products in the last 2 years\n",
        "1. MntMeatProducts - the amount spent on meat products in the last 2 years\n",
        "1. MntFruits - the amount spent on fruits products in the last 2 years\n",
        "1. MntSweetProducts - amount spent on sweet products in the last 2 years\n",
        "1. MntWines - the amount spent on wine products in the last 2 years\n",
        "1. MntGoldProds - the amount spent on gold products in the last 2 years\n",
        "1. NumDealsPurchases - number of purchases made with discount\n",
        "1. NumCatalogPurchases - number of purchases made using catalog (buying goods to be shipped through the mail)\n",
        "1. NumStorePurchases - number of purchases made directly in stores\n",
        "1. NumWebPurchases - number of purchases made through the company's website\n",
        "1. NumWebVisitsMonth - number of visits to company's website in the last month\n",
        "1. Recency - number of days since the last purchase\n",
        "\n",
        "\n",
        "\n"
      ],
      "metadata": {
        "id": "E_yV1UBOAu7Z"
      }
    },
    {
      "cell_type": "markdown",
      "source": [
        "**Github** -https://github.com/Ajaya210/Superstore-Project/blob/main/Applied_Statistics_Midcourse.ipynb"
      ],
      "metadata": {
        "id": "7qQHPmV89h8J"
      }
    },
    {
      "cell_type": "markdown",
      "source": [
        "##Task 1 - Basic CleanUp\n",
        "\n",
        "- **Clean and preprocess the dataset (handling missing values, data types, etc.).**\n",
        "\n",
        "- **Analyze the distribution of customer demographics (age, education, marital status) using descriptive statistics and visualizations.**"
      ],
      "metadata": {
        "id": "HNjRqBCzXQww"
      }
    },
    {
      "cell_type": "markdown",
      "source": [
        "\n",
        "\n",
        "**Deliverables**:\n",
        "\n",
        "- **Cleaned and Preprocessed Dataset**:\n",
        "\n",
        "  Provide a detailed report on the steps taken to handle missing values, including imputation methods used if applicable.\n",
        "  Document the process of ensuring consistent data types for each variable, addressing any inconsistencies.\n",
        "\n",
        "- **Summary of Basic Statistics**:\n",
        "\n",
        "  Present calculated statistics such as mean, median, variance, and standard deviation for each relevant numerical variable.\n",
        "  Include a concise table or summary showcasing these measures for easy reference."
      ],
      "metadata": {
        "id": "AIUm4NpNX4vt"
      }
    },
    {
      "cell_type": "markdown",
      "source": [
        "# Importing Necessities"
      ],
      "metadata": {
        "id": "964v58w6fKyG"
      }
    },
    {
      "cell_type": "code",
      "source": [
        "import pandas as pd\n",
        "import numpy as np\n",
        "import matplotlib.pyplot as plt\n",
        "import seaborn as sns\n",
        "from datetime import datetime\n",
        "import datetime"
      ],
      "metadata": {
        "id": "HjRq58Q3Kuc2"
      },
      "execution_count": null,
      "outputs": []
    },
    {
      "cell_type": "code",
      "source": [
        "from google.colab import drive\n",
        "drive.mount('/content/drive')"
      ],
      "metadata": {
        "id": "bMStHyj9Kupe"
      },
      "execution_count": null,
      "outputs": []
    },
    {
      "cell_type": "markdown",
      "source": [
        "# Loading the dataset\n"
      ],
      "metadata": {
        "id": "YRDq5ZwBfZTx"
      }
    },
    {
      "cell_type": "code",
      "source": [
        "# Loading the dataset\n",
        "store_df = pd.read_csv(\"/content/drive/MyDrive/superstore dataset/Superstore Marketing Data - Sheet1.csv\")"
      ],
      "metadata": {
        "id": "--qMOQxYKus0"
      },
      "execution_count": null,
      "outputs": []
    },
    {
      "cell_type": "markdown",
      "source": [
        "# Displaying the top 10 rows\n"
      ],
      "metadata": {
        "id": "2i6MoL9nfeim"
      }
    },
    {
      "cell_type": "code",
      "source": [
        "# displaying the 1st 10 rows\n",
        "store_df.head(10)"
      ],
      "metadata": {
        "id": "U8_eJc6eKuwP",
        "outputId": "80e98b66-4b65-4f73-b74d-060f105b93b2",
        "colab": {
          "base_uri": "https://localhost:8080/",
          "height": 412
        }
      },
      "execution_count": null,
      "outputs": [
        {
          "output_type": "execute_result",
          "data": {
            "text/plain": [
              "      Id  Year_Birth   Education Marital_Status   Income  Kidhome  Teenhome  \\\n",
              "0   1826        1970  Graduation       Divorced  84835.0        0         0   \n",
              "1      1        1961  Graduation         Single  57091.0        0         0   \n",
              "2  10476        1958  Graduation        Married  67267.0        0         1   \n",
              "3   1386        1967  Graduation       Together  32474.0        1         1   \n",
              "4   5371        1989  Graduation         Single  21474.0        1         0   \n",
              "5   7348        1958         PhD         Single  71691.0        0         0   \n",
              "6   4073        1954    2n Cycle        Married  63564.0        0         0   \n",
              "7   1991        1967  Graduation       Together  44931.0        0         1   \n",
              "8   4047        1954         PhD        Married  65324.0        0         1   \n",
              "9   9477        1954         PhD        Married  65324.0        0         1   \n",
              "\n",
              "  Dt_Customer  Recency  MntWines  ...  MntFishProducts  MntSweetProducts  \\\n",
              "0   6/16/2014        0       189  ...              111               189   \n",
              "1   6/15/2014        0       464  ...                7                 0   \n",
              "2   5/13/2014        0       134  ...               15                 2   \n",
              "3    ########        0        10  ...                0                 0   \n",
              "4    ########        0         6  ...               11                 0   \n",
              "5   3/17/2014        0       336  ...              240                32   \n",
              "6   1/29/2014        0       769  ...               15                34   \n",
              "7   1/18/2014        0        78  ...                0                 0   \n",
              "8    ########        0       384  ...               21                32   \n",
              "9    ########        0       384  ...               21                32   \n",
              "\n",
              "   MntGoldProds  NumDealsPurchases  NumWebPurchases  NumCatalogPurchases  \\\n",
              "0           218                  1                4                    4   \n",
              "1            37                  1                7                    3   \n",
              "2            30                  1                3                    2   \n",
              "3             0                  1                1                    0   \n",
              "4            34                  2                3                    1   \n",
              "5            43                  1                4                    7   \n",
              "6            65                  1               10                   10   \n",
              "7             7                  1                2                    1   \n",
              "8             5                  3                6                    2   \n",
              "9             5                  3                6                    2   \n",
              "\n",
              "   NumStorePurchases  NumWebVisitsMonth  Response  Complain  \n",
              "0                  6                  1         1         0  \n",
              "1                  7                  5         1         0  \n",
              "2                  5                  2         0         0  \n",
              "3                  2                  7         0         0  \n",
              "4                  2                  7         1         0  \n",
              "5                  5                  2         1         0  \n",
              "6                  7                  6         1         0  \n",
              "7                  3                  5         0         0  \n",
              "8                  9                  4         0         0  \n",
              "9                  9                  4         0         0  \n",
              "\n",
              "[10 rows x 22 columns]"
            ],
            "text/html": [
              "\n",
              "  <div id=\"df-f294df52-0636-4abe-8931-ade5b37d21e9\" class=\"colab-df-container\">\n",
              "    <div>\n",
              "<style scoped>\n",
              "    .dataframe tbody tr th:only-of-type {\n",
              "        vertical-align: middle;\n",
              "    }\n",
              "\n",
              "    .dataframe tbody tr th {\n",
              "        vertical-align: top;\n",
              "    }\n",
              "\n",
              "    .dataframe thead th {\n",
              "        text-align: right;\n",
              "    }\n",
              "</style>\n",
              "<table border=\"1\" class=\"dataframe\">\n",
              "  <thead>\n",
              "    <tr style=\"text-align: right;\">\n",
              "      <th></th>\n",
              "      <th>Id</th>\n",
              "      <th>Year_Birth</th>\n",
              "      <th>Education</th>\n",
              "      <th>Marital_Status</th>\n",
              "      <th>Income</th>\n",
              "      <th>Kidhome</th>\n",
              "      <th>Teenhome</th>\n",
              "      <th>Dt_Customer</th>\n",
              "      <th>Recency</th>\n",
              "      <th>MntWines</th>\n",
              "      <th>...</th>\n",
              "      <th>MntFishProducts</th>\n",
              "      <th>MntSweetProducts</th>\n",
              "      <th>MntGoldProds</th>\n",
              "      <th>NumDealsPurchases</th>\n",
              "      <th>NumWebPurchases</th>\n",
              "      <th>NumCatalogPurchases</th>\n",
              "      <th>NumStorePurchases</th>\n",
              "      <th>NumWebVisitsMonth</th>\n",
              "      <th>Response</th>\n",
              "      <th>Complain</th>\n",
              "    </tr>\n",
              "  </thead>\n",
              "  <tbody>\n",
              "    <tr>\n",
              "      <th>0</th>\n",
              "      <td>1826</td>\n",
              "      <td>1970</td>\n",
              "      <td>Graduation</td>\n",
              "      <td>Divorced</td>\n",
              "      <td>84835.0</td>\n",
              "      <td>0</td>\n",
              "      <td>0</td>\n",
              "      <td>6/16/2014</td>\n",
              "      <td>0</td>\n",
              "      <td>189</td>\n",
              "      <td>...</td>\n",
              "      <td>111</td>\n",
              "      <td>189</td>\n",
              "      <td>218</td>\n",
              "      <td>1</td>\n",
              "      <td>4</td>\n",
              "      <td>4</td>\n",
              "      <td>6</td>\n",
              "      <td>1</td>\n",
              "      <td>1</td>\n",
              "      <td>0</td>\n",
              "    </tr>\n",
              "    <tr>\n",
              "      <th>1</th>\n",
              "      <td>1</td>\n",
              "      <td>1961</td>\n",
              "      <td>Graduation</td>\n",
              "      <td>Single</td>\n",
              "      <td>57091.0</td>\n",
              "      <td>0</td>\n",
              "      <td>0</td>\n",
              "      <td>6/15/2014</td>\n",
              "      <td>0</td>\n",
              "      <td>464</td>\n",
              "      <td>...</td>\n",
              "      <td>7</td>\n",
              "      <td>0</td>\n",
              "      <td>37</td>\n",
              "      <td>1</td>\n",
              "      <td>7</td>\n",
              "      <td>3</td>\n",
              "      <td>7</td>\n",
              "      <td>5</td>\n",
              "      <td>1</td>\n",
              "      <td>0</td>\n",
              "    </tr>\n",
              "    <tr>\n",
              "      <th>2</th>\n",
              "      <td>10476</td>\n",
              "      <td>1958</td>\n",
              "      <td>Graduation</td>\n",
              "      <td>Married</td>\n",
              "      <td>67267.0</td>\n",
              "      <td>0</td>\n",
              "      <td>1</td>\n",
              "      <td>5/13/2014</td>\n",
              "      <td>0</td>\n",
              "      <td>134</td>\n",
              "      <td>...</td>\n",
              "      <td>15</td>\n",
              "      <td>2</td>\n",
              "      <td>30</td>\n",
              "      <td>1</td>\n",
              "      <td>3</td>\n",
              "      <td>2</td>\n",
              "      <td>5</td>\n",
              "      <td>2</td>\n",
              "      <td>0</td>\n",
              "      <td>0</td>\n",
              "    </tr>\n",
              "    <tr>\n",
              "      <th>3</th>\n",
              "      <td>1386</td>\n",
              "      <td>1967</td>\n",
              "      <td>Graduation</td>\n",
              "      <td>Together</td>\n",
              "      <td>32474.0</td>\n",
              "      <td>1</td>\n",
              "      <td>1</td>\n",
              "      <td>########</td>\n",
              "      <td>0</td>\n",
              "      <td>10</td>\n",
              "      <td>...</td>\n",
              "      <td>0</td>\n",
              "      <td>0</td>\n",
              "      <td>0</td>\n",
              "      <td>1</td>\n",
              "      <td>1</td>\n",
              "      <td>0</td>\n",
              "      <td>2</td>\n",
              "      <td>7</td>\n",
              "      <td>0</td>\n",
              "      <td>0</td>\n",
              "    </tr>\n",
              "    <tr>\n",
              "      <th>4</th>\n",
              "      <td>5371</td>\n",
              "      <td>1989</td>\n",
              "      <td>Graduation</td>\n",
              "      <td>Single</td>\n",
              "      <td>21474.0</td>\n",
              "      <td>1</td>\n",
              "      <td>0</td>\n",
              "      <td>########</td>\n",
              "      <td>0</td>\n",
              "      <td>6</td>\n",
              "      <td>...</td>\n",
              "      <td>11</td>\n",
              "      <td>0</td>\n",
              "      <td>34</td>\n",
              "      <td>2</td>\n",
              "      <td>3</td>\n",
              "      <td>1</td>\n",
              "      <td>2</td>\n",
              "      <td>7</td>\n",
              "      <td>1</td>\n",
              "      <td>0</td>\n",
              "    </tr>\n",
              "    <tr>\n",
              "      <th>5</th>\n",
              "      <td>7348</td>\n",
              "      <td>1958</td>\n",
              "      <td>PhD</td>\n",
              "      <td>Single</td>\n",
              "      <td>71691.0</td>\n",
              "      <td>0</td>\n",
              "      <td>0</td>\n",
              "      <td>3/17/2014</td>\n",
              "      <td>0</td>\n",
              "      <td>336</td>\n",
              "      <td>...</td>\n",
              "      <td>240</td>\n",
              "      <td>32</td>\n",
              "      <td>43</td>\n",
              "      <td>1</td>\n",
              "      <td>4</td>\n",
              "      <td>7</td>\n",
              "      <td>5</td>\n",
              "      <td>2</td>\n",
              "      <td>1</td>\n",
              "      <td>0</td>\n",
              "    </tr>\n",
              "    <tr>\n",
              "      <th>6</th>\n",
              "      <td>4073</td>\n",
              "      <td>1954</td>\n",
              "      <td>2n Cycle</td>\n",
              "      <td>Married</td>\n",
              "      <td>63564.0</td>\n",
              "      <td>0</td>\n",
              "      <td>0</td>\n",
              "      <td>1/29/2014</td>\n",
              "      <td>0</td>\n",
              "      <td>769</td>\n",
              "      <td>...</td>\n",
              "      <td>15</td>\n",
              "      <td>34</td>\n",
              "      <td>65</td>\n",
              "      <td>1</td>\n",
              "      <td>10</td>\n",
              "      <td>10</td>\n",
              "      <td>7</td>\n",
              "      <td>6</td>\n",
              "      <td>1</td>\n",
              "      <td>0</td>\n",
              "    </tr>\n",
              "    <tr>\n",
              "      <th>7</th>\n",
              "      <td>1991</td>\n",
              "      <td>1967</td>\n",
              "      <td>Graduation</td>\n",
              "      <td>Together</td>\n",
              "      <td>44931.0</td>\n",
              "      <td>0</td>\n",
              "      <td>1</td>\n",
              "      <td>1/18/2014</td>\n",
              "      <td>0</td>\n",
              "      <td>78</td>\n",
              "      <td>...</td>\n",
              "      <td>0</td>\n",
              "      <td>0</td>\n",
              "      <td>7</td>\n",
              "      <td>1</td>\n",
              "      <td>2</td>\n",
              "      <td>1</td>\n",
              "      <td>3</td>\n",
              "      <td>5</td>\n",
              "      <td>0</td>\n",
              "      <td>0</td>\n",
              "    </tr>\n",
              "    <tr>\n",
              "      <th>8</th>\n",
              "      <td>4047</td>\n",
              "      <td>1954</td>\n",
              "      <td>PhD</td>\n",
              "      <td>Married</td>\n",
              "      <td>65324.0</td>\n",
              "      <td>0</td>\n",
              "      <td>1</td>\n",
              "      <td>########</td>\n",
              "      <td>0</td>\n",
              "      <td>384</td>\n",
              "      <td>...</td>\n",
              "      <td>21</td>\n",
              "      <td>32</td>\n",
              "      <td>5</td>\n",
              "      <td>3</td>\n",
              "      <td>6</td>\n",
              "      <td>2</td>\n",
              "      <td>9</td>\n",
              "      <td>4</td>\n",
              "      <td>0</td>\n",
              "      <td>0</td>\n",
              "    </tr>\n",
              "    <tr>\n",
              "      <th>9</th>\n",
              "      <td>9477</td>\n",
              "      <td>1954</td>\n",
              "      <td>PhD</td>\n",
              "      <td>Married</td>\n",
              "      <td>65324.0</td>\n",
              "      <td>0</td>\n",
              "      <td>1</td>\n",
              "      <td>########</td>\n",
              "      <td>0</td>\n",
              "      <td>384</td>\n",
              "      <td>...</td>\n",
              "      <td>21</td>\n",
              "      <td>32</td>\n",
              "      <td>5</td>\n",
              "      <td>3</td>\n",
              "      <td>6</td>\n",
              "      <td>2</td>\n",
              "      <td>9</td>\n",
              "      <td>4</td>\n",
              "      <td>0</td>\n",
              "      <td>0</td>\n",
              "    </tr>\n",
              "  </tbody>\n",
              "</table>\n",
              "<p>10 rows × 22 columns</p>\n",
              "</div>\n",
              "    <div class=\"colab-df-buttons\">\n",
              "\n",
              "  <div class=\"colab-df-container\">\n",
              "    <button class=\"colab-df-convert\" onclick=\"convertToInteractive('df-f294df52-0636-4abe-8931-ade5b37d21e9')\"\n",
              "            title=\"Convert this dataframe to an interactive table.\"\n",
              "            style=\"display:none;\">\n",
              "\n",
              "  <svg xmlns=\"http://www.w3.org/2000/svg\" height=\"24px\" viewBox=\"0 -960 960 960\">\n",
              "    <path d=\"M120-120v-720h720v720H120Zm60-500h600v-160H180v160Zm220 220h160v-160H400v160Zm0 220h160v-160H400v160ZM180-400h160v-160H180v160Zm440 0h160v-160H620v160ZM180-180h160v-160H180v160Zm440 0h160v-160H620v160Z\"/>\n",
              "  </svg>\n",
              "    </button>\n",
              "\n",
              "  <style>\n",
              "    .colab-df-container {\n",
              "      display:flex;\n",
              "      gap: 12px;\n",
              "    }\n",
              "\n",
              "    .colab-df-convert {\n",
              "      background-color: #E8F0FE;\n",
              "      border: none;\n",
              "      border-radius: 50%;\n",
              "      cursor: pointer;\n",
              "      display: none;\n",
              "      fill: #1967D2;\n",
              "      height: 32px;\n",
              "      padding: 0 0 0 0;\n",
              "      width: 32px;\n",
              "    }\n",
              "\n",
              "    .colab-df-convert:hover {\n",
              "      background-color: #E2EBFA;\n",
              "      box-shadow: 0px 1px 2px rgba(60, 64, 67, 0.3), 0px 1px 3px 1px rgba(60, 64, 67, 0.15);\n",
              "      fill: #174EA6;\n",
              "    }\n",
              "\n",
              "    .colab-df-buttons div {\n",
              "      margin-bottom: 4px;\n",
              "    }\n",
              "\n",
              "    [theme=dark] .colab-df-convert {\n",
              "      background-color: #3B4455;\n",
              "      fill: #D2E3FC;\n",
              "    }\n",
              "\n",
              "    [theme=dark] .colab-df-convert:hover {\n",
              "      background-color: #434B5C;\n",
              "      box-shadow: 0px 1px 3px 1px rgba(0, 0, 0, 0.15);\n",
              "      filter: drop-shadow(0px 1px 2px rgba(0, 0, 0, 0.3));\n",
              "      fill: #FFFFFF;\n",
              "    }\n",
              "  </style>\n",
              "\n",
              "    <script>\n",
              "      const buttonEl =\n",
              "        document.querySelector('#df-f294df52-0636-4abe-8931-ade5b37d21e9 button.colab-df-convert');\n",
              "      buttonEl.style.display =\n",
              "        google.colab.kernel.accessAllowed ? 'block' : 'none';\n",
              "\n",
              "      async function convertToInteractive(key) {\n",
              "        const element = document.querySelector('#df-f294df52-0636-4abe-8931-ade5b37d21e9');\n",
              "        const dataTable =\n",
              "          await google.colab.kernel.invokeFunction('convertToInteractive',\n",
              "                                                    [key], {});\n",
              "        if (!dataTable) return;\n",
              "\n",
              "        const docLinkHtml = 'Like what you see? Visit the ' +\n",
              "          '<a target=\"_blank\" href=https://colab.research.google.com/notebooks/data_table.ipynb>data table notebook</a>'\n",
              "          + ' to learn more about interactive tables.';\n",
              "        element.innerHTML = '';\n",
              "        dataTable['output_type'] = 'display_data';\n",
              "        await google.colab.output.renderOutput(dataTable, element);\n",
              "        const docLink = document.createElement('div');\n",
              "        docLink.innerHTML = docLinkHtml;\n",
              "        element.appendChild(docLink);\n",
              "      }\n",
              "    </script>\n",
              "  </div>\n",
              "\n",
              "\n",
              "<div id=\"df-1b2edfb1-8d1b-44d1-940f-04b4803151f3\">\n",
              "  <button class=\"colab-df-quickchart\" onclick=\"quickchart('df-1b2edfb1-8d1b-44d1-940f-04b4803151f3')\"\n",
              "            title=\"Suggest charts\"\n",
              "            style=\"display:none;\">\n",
              "\n",
              "<svg xmlns=\"http://www.w3.org/2000/svg\" height=\"24px\"viewBox=\"0 0 24 24\"\n",
              "     width=\"24px\">\n",
              "    <g>\n",
              "        <path d=\"M19 3H5c-1.1 0-2 .9-2 2v14c0 1.1.9 2 2 2h14c1.1 0 2-.9 2-2V5c0-1.1-.9-2-2-2zM9 17H7v-7h2v7zm4 0h-2V7h2v10zm4 0h-2v-4h2v4z\"/>\n",
              "    </g>\n",
              "</svg>\n",
              "  </button>\n",
              "\n",
              "<style>\n",
              "  .colab-df-quickchart {\n",
              "      --bg-color: #E8F0FE;\n",
              "      --fill-color: #1967D2;\n",
              "      --hover-bg-color: #E2EBFA;\n",
              "      --hover-fill-color: #174EA6;\n",
              "      --disabled-fill-color: #AAA;\n",
              "      --disabled-bg-color: #DDD;\n",
              "  }\n",
              "\n",
              "  [theme=dark] .colab-df-quickchart {\n",
              "      --bg-color: #3B4455;\n",
              "      --fill-color: #D2E3FC;\n",
              "      --hover-bg-color: #434B5C;\n",
              "      --hover-fill-color: #FFFFFF;\n",
              "      --disabled-bg-color: #3B4455;\n",
              "      --disabled-fill-color: #666;\n",
              "  }\n",
              "\n",
              "  .colab-df-quickchart {\n",
              "    background-color: var(--bg-color);\n",
              "    border: none;\n",
              "    border-radius: 50%;\n",
              "    cursor: pointer;\n",
              "    display: none;\n",
              "    fill: var(--fill-color);\n",
              "    height: 32px;\n",
              "    padding: 0;\n",
              "    width: 32px;\n",
              "  }\n",
              "\n",
              "  .colab-df-quickchart:hover {\n",
              "    background-color: var(--hover-bg-color);\n",
              "    box-shadow: 0 1px 2px rgba(60, 64, 67, 0.3), 0 1px 3px 1px rgba(60, 64, 67, 0.15);\n",
              "    fill: var(--button-hover-fill-color);\n",
              "  }\n",
              "\n",
              "  .colab-df-quickchart-complete:disabled,\n",
              "  .colab-df-quickchart-complete:disabled:hover {\n",
              "    background-color: var(--disabled-bg-color);\n",
              "    fill: var(--disabled-fill-color);\n",
              "    box-shadow: none;\n",
              "  }\n",
              "\n",
              "  .colab-df-spinner {\n",
              "    border: 2px solid var(--fill-color);\n",
              "    border-color: transparent;\n",
              "    border-bottom-color: var(--fill-color);\n",
              "    animation:\n",
              "      spin 1s steps(1) infinite;\n",
              "  }\n",
              "\n",
              "  @keyframes spin {\n",
              "    0% {\n",
              "      border-color: transparent;\n",
              "      border-bottom-color: var(--fill-color);\n",
              "      border-left-color: var(--fill-color);\n",
              "    }\n",
              "    20% {\n",
              "      border-color: transparent;\n",
              "      border-left-color: var(--fill-color);\n",
              "      border-top-color: var(--fill-color);\n",
              "    }\n",
              "    30% {\n",
              "      border-color: transparent;\n",
              "      border-left-color: var(--fill-color);\n",
              "      border-top-color: var(--fill-color);\n",
              "      border-right-color: var(--fill-color);\n",
              "    }\n",
              "    40% {\n",
              "      border-color: transparent;\n",
              "      border-right-color: var(--fill-color);\n",
              "      border-top-color: var(--fill-color);\n",
              "    }\n",
              "    60% {\n",
              "      border-color: transparent;\n",
              "      border-right-color: var(--fill-color);\n",
              "    }\n",
              "    80% {\n",
              "      border-color: transparent;\n",
              "      border-right-color: var(--fill-color);\n",
              "      border-bottom-color: var(--fill-color);\n",
              "    }\n",
              "    90% {\n",
              "      border-color: transparent;\n",
              "      border-bottom-color: var(--fill-color);\n",
              "    }\n",
              "  }\n",
              "</style>\n",
              "\n",
              "  <script>\n",
              "    async function quickchart(key) {\n",
              "      const quickchartButtonEl =\n",
              "        document.querySelector('#' + key + ' button');\n",
              "      quickchartButtonEl.disabled = true;  // To prevent multiple clicks.\n",
              "      quickchartButtonEl.classList.add('colab-df-spinner');\n",
              "      try {\n",
              "        const charts = await google.colab.kernel.invokeFunction(\n",
              "            'suggestCharts', [key], {});\n",
              "      } catch (error) {\n",
              "        console.error('Error during call to suggestCharts:', error);\n",
              "      }\n",
              "      quickchartButtonEl.classList.remove('colab-df-spinner');\n",
              "      quickchartButtonEl.classList.add('colab-df-quickchart-complete');\n",
              "    }\n",
              "    (() => {\n",
              "      let quickchartButtonEl =\n",
              "        document.querySelector('#df-1b2edfb1-8d1b-44d1-940f-04b4803151f3 button');\n",
              "      quickchartButtonEl.style.display =\n",
              "        google.colab.kernel.accessAllowed ? 'block' : 'none';\n",
              "    })();\n",
              "  </script>\n",
              "</div>\n",
              "\n",
              "    </div>\n",
              "  </div>\n"
            ],
            "application/vnd.google.colaboratory.intrinsic+json": {
              "type": "dataframe",
              "variable_name": "store_df"
            }
          },
          "metadata": {},
          "execution_count": 7
        }
      ]
    },
    {
      "cell_type": "markdown",
      "source": [
        "# Displaying the column names in the dataset\n"
      ],
      "metadata": {
        "id": "6LSjFruPfjpX"
      }
    },
    {
      "cell_type": "code",
      "source": [
        "list(store_df.columns)"
      ],
      "metadata": {
        "id": "vjEu3cN5Ku1Q",
        "outputId": "2b9f7d91-8e1a-427d-e61d-e3ca974be4a0",
        "colab": {
          "base_uri": "https://localhost:8080/"
        }
      },
      "execution_count": null,
      "outputs": [
        {
          "output_type": "execute_result",
          "data": {
            "text/plain": [
              "['Id',\n",
              " 'Year_Birth',\n",
              " 'Education',\n",
              " 'Marital_Status',\n",
              " 'Income',\n",
              " 'Kidhome',\n",
              " 'Teenhome',\n",
              " 'Dt_Customer',\n",
              " 'Recency',\n",
              " 'MntWines',\n",
              " 'MntFruits',\n",
              " 'MntMeatProducts',\n",
              " 'MntFishProducts',\n",
              " 'MntSweetProducts',\n",
              " 'MntGoldProds',\n",
              " 'NumDealsPurchases',\n",
              " 'NumWebPurchases',\n",
              " 'NumCatalogPurchases',\n",
              " 'NumStorePurchases',\n",
              " 'NumWebVisitsMonth',\n",
              " 'Response',\n",
              " 'Complain']"
            ]
          },
          "metadata": {},
          "execution_count": 8
        }
      ]
    },
    {
      "cell_type": "code",
      "source": [
        "store_df.shape"
      ],
      "metadata": {
        "colab": {
          "base_uri": "https://localhost:8080/"
        },
        "id": "vGoTIN3LLe1S",
        "outputId": "db54d29b-09de-4e95-aa98-25cf4b13509a"
      },
      "execution_count": null,
      "outputs": [
        {
          "output_type": "execute_result",
          "data": {
            "text/plain": [
              "(2240, 22)"
            ]
          },
          "metadata": {},
          "execution_count": 9
        }
      ]
    },
    {
      "cell_type": "markdown",
      "source": [
        "The dataset consisits of 2240 rows and 22 columns."
      ],
      "metadata": {
        "id": "JYk-G00oMD5S"
      }
    },
    {
      "cell_type": "markdown",
      "source": [
        "# Information about the dataset\n"
      ],
      "metadata": {
        "id": "MZNQTGXNftkd"
      }
    },
    {
      "cell_type": "code",
      "source": [
        "# Displaying the basic information about the dataset\n",
        "store_df.info()"
      ],
      "metadata": {
        "id": "gS_FMAPcMeKS",
        "outputId": "9650d15d-0e1a-431c-a7b6-0ceeab28ab63",
        "colab": {
          "base_uri": "https://localhost:8080/"
        }
      },
      "execution_count": null,
      "outputs": [
        {
          "output_type": "stream",
          "name": "stdout",
          "text": [
            "<class 'pandas.core.frame.DataFrame'>\n",
            "RangeIndex: 2240 entries, 0 to 2239\n",
            "Data columns (total 22 columns):\n",
            " #   Column               Non-Null Count  Dtype  \n",
            "---  ------               --------------  -----  \n",
            " 0   Id                   2240 non-null   int64  \n",
            " 1   Year_Birth           2240 non-null   int64  \n",
            " 2   Education            2240 non-null   object \n",
            " 3   Marital_Status       2240 non-null   object \n",
            " 4   Income               2216 non-null   float64\n",
            " 5   Kidhome              2240 non-null   int64  \n",
            " 6   Teenhome             2240 non-null   int64  \n",
            " 7   Dt_Customer          2240 non-null   object \n",
            " 8   Recency              2240 non-null   int64  \n",
            " 9   MntWines             2240 non-null   int64  \n",
            " 10  MntFruits            2240 non-null   int64  \n",
            " 11  MntMeatProducts      2240 non-null   int64  \n",
            " 12  MntFishProducts      2240 non-null   int64  \n",
            " 13  MntSweetProducts     2240 non-null   int64  \n",
            " 14  MntGoldProds         2240 non-null   int64  \n",
            " 15  NumDealsPurchases    2240 non-null   int64  \n",
            " 16  NumWebPurchases      2240 non-null   int64  \n",
            " 17  NumCatalogPurchases  2240 non-null   int64  \n",
            " 18  NumStorePurchases    2240 non-null   int64  \n",
            " 19  NumWebVisitsMonth    2240 non-null   int64  \n",
            " 20  Response             2240 non-null   int64  \n",
            " 21  Complain             2240 non-null   int64  \n",
            "dtypes: float64(1), int64(18), object(3)\n",
            "memory usage: 385.1+ KB\n"
          ]
        }
      ]
    },
    {
      "cell_type": "markdown",
      "source": [
        "# Checking Null values\n"
      ],
      "metadata": {
        "id": "OtVs3Ekef87a"
      }
    },
    {
      "cell_type": "code",
      "source": [
        "store_df.isna().sum()"
      ],
      "metadata": {
        "id": "kc4-f40FMeXS",
        "outputId": "2d51e316-df39-47fb-85ee-e012e31e299a",
        "colab": {
          "base_uri": "https://localhost:8080/"
        }
      },
      "execution_count": null,
      "outputs": [
        {
          "output_type": "execute_result",
          "data": {
            "text/plain": [
              "Id                      0\n",
              "Year_Birth              0\n",
              "Education               0\n",
              "Marital_Status          0\n",
              "Income                 24\n",
              "Kidhome                 0\n",
              "Teenhome                0\n",
              "Dt_Customer             0\n",
              "Recency                 0\n",
              "MntWines                0\n",
              "MntFruits               0\n",
              "MntMeatProducts         0\n",
              "MntFishProducts         0\n",
              "MntSweetProducts        0\n",
              "MntGoldProds            0\n",
              "NumDealsPurchases       0\n",
              "NumWebPurchases         0\n",
              "NumCatalogPurchases     0\n",
              "NumStorePurchases       0\n",
              "NumWebVisitsMonth       0\n",
              "Response                0\n",
              "Complain                0\n",
              "dtype: int64"
            ]
          },
          "metadata": {},
          "execution_count": 11
        }
      ]
    },
    {
      "cell_type": "markdown",
      "source": [
        "The superstore data set contains 24 missing values in Income Column"
      ],
      "metadata": {
        "id": "xDERskZf36hr"
      }
    },
    {
      "cell_type": "markdown",
      "source": [
        "# Checking duplicate Values"
      ],
      "metadata": {
        "id": "8G2hy8Pg3pto"
      }
    },
    {
      "cell_type": "code",
      "source": [
        "store_df.duplicated().sum()"
      ],
      "metadata": {
        "colab": {
          "base_uri": "https://localhost:8080/"
        },
        "id": "z7kqohsm3o0p",
        "outputId": "62a6d0a3-a22a-4d2c-81d0-bc3d16f35886"
      },
      "execution_count": null,
      "outputs": [
        {
          "output_type": "execute_result",
          "data": {
            "text/plain": [
              "0"
            ]
          },
          "metadata": {},
          "execution_count": 12
        }
      ]
    },
    {
      "cell_type": "markdown",
      "source": [
        "There is no duplicate value present in the data set"
      ],
      "metadata": {
        "id": "e-lwWTW14GGl"
      }
    },
    {
      "cell_type": "markdown",
      "source": [
        "# Checking the format of the date\n"
      ],
      "metadata": {
        "id": "9o2y7A1pgWxs"
      }
    },
    {
      "cell_type": "code",
      "source": [
        "print(store_df['Dt_Customer'].dtypes)"
      ],
      "metadata": {
        "id": "iRi-zFmzMegu",
        "outputId": "ab505344-fee3-414d-c6ba-04e719654b2c",
        "colab": {
          "base_uri": "https://localhost:8080/"
        }
      },
      "execution_count": null,
      "outputs": [
        {
          "output_type": "stream",
          "name": "stdout",
          "text": [
            "object\n"
          ]
        }
      ]
    },
    {
      "cell_type": "markdown",
      "source": [
        "# 1. Data Cleaning and Preprocessing"
      ],
      "metadata": {
        "id": "W7lc2qhqzeis"
      }
    },
    {
      "cell_type": "markdown",
      "source": [
        "**Filling Null values with Mean**"
      ],
      "metadata": {
        "id": "6NlsSkmg4XuA"
      }
    },
    {
      "cell_type": "code",
      "source": [
        "store_df['Income'] = store_df['Income'].fillna(store_df['Income'].mean())"
      ],
      "metadata": {
        "id": "kibo1QUV4O30"
      },
      "execution_count": null,
      "outputs": []
    },
    {
      "cell_type": "code",
      "source": [
        "sns.boxplot(x=store_df['Income'])\n",
        "plt.show()"
      ],
      "metadata": {
        "colab": {
          "base_uri": "https://localhost:8080/",
          "height": 449
        },
        "id": "lL5cYYbu2XV1",
        "outputId": "41a6f682-90ae-4965-b824-fe1db2e9ae92"
      },
      "execution_count": null,
      "outputs": [
        {
          "output_type": "display_data",
          "data": {
            "text/plain": [
              "<Figure size 640x480 with 1 Axes>"
            ],
            "image/png": "[encoded data removed]"
          },
          "metadata": {}
        }
      ]
    },
    {
      "cell_type": "markdown",
      "source": [
        "The Income column contains outliers,it need to be treated with IQR Technique."
      ],
      "metadata": {
        "id": "1AR0AagH4hUv"
      }
    },
    {
      "cell_type": "markdown",
      "source": [
        "INTER QUARTILE RANGE TECHNIQUE(IQR)"
      ],
      "metadata": {
        "id": "3qqcfa5h4zyB"
      }
    },
    {
      "cell_type": "code",
      "source": [
        "Q1 = store_df['Income'].quantile(0.25)\n",
        "Q3 = store_df['Income'].quantile(0.75)\n",
        "IQR = Q3 - Q1\n",
        "\n",
        "# Define a multiplier for the IQR. A common practice is to use 1.5, meaning any data point less than Q1-1.5*IQR or greater than Q3+1.5*IQR is considered an outlier.\n",
        "multiplier = 1.5\n",
        "store_df = store_df[~((store_df['Income'] < (Q1 - multiplier * IQR)) | (store_df['Income'] > (Q3 + multiplier * IQR)))]"
      ],
      "metadata": {
        "id": "VldcNA9_3EEr"
      },
      "execution_count": null,
      "outputs": []
    },
    {
      "cell_type": "code",
      "source": [
        "sns.boxplot(x=store_df['Income'])\n",
        "plt.show()"
      ],
      "metadata": {
        "colab": {
          "base_uri": "https://localhost:8080/",
          "height": 449
        },
        "id": "3lIOQG_O3XR-",
        "outputId": "712a9ba2-6560-47bc-e713-e7bc95bb9145"
      },
      "execution_count": null,
      "outputs": [
        {
          "output_type": "display_data",
          "data": {
            "text/plain": [
              "<Figure size 640x480 with 1 Axes>"
            ],
            "image/png": "[encoded data removed]"
          },
          "metadata": {}
        }
      ]
    },
    {
      "cell_type": "code",
      "source": [
        "store_df['Income'].max()"
      ],
      "metadata": {
        "colab": {
          "base_uri": "https://localhost:8080/"
        },
        "id": "nAtrTve83aJ2",
        "outputId": "bb924d4e-e673-421b-94ac-185a452cd34c"
      },
      "execution_count": null,
      "outputs": [
        {
          "output_type": "execute_result",
          "data": {
            "text/plain": [
              "113734.0"
            ]
          },
          "metadata": {},
          "execution_count": 18
        }
      ]
    },
    {
      "cell_type": "code",
      "source": [
        "store_df['Income'].min()"
      ],
      "metadata": {
        "colab": {
          "base_uri": "https://localhost:8080/"
        },
        "id": "vgJJW2h13ddV",
        "outputId": "815e632b-1407-4b52-b5e9-bfdb69aba16b"
      },
      "execution_count": null,
      "outputs": [
        {
          "output_type": "execute_result",
          "data": {
            "text/plain": [
              "1730.0"
            ]
          },
          "metadata": {},
          "execution_count": 19
        }
      ]
    },
    {
      "cell_type": "markdown",
      "source": [
        "After removing outlier the maximum income is 113734 and minimum income is 1730."
      ],
      "metadata": {
        "id": "j28yBBOp4_XU"
      }
    },
    {
      "cell_type": "code",
      "source": [
        "store_df['Income'] = store_df['Income'].astype(int)"
      ],
      "metadata": {
        "id": "dYZTwHdm5ZbH"
      },
      "execution_count": null,
      "outputs": []
    },
    {
      "cell_type": "code",
      "source": [
        "store_df['Dt_Customer'] = store_df['Dt_Customer'].replace('########', pd.NaT)"
      ],
      "metadata": {
        "id": "FhK4OCM36pth"
      },
      "execution_count": null,
      "outputs": []
    },
    {
      "cell_type": "code",
      "source": [
        "# store_df['Dt_Customer'] = pd.to_datetime(store_df['Dt_Customer'])"
      ],
      "metadata": {
        "id": "qpmuhSOl-nyU"
      },
      "execution_count": null,
      "outputs": []
    },
    {
      "cell_type": "code",
      "source": [
        "store_df.head()"
      ],
      "metadata": {
        "colab": {
          "base_uri": "https://localhost:8080/",
          "height": 255
        },
        "id": "NHMSnHn5-qZ8",
        "outputId": "0ea7517a-adce-4779-fee0-a39295eb3f7f"
      },
      "execution_count": null,
      "outputs": [
        {
          "output_type": "execute_result",
          "data": {
            "text/plain": [
              "      Id  Year_Birth   Education Marital_Status  Income  Kidhome  Teenhome  \\\n",
              "0   1826        1970  Graduation       Divorced   84835        0         0   \n",
              "1      1        1961  Graduation         Single   57091        0         0   \n",
              "2  10476        1958  Graduation        Married   67267        0         1   \n",
              "3   1386        1967  Graduation       Together   32474        1         1   \n",
              "4   5371        1989  Graduation         Single   21474        1         0   \n",
              "\n",
              "  Dt_Customer  Recency  MntWines  ...  MntFishProducts  MntSweetProducts  \\\n",
              "0   6/16/2014        0       189  ...              111               189   \n",
              "1   6/15/2014        0       464  ...                7                 0   \n",
              "2   5/13/2014        0       134  ...               15                 2   \n",
              "3         NaT        0        10  ...                0                 0   \n",
              "4         NaT        0         6  ...               11                 0   \n",
              "\n",
              "   MntGoldProds  NumDealsPurchases  NumWebPurchases  NumCatalogPurchases  \\\n",
              "0           218                  1                4                    4   \n",
              "1            37                  1                7                    3   \n",
              "2            30                  1                3                    2   \n",
              "3             0                  1                1                    0   \n",
              "4            34                  2                3                    1   \n",
              "\n",
              "   NumStorePurchases  NumWebVisitsMonth  Response  Complain  \n",
              "0                  6                  1         1         0  \n",
              "1                  7                  5         1         0  \n",
              "2                  5                  2         0         0  \n",
              "3                  2                  7         0         0  \n",
              "4                  2                  7         1         0  \n",
              "\n",
              "[5 rows x 22 columns]"
            ],
            "text/html": [
              "\n",
              "  <div id=\"df-494be8c1-af8f-4fa5-bbc1-5f8f9661ab25\" class=\"colab-df-container\">\n",
              "    <div>\n",
              "<style scoped>\n",
              "    .dataframe tbody tr th:only-of-type {\n",
              "        vertical-align: middle;\n",
              "    }\n",
              "\n",
              "    .dataframe tbody tr th {\n",
              "        vertical-align: top;\n",
              "    }\n",
              "\n",
              "    .dataframe thead th {\n",
              "        text-align: right;\n",
              "    }\n",
              "</style>\n",
              "<table border=\"1\" class=\"dataframe\">\n",
              "  <thead>\n",
              "    <tr style=\"text-align: right;\">\n",
              "      <th></th>\n",
              "      <th>Id</th>\n",
              "      <th>Year_Birth</th>\n",
              "      <th>Education</th>\n",
              "      <th>Marital_Status</th>\n",
              "      <th>Income</th>\n",
              "      <th>Kidhome</th>\n",
              "      <th>Teenhome</th>\n",
              "      <th>Dt_Customer</th>\n",
              "      <th>Recency</th>\n",
              "      <th>MntWines</th>\n",
              "      <th>...</th>\n",
              "      <th>MntFishProducts</th>\n",
              "      <th>MntSweetProducts</th>\n",
              "      <th>MntGoldProds</th>\n",
              "      <th>NumDealsPurchases</th>\n",
              "      <th>NumWebPurchases</th>\n",
              "      <th>NumCatalogPurchases</th>\n",
              "      <th>NumStorePurchases</th>\n",
              "      <th>NumWebVisitsMonth</th>\n",
              "      <th>Response</th>\n",
              "      <th>Complain</th>\n",
              "    </tr>\n",
              "  </thead>\n",
              "  <tbody>\n",
              "    <tr>\n",
              "      <th>0</th>\n",
              "      <td>1826</td>\n",
              "      <td>1970</td>\n",
              "      <td>Graduation</td>\n",
              "      <td>Divorced</td>\n",
              "      <td>84835</td>\n",
              "      <td>0</td>\n",
              "      <td>0</td>\n",
              "      <td>6/16/2014</td>\n",
              "      <td>0</td>\n",
              "      <td>189</td>\n",
              "      <td>...</td>\n",
              "      <td>111</td>\n",
              "      <td>189</td>\n",
              "      <td>218</td>\n",
              "      <td>1</td>\n",
              "      <td>4</td>\n",
              "      <td>4</td>\n",
              "      <td>6</td>\n",
              "      <td>1</td>\n",
              "      <td>1</td>\n",
              "      <td>0</td>\n",
              "    </tr>\n",
              "    <tr>\n",
              "      <th>1</th>\n",
              "      <td>1</td>\n",
              "      <td>1961</td>\n",
              "      <td>Graduation</td>\n",
              "      <td>Single</td>\n",
              "      <td>57091</td>\n",
              "      <td>0</td>\n",
              "      <td>0</td>\n",
              "      <td>6/15/2014</td>\n",
              "      <td>0</td>\n",
              "      <td>464</td>\n",
              "      <td>...</td>\n",
              "      <td>7</td>\n",
              "      <td>0</td>\n",
              "      <td>37</td>\n",
              "      <td>1</td>\n",
              "      <td>7</td>\n",
              "      <td>3</td>\n",
              "      <td>7</td>\n",
              "      <td>5</td>\n",
              "      <td>1</td>\n",
              "      <td>0</td>\n",
              "    </tr>\n",
              "    <tr>\n",
              "      <th>2</th>\n",
              "      <td>10476</td>\n",
              "      <td>1958</td>\n",
              "      <td>Graduation</td>\n",
              "      <td>Married</td>\n",
              "      <td>67267</td>\n",
              "      <td>0</td>\n",
              "      <td>1</td>\n",
              "      <td>5/13/2014</td>\n",
              "      <td>0</td>\n",
              "      <td>134</td>\n",
              "      <td>...</td>\n",
              "      <td>15</td>\n",
              "      <td>2</td>\n",
              "      <td>30</td>\n",
              "      <td>1</td>\n",
              "      <td>3</td>\n",
              "      <td>2</td>\n",
              "      <td>5</td>\n",
              "      <td>2</td>\n",
              "      <td>0</td>\n",
              "      <td>0</td>\n",
              "    </tr>\n",
              "    <tr>\n",
              "      <th>3</th>\n",
              "      <td>1386</td>\n",
              "      <td>1967</td>\n",
              "      <td>Graduation</td>\n",
              "      <td>Together</td>\n",
              "      <td>32474</td>\n",
              "      <td>1</td>\n",
              "      <td>1</td>\n",
              "      <td>NaT</td>\n",
              "      <td>0</td>\n",
              "      <td>10</td>\n",
              "      <td>...</td>\n",
              "      <td>0</td>\n",
              "      <td>0</td>\n",
              "      <td>0</td>\n",
              "      <td>1</td>\n",
              "      <td>1</td>\n",
              "      <td>0</td>\n",
              "      <td>2</td>\n",
              "      <td>7</td>\n",
              "      <td>0</td>\n",
              "      <td>0</td>\n",
              "    </tr>\n",
              "    <tr>\n",
              "      <th>4</th>\n",
              "      <td>5371</td>\n",
              "      <td>1989</td>\n",
              "      <td>Graduation</td>\n",
              "      <td>Single</td>\n",
              "      <td>21474</td>\n",
              "      <td>1</td>\n",
              "      <td>0</td>\n",
              "      <td>NaT</td>\n",
              "      <td>0</td>\n",
              "      <td>6</td>\n",
              "      <td>...</td>\n",
              "      <td>11</td>\n",
              "      <td>0</td>\n",
              "      <td>34</td>\n",
              "      <td>2</td>\n",
              "      <td>3</td>\n",
              "      <td>1</td>\n",
              "      <td>2</td>\n",
              "      <td>7</td>\n",
              "      <td>1</td>\n",
              "      <td>0</td>\n",
              "    </tr>\n",
              "  </tbody>\n",
              "</table>\n",
              "<p>5 rows × 22 columns</p>\n",
              "</div>\n",
              "    <div class=\"colab-df-buttons\">\n",
              "\n",
              "  <div class=\"colab-df-container\">\n",
              "    <button class=\"colab-df-convert\" onclick=\"convertToInteractive('df-494be8c1-af8f-4fa5-bbc1-5f8f9661ab25')\"\n",
              "            title=\"Convert this dataframe to an interactive table.\"\n",
              "            style=\"display:none;\">\n",
              "\n",
              "  <svg xmlns=\"http://www.w3.org/2000/svg\" height=\"24px\" viewBox=\"0 -960 960 960\">\n",
              "    <path d=\"M120-120v-720h720v720H120Zm60-500h600v-160H180v160Zm220 220h160v-160H400v160Zm0 220h160v-160H400v160ZM180-400h160v-160H180v160Zm440 0h160v-160H620v160ZM180-180h160v-160H180v160Zm440 0h160v-160H620v160Z\"/>\n",
              "  </svg>\n",
              "    </button>\n",
              "\n",
              "  <style>\n",
              "    .colab-df-container {\n",
              "      display:flex;\n",
              "      gap: 12px;\n",
              "    }\n",
              "\n",
              "    .colab-df-convert {\n",
              "      background-color: #E8F0FE;\n",
              "      border: none;\n",
              "      border-radius: 50%;\n",
              "      cursor: pointer;\n",
              "      display: none;\n",
              "      fill: #1967D2;\n",
              "      height: 32px;\n",
              "      padding: 0 0 0 0;\n",
              "      width: 32px;\n",
              "    }\n",
              "\n",
              "    .colab-df-convert:hover {\n",
              "      background-color: #E2EBFA;\n",
              "      box-shadow: 0px 1px 2px rgba(60, 64, 67, 0.3), 0px 1px 3px 1px rgba(60, 64, 67, 0.15);\n",
              "      fill: #174EA6;\n",
              "    }\n",
              "\n",
              "    .colab-df-buttons div {\n",
              "      margin-bottom: 4px;\n",
              "    }\n",
              "\n",
              "    [theme=dark] .colab-df-convert {\n",
              "      background-color: #3B4455;\n",
              "      fill: #D2E3FC;\n",
              "    }\n",
              "\n",
              "    [theme=dark] .colab-df-convert:hover {\n",
              "      background-color: #434B5C;\n",
              "      box-shadow: 0px 1px 3px 1px rgba(0, 0, 0, 0.15);\n",
              "      filter: drop-shadow(0px 1px 2px rgba(0, 0, 0, 0.3));\n",
              "      fill: #FFFFFF;\n",
              "    }\n",
              "  </style>\n",
              "\n",
              "    <script>\n",
              "      const buttonEl =\n",
              "        document.querySelector('#df-494be8c1-af8f-4fa5-bbc1-5f8f9661ab25 button.colab-df-convert');\n",
              "      buttonEl.style.display =\n",
              "        google.colab.kernel.accessAllowed ? 'block' : 'none';\n",
              "\n",
              "      async function convertToInteractive(key) {\n",
              "        const element = document.querySelector('#df-494be8c1-af8f-4fa5-bbc1-5f8f9661ab25');\n",
              "        const dataTable =\n",
              "          await google.colab.kernel.invokeFunction('convertToInteractive',\n",
              "                                                    [key], {});\n",
              "        if (!dataTable) return;\n",
              "\n",
              "        const docLinkHtml = 'Like what you see? Visit the ' +\n",
              "          '<a target=\"_blank\" href=https://colab.research.google.com/notebooks/data_table.ipynb>data table notebook</a>'\n",
              "          + ' to learn more about interactive tables.';\n",
              "        element.innerHTML = '';\n",
              "        dataTable['output_type'] = 'display_data';\n",
              "        await google.colab.output.renderOutput(dataTable, element);\n",
              "        const docLink = document.createElement('div');\n",
              "        docLink.innerHTML = docLinkHtml;\n",
              "        element.appendChild(docLink);\n",
              "      }\n",
              "    </script>\n",
              "  </div>\n",
              "\n",
              "\n",
              "<div id=\"df-d3b699ea-917c-4097-bc35-645cf2cb21d2\">\n",
              "  <button class=\"colab-df-quickchart\" onclick=\"quickchart('df-d3b699ea-917c-4097-bc35-645cf2cb21d2')\"\n",
              "            title=\"Suggest charts\"\n",
              "            style=\"display:none;\">\n",
              "\n",
              "<svg xmlns=\"http://www.w3.org/2000/svg\" height=\"24px\"viewBox=\"0 0 24 24\"\n",
              "     width=\"24px\">\n",
              "    <g>\n",
              "        <path d=\"M19 3H5c-1.1 0-2 .9-2 2v14c0 1.1.9 2 2 2h14c1.1 0 2-.9 2-2V5c0-1.1-.9-2-2-2zM9 17H7v-7h2v7zm4 0h-2V7h2v10zm4 0h-2v-4h2v4z\"/>\n",
              "    </g>\n",
              "</svg>\n",
              "  </button>\n",
              "\n",
              "<style>\n",
              "  .colab-df-quickchart {\n",
              "      --bg-color: #E8F0FE;\n",
              "      --fill-color: #1967D2;\n",
              "      --hover-bg-color: #E2EBFA;\n",
              "      --hover-fill-color: #174EA6;\n",
              "      --disabled-fill-color: #AAA;\n",
              "      --disabled-bg-color: #DDD;\n",
              "  }\n",
              "\n",
              "  [theme=dark] .colab-df-quickchart {\n",
              "      --bg-color: #3B4455;\n",
              "      --fill-color: #D2E3FC;\n",
              "      --hover-bg-color: #434B5C;\n",
              "      --hover-fill-color: #FFFFFF;\n",
              "      --disabled-bg-color: #3B4455;\n",
              "      --disabled-fill-color: #666;\n",
              "  }\n",
              "\n",
              "  .colab-df-quickchart {\n",
              "    background-color: var(--bg-color);\n",
              "    border: none;\n",
              "    border-radius: 50%;\n",
              "    cursor: pointer;\n",
              "    display: none;\n",
              "    fill: var(--fill-color);\n",
              "    height: 32px;\n",
              "    padding: 0;\n",
              "    width: 32px;\n",
              "  }\n",
              "\n",
              "  .colab-df-quickchart:hover {\n",
              "    background-color: var(--hover-bg-color);\n",
              "    box-shadow: 0 1px 2px rgba(60, 64, 67, 0.3), 0 1px 3px 1px rgba(60, 64, 67, 0.15);\n",
              "    fill: var(--button-hover-fill-color);\n",
              "  }\n",
              "\n",
              "  .colab-df-quickchart-complete:disabled,\n",
              "  .colab-df-quickchart-complete:disabled:hover {\n",
              "    background-color: var(--disabled-bg-color);\n",
              "    fill: var(--disabled-fill-color);\n",
              "    box-shadow: none;\n",
              "  }\n",
              "\n",
              "  .colab-df-spinner {\n",
              "    border: 2px solid var(--fill-color);\n",
              "    border-color: transparent;\n",
              "    border-bottom-color: var(--fill-color);\n",
              "    animation:\n",
              "      spin 1s steps(1) infinite;\n",
              "  }\n",
              "\n",
              "  @keyframes spin {\n",
              "    0% {\n",
              "      border-color: transparent;\n",
              "      border-bottom-color: var(--fill-color);\n",
              "      border-left-color: var(--fill-color);\n",
              "    }\n",
              "    20% {\n",
              "      border-color: transparent;\n",
              "      border-left-color: var(--fill-color);\n",
              "      border-top-color: var(--fill-color);\n",
              "    }\n",
              "    30% {\n",
              "      border-color: transparent;\n",
              "      border-left-color: var(--fill-color);\n",
              "      border-top-color: var(--fill-color);\n",
              "      border-right-color: var(--fill-color);\n",
              "    }\n",
              "    40% {\n",
              "      border-color: transparent;\n",
              "      border-right-color: var(--fill-color);\n",
              "      border-top-color: var(--fill-color);\n",
              "    }\n",
              "    60% {\n",
              "      border-color: transparent;\n",
              "      border-right-color: var(--fill-color);\n",
              "    }\n",
              "    80% {\n",
              "      border-color: transparent;\n",
              "      border-right-color: var(--fill-color);\n",
              "      border-bottom-color: var(--fill-color);\n",
              "    }\n",
              "    90% {\n",
              "      border-color: transparent;\n",
              "      border-bottom-color: var(--fill-color);\n",
              "    }\n",
              "  }\n",
              "</style>\n",
              "\n",
              "  <script>\n",
              "    async function quickchart(key) {\n",
              "      const quickchartButtonEl =\n",
              "        document.querySelector('#' + key + ' button');\n",
              "      quickchartButtonEl.disabled = true;  // To prevent multiple clicks.\n",
              "      quickchartButtonEl.classList.add('colab-df-spinner');\n",
              "      try {\n",
              "        const charts = await google.colab.kernel.invokeFunction(\n",
              "            'suggestCharts', [key], {});\n",
              "      } catch (error) {\n",
              "        console.error('Error during call to suggestCharts:', error);\n",
              "      }\n",
              "      quickchartButtonEl.classList.remove('colab-df-spinner');\n",
              "      quickchartButtonEl.classList.add('colab-df-quickchart-complete');\n",
              "    }\n",
              "    (() => {\n",
              "      let quickchartButtonEl =\n",
              "        document.querySelector('#df-d3b699ea-917c-4097-bc35-645cf2cb21d2 button');\n",
              "      quickchartButtonEl.style.display =\n",
              "        google.colab.kernel.accessAllowed ? 'block' : 'none';\n",
              "    })();\n",
              "  </script>\n",
              "</div>\n",
              "\n",
              "    </div>\n",
              "  </div>\n"
            ],
            "application/vnd.google.colaboratory.intrinsic+json": {
              "type": "dataframe",
              "variable_name": "store_df"
            }
          },
          "metadata": {},
          "execution_count": 23
        }
      ]
    },
    {
      "cell_type": "code",
      "source": [
        "store_df.info()"
      ],
      "metadata": {
        "colab": {
          "base_uri": "https://localhost:8080/"
        },
        "id": "MachIulG-2se",
        "outputId": "98f906b6-cac8-46ab-e9a5-4a604ee65ec9"
      },
      "execution_count": null,
      "outputs": [
        {
          "output_type": "stream",
          "name": "stdout",
          "text": [
            "<class 'pandas.core.frame.DataFrame'>\n",
            "Int64Index: 2232 entries, 0 to 2239\n",
            "Data columns (total 22 columns):\n",
            " #   Column               Non-Null Count  Dtype \n",
            "---  ------               --------------  ----- \n",
            " 0   Id                   2232 non-null   int64 \n",
            " 1   Year_Birth           2232 non-null   int64 \n",
            " 2   Education            2232 non-null   object\n",
            " 3   Marital_Status       2232 non-null   object\n",
            " 4   Income               2232 non-null   int64 \n",
            " 5   Kidhome              2232 non-null   int64 \n",
            " 6   Teenhome             2232 non-null   int64 \n",
            " 7   Dt_Customer          1322 non-null   object\n",
            " 8   Recency              2232 non-null   int64 \n",
            " 9   MntWines             2232 non-null   int64 \n",
            " 10  MntFruits            2232 non-null   int64 \n",
            " 11  MntMeatProducts      2232 non-null   int64 \n",
            " 12  MntFishProducts      2232 non-null   int64 \n",
            " 13  MntSweetProducts     2232 non-null   int64 \n",
            " 14  MntGoldProds         2232 non-null   int64 \n",
            " 15  NumDealsPurchases    2232 non-null   int64 \n",
            " 16  NumWebPurchases      2232 non-null   int64 \n",
            " 17  NumCatalogPurchases  2232 non-null   int64 \n",
            " 18  NumStorePurchases    2232 non-null   int64 \n",
            " 19  NumWebVisitsMonth    2232 non-null   int64 \n",
            " 20  Response             2232 non-null   int64 \n",
            " 21  Complain             2232 non-null   int64 \n",
            "dtypes: int64(19), object(3)\n",
            "memory usage: 401.1+ KB\n"
          ]
        }
      ]
    },
    {
      "cell_type": "code",
      "source": [
        "store_df['Dt_Customer']"
      ],
      "metadata": {
        "colab": {
          "base_uri": "https://localhost:8080/"
        },
        "id": "dvMIP92-_Zta",
        "outputId": "b45ec10f-9619-4056-f3c9-a478160a12ba"
      },
      "execution_count": null,
      "outputs": [
        {
          "output_type": "execute_result",
          "data": {
            "text/plain": [
              "0        6/16/2014\n",
              "1        6/15/2014\n",
              "2        5/13/2014\n",
              "3              NaT\n",
              "4              NaT\n",
              "           ...    \n",
              "2235           NaT\n",
              "2236     1/22/2013\n",
              "2237           NaT\n",
              "2238    11/29/2012\n",
              "2239           NaT\n",
              "Name: Dt_Customer, Length: 2232, dtype: object"
            ]
          },
          "metadata": {},
          "execution_count": 25
        }
      ]
    },
    {
      "cell_type": "code",
      "source": [
        "store_df['Dt_Customer'] = pd.to_datetime(store_df['Dt_Customer'], errors='coerce')"
      ],
      "metadata": {
        "id": "Js0qQ3_JAdkE"
      },
      "execution_count": null,
      "outputs": []
    },
    {
      "cell_type": "code",
      "source": [
        "store_df['Dt_Customer'] = pd.to_datetime(store_df['Dt_Customer'], format='%Y/%m/%d', errors='coerce')"
      ],
      "metadata": {
        "id": "828pnh4wAgQD"
      },
      "execution_count": null,
      "outputs": []
    },
    {
      "cell_type": "code",
      "source": [
        "store_df['Dt_Customer'].fillna(method='ffill', inplace=True)"
      ],
      "metadata": {
        "id": "qhN-fILl6vGb"
      },
      "execution_count": null,
      "outputs": []
    },
    {
      "cell_type": "code",
      "source": [
        "store_df['Dt_Customer']"
      ],
      "metadata": {
        "colab": {
          "base_uri": "https://localhost:8080/"
        },
        "id": "QtERCtWLAnJV",
        "outputId": "5327bcd8-4027-4fac-a55a-c7234cd1ba33"
      },
      "execution_count": null,
      "outputs": [
        {
          "output_type": "execute_result",
          "data": {
            "text/plain": [
              "0      2014-06-16\n",
              "1      2014-06-15\n",
              "2      2014-05-13\n",
              "3      2014-05-13\n",
              "4      2014-05-13\n",
              "          ...    \n",
              "2235   2013-09-17\n",
              "2236   2013-01-22\n",
              "2237   2013-01-22\n",
              "2238   2012-11-29\n",
              "2239   2012-11-29\n",
              "Name: Dt_Customer, Length: 2232, dtype: datetime64[ns]"
            ]
          },
          "metadata": {},
          "execution_count": 29
        }
      ]
    },
    {
      "cell_type": "code",
      "source": [
        "store_df.head()"
      ],
      "metadata": {
        "colab": {
          "base_uri": "https://localhost:8080/",
          "height": 255
        },
        "id": "7AnOo_Rl_ASY",
        "outputId": "634284c7-9613-4564-f9bf-a3cfb6223742"
      },
      "execution_count": null,
      "outputs": [
        {
          "output_type": "execute_result",
          "data": {
            "text/plain": [
              "      Id  Year_Birth   Education Marital_Status  Income  Kidhome  Teenhome  \\\n",
              "0   1826        1970  Graduation       Divorced   84835        0         0   \n",
              "1      1        1961  Graduation         Single   57091        0         0   \n",
              "2  10476        1958  Graduation        Married   67267        0         1   \n",
              "3   1386        1967  Graduation       Together   32474        1         1   \n",
              "4   5371        1989  Graduation         Single   21474        1         0   \n",
              "\n",
              "  Dt_Customer  Recency  MntWines  ...  MntFishProducts  MntSweetProducts  \\\n",
              "0  2014-06-16        0       189  ...              111               189   \n",
              "1  2014-06-15        0       464  ...                7                 0   \n",
              "2  2014-05-13        0       134  ...               15                 2   \n",
              "3  2014-05-13        0        10  ...                0                 0   \n",
              "4  2014-05-13        0         6  ...               11                 0   \n",
              "\n",
              "   MntGoldProds  NumDealsPurchases  NumWebPurchases  NumCatalogPurchases  \\\n",
              "0           218                  1                4                    4   \n",
              "1            37                  1                7                    3   \n",
              "2            30                  1                3                    2   \n",
              "3             0                  1                1                    0   \n",
              "4            34                  2                3                    1   \n",
              "\n",
              "   NumStorePurchases  NumWebVisitsMonth  Response  Complain  \n",
              "0                  6                  1         1         0  \n",
              "1                  7                  5         1         0  \n",
              "2                  5                  2         0         0  \n",
              "3                  2                  7         0         0  \n",
              "4                  2                  7         1         0  \n",
              "\n",
              "[5 rows x 22 columns]"
            ],
            "text/html": [
              "\n",
              "  <div id=\"df-9ad65054-537d-468b-8dd5-38f72f6b7b07\" class=\"colab-df-container\">\n",
              "    <div>\n",
              "<style scoped>\n",
              "    .dataframe tbody tr th:only-of-type {\n",
              "        vertical-align: middle;\n",
              "    }\n",
              "\n",
              "    .dataframe tbody tr th {\n",
              "        vertical-align: top;\n",
              "    }\n",
              "\n",
              "    .dataframe thead th {\n",
              "        text-align: right;\n",
              "    }\n",
              "</style>\n",
              "<table border=\"1\" class=\"dataframe\">\n",
              "  <thead>\n",
              "    <tr style=\"text-align: right;\">\n",
              "      <th></th>\n",
              "      <th>Id</th>\n",
              "      <th>Year_Birth</th>\n",
              "      <th>Education</th>\n",
              "      <th>Marital_Status</th>\n",
              "      <th>Income</th>\n",
              "      <th>Kidhome</th>\n",
              "      <th>Teenhome</th>\n",
              "      <th>Dt_Customer</th>\n",
              "      <th>Recency</th>\n",
              "      <th>MntWines</th>\n",
              "      <th>...</th>\n",
              "      <th>MntFishProducts</th>\n",
              "      <th>MntSweetProducts</th>\n",
              "      <th>MntGoldProds</th>\n",
              "      <th>NumDealsPurchases</th>\n",
              "      <th>NumWebPurchases</th>\n",
              "      <th>NumCatalogPurchases</th>\n",
              "      <th>NumStorePurchases</th>\n",
              "      <th>NumWebVisitsMonth</th>\n",
              "      <th>Response</th>\n",
              "      <th>Complain</th>\n",
              "    </tr>\n",
              "  </thead>\n",
              "  <tbody>\n",
              "    <tr>\n",
              "      <th>0</th>\n",
              "      <td>1826</td>\n",
              "      <td>1970</td>\n",
              "      <td>Graduation</td>\n",
              "      <td>Divorced</td>\n",
              "      <td>84835</td>\n",
              "      <td>0</td>\n",
              "      <td>0</td>\n",
              "      <td>2014-06-16</td>\n",
              "      <td>0</td>\n",
              "      <td>189</td>\n",
              "      <td>...</td>\n",
              "      <td>111</td>\n",
              "      <td>189</td>\n",
              "      <td>218</td>\n",
              "      <td>1</td>\n",
              "      <td>4</td>\n",
              "      <td>4</td>\n",
              "      <td>6</td>\n",
              "      <td>1</td>\n",
              "      <td>1</td>\n",
              "      <td>0</td>\n",
              "    </tr>\n",
              "    <tr>\n",
              "      <th>1</th>\n",
              "      <td>1</td>\n",
              "      <td>1961</td>\n",
              "      <td>Graduation</td>\n",
              "      <td>Single</td>\n",
              "      <td>57091</td>\n",
              "      <td>0</td>\n",
              "      <td>0</td>\n",
              "      <td>2014-06-15</td>\n",
              "      <td>0</td>\n",
              "      <td>464</td>\n",
              "      <td>...</td>\n",
              "      <td>7</td>\n",
              "      <td>0</td>\n",
              "      <td>37</td>\n",
              "      <td>1</td>\n",
              "      <td>7</td>\n",
              "      <td>3</td>\n",
              "      <td>7</td>\n",
              "      <td>5</td>\n",
              "      <td>1</td>\n",
              "      <td>0</td>\n",
              "    </tr>\n",
              "    <tr>\n",
              "      <th>2</th>\n",
              "      <td>10476</td>\n",
              "      <td>1958</td>\n",
              "      <td>Graduation</td>\n",
              "      <td>Married</td>\n",
              "      <td>67267</td>\n",
              "      <td>0</td>\n",
              "      <td>1</td>\n",
              "      <td>2014-05-13</td>\n",
              "      <td>0</td>\n",
              "      <td>134</td>\n",
              "      <td>...</td>\n",
              "      <td>15</td>\n",
              "      <td>2</td>\n",
              "      <td>30</td>\n",
              "      <td>1</td>\n",
              "      <td>3</td>\n",
              "      <td>2</td>\n",
              "      <td>5</td>\n",
              "      <td>2</td>\n",
              "      <td>0</td>\n",
              "      <td>0</td>\n",
              "    </tr>\n",
              "    <tr>\n",
              "      <th>3</th>\n",
              "      <td>1386</td>\n",
              "      <td>1967</td>\n",
              "      <td>Graduation</td>\n",
              "      <td>Together</td>\n",
              "      <td>32474</td>\n",
              "      <td>1</td>\n",
              "      <td>1</td>\n",
              "      <td>2014-05-13</td>\n",
              "      <td>0</td>\n",
              "      <td>10</td>\n",
              "      <td>...</td>\n",
              "      <td>0</td>\n",
              "      <td>0</td>\n",
              "      <td>0</td>\n",
              "      <td>1</td>\n",
              "      <td>1</td>\n",
              "      <td>0</td>\n",
              "      <td>2</td>\n",
              "      <td>7</td>\n",
              "      <td>0</td>\n",
              "      <td>0</td>\n",
              "    </tr>\n",
              "    <tr>\n",
              "      <th>4</th>\n",
              "      <td>5371</td>\n",
              "      <td>1989</td>\n",
              "      <td>Graduation</td>\n",
              "      <td>Single</td>\n",
              "      <td>21474</td>\n",
              "      <td>1</td>\n",
              "      <td>0</td>\n",
              "      <td>2014-05-13</td>\n",
              "      <td>0</td>\n",
              "      <td>6</td>\n",
              "      <td>...</td>\n",
              "      <td>11</td>\n",
              "      <td>0</td>\n",
              "      <td>34</td>\n",
              "      <td>2</td>\n",
              "      <td>3</td>\n",
              "      <td>1</td>\n",
              "      <td>2</td>\n",
              "      <td>7</td>\n",
              "      <td>1</td>\n",
              "      <td>0</td>\n",
              "    </tr>\n",
              "  </tbody>\n",
              "</table>\n",
              "<p>5 rows × 22 columns</p>\n",
              "</div>\n",
              "    <div class=\"colab-df-buttons\">\n",
              "\n",
              "  <div class=\"colab-df-container\">\n",
              "    <button class=\"colab-df-convert\" onclick=\"convertToInteractive('df-9ad65054-537d-468b-8dd5-38f72f6b7b07')\"\n",
              "            title=\"Convert this dataframe to an interactive table.\"\n",
              "            style=\"display:none;\">\n",
              "\n",
              "  <svg xmlns=\"http://www.w3.org/2000/svg\" height=\"24px\" viewBox=\"0 -960 960 960\">\n",
              "    <path d=\"M120-120v-720h720v720H120Zm60-500h600v-160H180v160Zm220 220h160v-160H400v160Zm0 220h160v-160H400v160ZM180-400h160v-160H180v160Zm440 0h160v-160H620v160ZM180-180h160v-160H180v160Zm440 0h160v-160H620v160Z\"/>\n",
              "  </svg>\n",
              "    </button>\n",
              "\n",
              "  <style>\n",
              "    .colab-df-container {\n",
              "      display:flex;\n",
              "      gap: 12px;\n",
              "    }\n",
              "\n",
              "    .colab-df-convert {\n",
              "      background-color: #E8F0FE;\n",
              "      border: none;\n",
              "      border-radius: 50%;\n",
              "      cursor: pointer;\n",
              "      display: none;\n",
              "      fill: #1967D2;\n",
              "      height: 32px;\n",
              "      padding: 0 0 0 0;\n",
              "      width: 32px;\n",
              "    }\n",
              "\n",
              "    .colab-df-convert:hover {\n",
              "      background-color: #E2EBFA;\n",
              "      box-shadow: 0px 1px 2px rgba(60, 64, 67, 0.3), 0px 1px 3px 1px rgba(60, 64, 67, 0.15);\n",
              "      fill: #174EA6;\n",
              "    }\n",
              "\n",
              "    .colab-df-buttons div {\n",
              "      margin-bottom: 4px;\n",
              "    }\n",
              "\n",
              "    [theme=dark] .colab-df-convert {\n",
              "      background-color: #3B4455;\n",
              "      fill: #D2E3FC;\n",
              "    }\n",
              "\n",
              "    [theme=dark] .colab-df-convert:hover {\n",
              "      background-color: #434B5C;\n",
              "      box-shadow: 0px 1px 3px 1px rgba(0, 0, 0, 0.15);\n",
              "      filter: drop-shadow(0px 1px 2px rgba(0, 0, 0, 0.3));\n",
              "      fill: #FFFFFF;\n",
              "    }\n",
              "  </style>\n",
              "\n",
              "    <script>\n",
              "      const buttonEl =\n",
              "        document.querySelector('#df-9ad65054-537d-468b-8dd5-38f72f6b7b07 button.colab-df-convert');\n",
              "      buttonEl.style.display =\n",
              "        google.colab.kernel.accessAllowed ? 'block' : 'none';\n",
              "\n",
              "      async function convertToInteractive(key) {\n",
              "        const element = document.querySelector('#df-9ad65054-537d-468b-8dd5-38f72f6b7b07');\n",
              "        const dataTable =\n",
              "          await google.colab.kernel.invokeFunction('convertToInteractive',\n",
              "                                                    [key], {});\n",
              "        if (!dataTable) return;\n",
              "\n",
              "        const docLinkHtml = 'Like what you see? Visit the ' +\n",
              "          '<a target=\"_blank\" href=https://colab.research.google.com/notebooks/data_table.ipynb>data table notebook</a>'\n",
              "          + ' to learn more about interactive tables.';\n",
              "        element.innerHTML = '';\n",
              "        dataTable['output_type'] = 'display_data';\n",
              "        await google.colab.output.renderOutput(dataTable, element);\n",
              "        const docLink = document.createElement('div');\n",
              "        docLink.innerHTML = docLinkHtml;\n",
              "        element.appendChild(docLink);\n",
              "      }\n",
              "    </script>\n",
              "  </div>\n",
              "\n",
              "\n",
              "<div id=\"df-83f8c15d-1220-4d8f-8742-028c9a68f319\">\n",
              "  <button class=\"colab-df-quickchart\" onclick=\"quickchart('df-83f8c15d-1220-4d8f-8742-028c9a68f319')\"\n",
              "            title=\"Suggest charts\"\n",
              "            style=\"display:none;\">\n",
              "\n",
              "<svg xmlns=\"http://www.w3.org/2000/svg\" height=\"24px\"viewBox=\"0 0 24 24\"\n",
              "     width=\"24px\">\n",
              "    <g>\n",
              "        <path d=\"M19 3H5c-1.1 0-2 .9-2 2v14c0 1.1.9 2 2 2h14c1.1 0 2-.9 2-2V5c0-1.1-.9-2-2-2zM9 17H7v-7h2v7zm4 0h-2V7h2v10zm4 0h-2v-4h2v4z\"/>\n",
              "    </g>\n",
              "</svg>\n",
              "  </button>\n",
              "\n",
              "<style>\n",
              "  .colab-df-quickchart {\n",
              "      --bg-color: #E8F0FE;\n",
              "      --fill-color: #1967D2;\n",
              "      --hover-bg-color: #E2EBFA;\n",
              "      --hover-fill-color: #174EA6;\n",
              "      --disabled-fill-color: #AAA;\n",
              "      --disabled-bg-color: #DDD;\n",
              "  }\n",
              "\n",
              "  [theme=dark] .colab-df-quickchart {\n",
              "      --bg-color: #3B4455;\n",
              "      --fill-color: #D2E3FC;\n",
              "      --hover-bg-color: #434B5C;\n",
              "      --hover-fill-color: #FFFFFF;\n",
              "      --disabled-bg-color: #3B4455;\n",
              "      --disabled-fill-color: #666;\n",
              "  }\n",
              "\n",
              "  .colab-df-quickchart {\n",
              "    background-color: var(--bg-color);\n",
              "    border: none;\n",
              "    border-radius: 50%;\n",
              "    cursor: pointer;\n",
              "    display: none;\n",
              "    fill: var(--fill-color);\n",
              "    height: 32px;\n",
              "    padding: 0;\n",
              "    width: 32px;\n",
              "  }\n",
              "\n",
              "  .colab-df-quickchart:hover {\n",
              "    background-color: var(--hover-bg-color);\n",
              "    box-shadow: 0 1px 2px rgba(60, 64, 67, 0.3), 0 1px 3px 1px rgba(60, 64, 67, 0.15);\n",
              "    fill: var(--button-hover-fill-color);\n",
              "  }\n",
              "\n",
              "  .colab-df-quickchart-complete:disabled,\n",
              "  .colab-df-quickchart-complete:disabled:hover {\n",
              "    background-color: var(--disabled-bg-color);\n",
              "    fill: var(--disabled-fill-color);\n",
              "    box-shadow: none;\n",
              "  }\n",
              "\n",
              "  .colab-df-spinner {\n",
              "    border: 2px solid var(--fill-color);\n",
              "    border-color: transparent;\n",
              "    border-bottom-color: var(--fill-color);\n",
              "    animation:\n",
              "      spin 1s steps(1) infinite;\n",
              "  }\n",
              "\n",
              "  @keyframes spin {\n",
              "    0% {\n",
              "      border-color: transparent;\n",
              "      border-bottom-color: var(--fill-color);\n",
              "      border-left-color: var(--fill-color);\n",
              "    }\n",
              "    20% {\n",
              "      border-color: transparent;\n",
              "      border-left-color: var(--fill-color);\n",
              "      border-top-color: var(--fill-color);\n",
              "    }\n",
              "    30% {\n",
              "      border-color: transparent;\n",
              "      border-left-color: var(--fill-color);\n",
              "      border-top-color: var(--fill-color);\n",
              "      border-right-color: var(--fill-color);\n",
              "    }\n",
              "    40% {\n",
              "      border-color: transparent;\n",
              "      border-right-color: var(--fill-color);\n",
              "      border-top-color: var(--fill-color);\n",
              "    }\n",
              "    60% {\n",
              "      border-color: transparent;\n",
              "      border-right-color: var(--fill-color);\n",
              "    }\n",
              "    80% {\n",
              "      border-color: transparent;\n",
              "      border-right-color: var(--fill-color);\n",
              "      border-bottom-color: var(--fill-color);\n",
              "    }\n",
              "    90% {\n",
              "      border-color: transparent;\n",
              "      border-bottom-color: var(--fill-color);\n",
              "    }\n",
              "  }\n",
              "</style>\n",
              "\n",
              "  <script>\n",
              "    async function quickchart(key) {\n",
              "      const quickchartButtonEl =\n",
              "        document.querySelector('#' + key + ' button');\n",
              "      quickchartButtonEl.disabled = true;  // To prevent multiple clicks.\n",
              "      quickchartButtonEl.classList.add('colab-df-spinner');\n",
              "      try {\n",
              "        const charts = await google.colab.kernel.invokeFunction(\n",
              "            'suggestCharts', [key], {});\n",
              "      } catch (error) {\n",
              "        console.error('Error during call to suggestCharts:', error);\n",
              "      }\n",
              "      quickchartButtonEl.classList.remove('colab-df-spinner');\n",
              "      quickchartButtonEl.classList.add('colab-df-quickchart-complete');\n",
              "    }\n",
              "    (() => {\n",
              "      let quickchartButtonEl =\n",
              "        document.querySelector('#df-83f8c15d-1220-4d8f-8742-028c9a68f319 button');\n",
              "      quickchartButtonEl.style.display =\n",
              "        google.colab.kernel.accessAllowed ? 'block' : 'none';\n",
              "    })();\n",
              "  </script>\n",
              "</div>\n",
              "\n",
              "    </div>\n",
              "  </div>\n"
            ],
            "application/vnd.google.colaboratory.intrinsic+json": {
              "type": "dataframe",
              "variable_name": "store_df"
            }
          },
          "metadata": {},
          "execution_count": 30
        }
      ]
    },
    {
      "cell_type": "markdown",
      "source": [
        "# What all manipulation you have done?"
      ],
      "metadata": {
        "id": "V4WY4gd75zob"
      }
    },
    {
      "cell_type": "markdown",
      "source": [
        "* The ‘Income’ column was originally of float data type. We have type cast it to integer data type\n",
        "*The ‘Dt_Customer’ column had some entries in the format ‘#####’. We replaced these with ‘NaT’ (Not a Time, pandas’s representation of missing datetime data). Then, we converted the ‘Dt_Customer’ column to datetime format. Finally, we filled the ‘NaT’ values using the forward filling method."
      ],
      "metadata": {
        "id": "dZ_fmujP7BZF"
      }
    },
    {
      "cell_type": "markdown",
      "source": [
        "# Checking the dataset after manipulation"
      ],
      "metadata": {
        "id": "lWacW92Yh2_4"
      }
    },
    {
      "cell_type": "code",
      "source": [
        "store_df.isna().sum()"
      ],
      "metadata": {
        "colab": {
          "base_uri": "https://localhost:8080/"
        },
        "id": "Et9JnIdz9Ua5",
        "outputId": "0f8ddb93-c38b-419c-dfd9-c3f310b873b9"
      },
      "execution_count": null,
      "outputs": [
        {
          "output_type": "execute_result",
          "data": {
            "text/plain": [
              "Id                     0\n",
              "Year_Birth             0\n",
              "Education              0\n",
              "Marital_Status         0\n",
              "Income                 0\n",
              "Kidhome                0\n",
              "Teenhome               0\n",
              "Dt_Customer            0\n",
              "Recency                0\n",
              "MntWines               0\n",
              "MntFruits              0\n",
              "MntMeatProducts        0\n",
              "MntFishProducts        0\n",
              "MntSweetProducts       0\n",
              "MntGoldProds           0\n",
              "NumDealsPurchases      0\n",
              "NumWebPurchases        0\n",
              "NumCatalogPurchases    0\n",
              "NumStorePurchases      0\n",
              "NumWebVisitsMonth      0\n",
              "Response               0\n",
              "Complain               0\n",
              "dtype: int64"
            ]
          },
          "metadata": {},
          "execution_count": 31
        }
      ]
    },
    {
      "cell_type": "code",
      "source": [
        "store_df.info()"
      ],
      "metadata": {
        "id": "f4033o4-Meyu",
        "outputId": "8e96f02b-bde2-414b-a10b-4a277b60eb35",
        "colab": {
          "base_uri": "https://localhost:8080/"
        }
      },
      "execution_count": null,
      "outputs": [
        {
          "output_type": "stream",
          "name": "stdout",
          "text": [
            "<class 'pandas.core.frame.DataFrame'>\n",
            "Int64Index: 2232 entries, 0 to 2239\n",
            "Data columns (total 22 columns):\n",
            " #   Column               Non-Null Count  Dtype         \n",
            "---  ------               --------------  -----         \n",
            " 0   Id                   2232 non-null   int64         \n",
            " 1   Year_Birth           2232 non-null   int64         \n",
            " 2   Education            2232 non-null   object        \n",
            " 3   Marital_Status       2232 non-null   object        \n",
            " 4   Income               2232 non-null   int64         \n",
            " 5   Kidhome              2232 non-null   int64         \n",
            " 6   Teenhome             2232 non-null   int64         \n",
            " 7   Dt_Customer          2232 non-null   datetime64[ns]\n",
            " 8   Recency              2232 non-null   int64         \n",
            " 9   MntWines             2232 non-null   int64         \n",
            " 10  MntFruits            2232 non-null   int64         \n",
            " 11  MntMeatProducts      2232 non-null   int64         \n",
            " 12  MntFishProducts      2232 non-null   int64         \n",
            " 13  MntSweetProducts     2232 non-null   int64         \n",
            " 14  MntGoldProds         2232 non-null   int64         \n",
            " 15  NumDealsPurchases    2232 non-null   int64         \n",
            " 16  NumWebPurchases      2232 non-null   int64         \n",
            " 17  NumCatalogPurchases  2232 non-null   int64         \n",
            " 18  NumStorePurchases    2232 non-null   int64         \n",
            " 19  NumWebVisitsMonth    2232 non-null   int64         \n",
            " 20  Response             2232 non-null   int64         \n",
            " 21  Complain             2232 non-null   int64         \n",
            "dtypes: datetime64[ns](1), int64(19), object(2)\n",
            "memory usage: 401.1+ KB\n"
          ]
        }
      ]
    },
    {
      "cell_type": "markdown",
      "source": [
        "# 2. Demographic Analysis"
      ],
      "metadata": {
        "id": "fSdWvk0Gh-8i"
      }
    },
    {
      "cell_type": "code",
      "source": [
        "# Explore Age Distribution\n",
        "# Calculate descriptive statistics\n",
        "age_stats = store_df['Year_Birth'].describe()\n",
        "print(age_stats )"
      ],
      "metadata": {
        "id": "9RvvcDSGNFyu",
        "colab": {
          "base_uri": "https://localhost:8080/"
        },
        "outputId": "51b95da4-d640-4361-95c3-333d994e80c8"
      },
      "execution_count": null,
      "outputs": [
        {
          "output_type": "stream",
          "name": "stdout",
          "text": [
            "count    2232.000000\n",
            "mean     1968.792563\n",
            "std        11.990340\n",
            "min      1893.000000\n",
            "25%      1959.000000\n",
            "50%      1970.000000\n",
            "75%      1977.000000\n",
            "max      1996.000000\n",
            "Name: Year_Birth, dtype: float64\n"
          ]
        }
      ]
    },
    {
      "cell_type": "code",
      "source": [
        "store_df['Year_Birth'].unique()"
      ],
      "metadata": {
        "colab": {
          "base_uri": "https://localhost:8080/"
        },
        "id": "x6j7-89lCJO5",
        "outputId": "2db0fff3-b459-40bc-c26f-8e0c9012afca"
      },
      "execution_count": null,
      "outputs": [
        {
          "output_type": "execute_result",
          "data": {
            "text/plain": [
              "array([1970, 1961, 1958, 1967, 1989, 1954, 1947, 1979, 1959, 1981, 1969,\n",
              "       1977, 1960, 1966, 1976, 1965, 1956, 1975, 1971, 1986, 1972, 1974,\n",
              "       1990, 1987, 1984, 1968, 1955, 1983, 1973, 1978, 1952, 1962, 1964,\n",
              "       1982, 1963, 1957, 1980, 1945, 1949, 1948, 1953, 1946, 1985, 1992,\n",
              "       1944, 1951, 1988, 1950, 1994, 1993, 1991, 1893, 1996, 1995, 1899,\n",
              "       1943, 1941, 1940, 1900])"
            ]
          },
          "metadata": {},
          "execution_count": 34
        }
      ]
    },
    {
      "cell_type": "code",
      "source": [
        "store_df['Year_Birth'].nunique()"
      ],
      "metadata": {
        "colab": {
          "base_uri": "https://localhost:8080/"
        },
        "id": "FohPSre0B8M_",
        "outputId": "dd37661a-9e5b-4750-f7f0-0b296f22f4b4"
      },
      "execution_count": null,
      "outputs": [
        {
          "output_type": "execute_result",
          "data": {
            "text/plain": [
              "59"
            ]
          },
          "metadata": {},
          "execution_count": 35
        }
      ]
    },
    {
      "cell_type": "markdown",
      "source": [
        "# Using histogram to show the numerical data distribution"
      ],
      "metadata": {
        "id": "9SpI_6a-iJNl"
      }
    },
    {
      "cell_type": "code",
      "source": [
        "# Creating a histogram\n",
        "plt.figure(figsize=(10, 6))\n",
        "# Set the seaborn theme to darkgrid\n",
        "sns.set_theme(style='darkgrid')\n",
        "sns.histplot(store_df['Year_Birth'], bins=30, color=('r'),kde=True)\n",
        "plt.title('Age Distribution')\n",
        "plt.xlabel('Year of Birth')\n",
        "plt.ylabel('Frequency')\n",
        "plt.show()"
      ],
      "metadata": {
        "id": "VT8c5Bd7NF2J",
        "outputId": "ab4c1438-0d87-4671-d4ee-19311d18afa1",
        "colab": {
          "base_uri": "https://localhost:8080/",
          "height": 573
        }
      },
      "execution_count": null,
      "outputs": [
        {
          "output_type": "display_data",
          "data": {
            "text/plain": [
              "<Figure size 1000x600 with 1 Axes>"
            ],
            "image/png": "[encoded data removed]"
          },
          "metadata": {}
        }
      ]
    },
    {
      "cell_type": "markdown",
      "source": [
        "**Peak around 1960:** The majority of individuals were born around 1960, as evidenced by the peak frequency in that year.\n",
        "**Symmetrical Distribution:** The distribution appears to be somewhat symmetrical, with fewer people born in the years leading up to and following 1960.\n",
        "**Outliers:** There seem to be a few outliers in the data, particularly for the years before 1940."
      ],
      "metadata": {
        "id": "FoA8llcYDLdb"
      }
    },
    {
      "cell_type": "markdown",
      "source": [
        "# Analysing the Education and Marital Status"
      ],
      "metadata": {
        "id": "tgepeRu2mk0V"
      }
    },
    {
      "cell_type": "code",
      "source": [
        "store_df['Education'].value_counts()"
      ],
      "metadata": {
        "colab": {
          "base_uri": "https://localhost:8080/"
        },
        "id": "y2DEh-yyC4cI",
        "outputId": "6a0fa6a9-5f59-4a75-8bf4-58c9f11631f0"
      },
      "execution_count": null,
      "outputs": [
        {
          "output_type": "execute_result",
          "data": {
            "text/plain": [
              "Graduation    1124\n",
              "PhD            482\n",
              "Master         369\n",
              "2n Cycle       203\n",
              "Basic           54\n",
              "Name: Education, dtype: int64"
            ]
          },
          "metadata": {},
          "execution_count": 37
        }
      ]
    },
    {
      "cell_type": "code",
      "source": [
        "store_df['Education'].unique()"
      ],
      "metadata": {
        "colab": {
          "base_uri": "https://localhost:8080/"
        },
        "id": "p6LoLvx-C_hC",
        "outputId": "f8bcc40b-e0a9-4f94-ecac-74edaa007cc9"
      },
      "execution_count": null,
      "outputs": [
        {
          "output_type": "execute_result",
          "data": {
            "text/plain": [
              "array(['Graduation', 'PhD', '2n Cycle', 'Master', 'Basic'], dtype=object)"
            ]
          },
          "metadata": {},
          "execution_count": 38
        }
      ]
    },
    {
      "cell_type": "markdown",
      "source": [
        "# Plotting the education Distribution"
      ],
      "metadata": {
        "id": "6mbd2ac3nNLE"
      }
    },
    {
      "cell_type": "code",
      "source": [
        "# Create count plot\n",
        "palette = sns.color_palette()\n",
        "sns.countplot(x='Education', data=store_df,palette='Set1')\n",
        "\n",
        "# Set title and labels\n",
        "plt.title('Count Plot for Education')\n",
        "plt.xlabel('Education')\n",
        "plt.ylabel('Count')\n",
        "\n",
        "# Show plot\n",
        "plt.show()\n"
      ],
      "metadata": {
        "colab": {
          "base_uri": "https://localhost:8080/",
          "height": 567
        },
        "id": "5ylUz3AdEEa1",
        "outputId": "36fb3366-a033-4216-d8b6-ec26b69a2e7f"
      },
      "execution_count": null,
      "outputs": [
        {
          "output_type": "stream",
          "name": "stderr",
          "text": [
            "<ipython-input-39-8867ada8c495>:3: FutureWarning: \n",
            "\n",
            "Passing `palette` without assigning `hue` is deprecated and will be removed in v0.14.0. Assign the `x` variable to `hue` and set `legend=False` for the same effect.\n",
            "\n",
            "  sns.countplot(x='Education', data=store_df,palette='Set1')\n"
          ]
        },
        {
          "output_type": "display_data",
          "data": {
            "text/plain": [
              "<Figure size 640x480 with 1 Axes>"
            ],
            "image/png": "[encoded data removed]"
          },
          "metadata": {}
        }
      ]
    },
    {
      "cell_type": "markdown",
      "source": [
        "**Graduation:** The majority of individuals have completed Graduation, as indicated by the highest bar. This suggests that most of the people in your dataset have at least a bachelor’s degree.\n",
        "\n",
        "**PhD:** The number of individuals with a PhD is significant but less than those who have graduated. This indicates that a considerable portion of your dataset has a higher level of education.\n",
        "\n",
        "**2nd Cycle and Master:**Fewer people have completed 2nd Cycle Education and Master’s degree, with the count for Master’s being slightly higher. This suggests that these levels of education are less common in your dataset.\n",
        "\n",
        "**Basic:** Very few individuals have only Basic education. This indicates that most of the people in your dataset have at least some form of higher education."
      ],
      "metadata": {
        "id": "MxHWzYmPFm6r"
      }
    },
    {
      "cell_type": "markdown",
      "source": [
        "# Maratial Status"
      ],
      "metadata": {
        "id": "0btt15emnobm"
      }
    },
    {
      "cell_type": "code",
      "source": [
        "store_df['Marital_Status'].value_counts()"
      ],
      "metadata": {
        "colab": {
          "base_uri": "https://localhost:8080/"
        },
        "id": "Q2dJ3HUxFZuu",
        "outputId": "8891cd4f-fe03-4db9-b490-d314a317ac8e"
      },
      "execution_count": null,
      "outputs": [
        {
          "output_type": "execute_result",
          "data": {
            "text/plain": [
              "Married     861\n",
              "Together    576\n",
              "Single      480\n",
              "Divorced    231\n",
              "Widow        77\n",
              "Alone         3\n",
              "YOLO          2\n",
              "Absurd        2\n",
              "Name: Marital_Status, dtype: int64"
            ]
          },
          "metadata": {},
          "execution_count": 40
        }
      ]
    },
    {
      "cell_type": "code",
      "source": [
        "store_df['Marital_Status'].unique()"
      ],
      "metadata": {
        "colab": {
          "base_uri": "https://localhost:8080/"
        },
        "id": "RodKS5QDFgQX",
        "outputId": "dcc8d761-2097-49de-a014-a7c247362042"
      },
      "execution_count": null,
      "outputs": [
        {
          "output_type": "execute_result",
          "data": {
            "text/plain": [
              "array(['Divorced', 'Single', 'Married', 'Together', 'Widow', 'YOLO',\n",
              "       'Alone', 'Absurd'], dtype=object)"
            ]
          },
          "metadata": {},
          "execution_count": 41
        }
      ]
    },
    {
      "cell_type": "markdown",
      "source": [
        "# Displaying the maratial status Distribution"
      ],
      "metadata": {
        "id": "3PWfmTlanuzv"
      }
    },
    {
      "cell_type": "code",
      "source": [
        "# Create count plot\n",
        "palette = sns.color_palette()\n",
        "sns.countplot(x='Marital_Status', data=store_df,palette='muted')\n",
        "\n",
        "# Set title and labels\n",
        "plt.title('Count Plot for Marital Status')\n",
        "plt.xlabel('Marital Status')\n",
        "plt.ylabel('Count')\n",
        "\n",
        "# Show plot\n",
        "plt.show()\n"
      ],
      "metadata": {
        "colab": {
          "base_uri": "https://localhost:8080/",
          "height": 567
        },
        "id": "fWcmrmCWGMDV",
        "outputId": "f103133f-fb68-4f8a-c381-bd4ae37d65b0"
      },
      "execution_count": null,
      "outputs": [
        {
          "output_type": "stream",
          "name": "stderr",
          "text": [
            "<ipython-input-42-029020beeea6>:3: FutureWarning: \n",
            "\n",
            "Passing `palette` without assigning `hue` is deprecated and will be removed in v0.14.0. Assign the `x` variable to `hue` and set `legend=False` for the same effect.\n",
            "\n",
            "  sns.countplot(x='Marital_Status', data=store_df,palette='muted')\n"
          ]
        },
        {
          "output_type": "display_data",
          "data": {
            "text/plain": [
              "<Figure size 640x480 with 1 Axes>"
            ],
            "image/png": "[encoded data removed]"
          },
          "metadata": {}
        }
      ]
    },
    {
      "cell_type": "markdown",
      "source": [
        "**Married:** The majority of individuals are married, as indicated by the highest count (861).\n",
        "\n",
        "**Together:** A significant number of individuals are in a relationship, as indicated by the second highest count (576).\n",
        "\n",
        "**Single:** There are quite a few single individuals, with a count of 480.\n",
        "\n",
        "**Divorced and Widow:** The number of divorced individuals and widows are relatively lower, with counts of 231 and 77 respectively.\n",
        "\n",
        "**Alone, YOLO, Absurd:** Very few individuals fall into the categories of ‘Alone’, ‘YOLO’, or ‘Absurd’, with counts of 3, 2, and 2 respectively."
      ],
      "metadata": {
        "id": "CN76Fr6tG6GS"
      }
    },
    {
      "cell_type": "markdown",
      "source": [
        "# Displaying the clean dataset"
      ],
      "metadata": {
        "id": "9JUm1IVaoC4u"
      }
    },
    {
      "cell_type": "code",
      "source": [
        "# Display cleaned dataset info\n",
        "store_df.info()"
      ],
      "metadata": {
        "id": "yZYHqf1dNbsF",
        "outputId": "244126c8-5e24-4139-8a1d-92cf542e21cc",
        "colab": {
          "base_uri": "https://localhost:8080/"
        }
      },
      "execution_count": null,
      "outputs": [
        {
          "output_type": "stream",
          "name": "stdout",
          "text": [
            "<class 'pandas.core.frame.DataFrame'>\n",
            "Int64Index: 2232 entries, 0 to 2239\n",
            "Data columns (total 22 columns):\n",
            " #   Column               Non-Null Count  Dtype         \n",
            "---  ------               --------------  -----         \n",
            " 0   Id                   2232 non-null   int64         \n",
            " 1   Year_Birth           2232 non-null   int64         \n",
            " 2   Education            2232 non-null   object        \n",
            " 3   Marital_Status       2232 non-null   object        \n",
            " 4   Income               2232 non-null   int64         \n",
            " 5   Kidhome              2232 non-null   int64         \n",
            " 6   Teenhome             2232 non-null   int64         \n",
            " 7   Dt_Customer          2232 non-null   datetime64[ns]\n",
            " 8   Recency              2232 non-null   int64         \n",
            " 9   MntWines             2232 non-null   int64         \n",
            " 10  MntFruits            2232 non-null   int64         \n",
            " 11  MntMeatProducts      2232 non-null   int64         \n",
            " 12  MntFishProducts      2232 non-null   int64         \n",
            " 13  MntSweetProducts     2232 non-null   int64         \n",
            " 14  MntGoldProds         2232 non-null   int64         \n",
            " 15  NumDealsPurchases    2232 non-null   int64         \n",
            " 16  NumWebPurchases      2232 non-null   int64         \n",
            " 17  NumCatalogPurchases  2232 non-null   int64         \n",
            " 18  NumStorePurchases    2232 non-null   int64         \n",
            " 19  NumWebVisitsMonth    2232 non-null   int64         \n",
            " 20  Response             2232 non-null   int64         \n",
            " 21  Complain             2232 non-null   int64         \n",
            "dtypes: datetime64[ns](1), int64(19), object(2)\n",
            "memory usage: 401.1+ KB\n"
          ]
        }
      ]
    },
    {
      "cell_type": "markdown",
      "source": [
        "# Displaying the age distribution statistics"
      ],
      "metadata": {
        "id": "An-0_UF9oNtF"
      }
    },
    {
      "cell_type": "code",
      "source": [
        "age_stats = store_df['Year_Birth'].describe()\n",
        "print(age_stats)"
      ],
      "metadata": {
        "colab": {
          "base_uri": "https://localhost:8080/"
        },
        "id": "2mzmup2sINbe",
        "outputId": "c004b7a6-3014-4bb0-a734-82f81b51291c"
      },
      "execution_count": null,
      "outputs": [
        {
          "output_type": "stream",
          "name": "stdout",
          "text": [
            "count    2232.000000\n",
            "mean     1968.792563\n",
            "std        11.990340\n",
            "min      1893.000000\n",
            "25%      1959.000000\n",
            "50%      1970.000000\n",
            "75%      1977.000000\n",
            "max      1996.000000\n",
            "Name: Year_Birth, dtype: float64\n"
          ]
        }
      ]
    },
    {
      "cell_type": "markdown",
      "source": [
        "The dataset contains birth year information for 2232 individuals.\n",
        "\n",
        "The average birth year is approximately 1969, which suggests that the average age of individuals in the dataset is around 55 years (as of 2024).\n",
        "\n",
        "The standard deviation is approximately 12 years, indicating that the ages of individuals in the dataset are spread out within a 12-year range on either side of the average.\n",
        "\n",
        "The youngest individual in the dataset was born in 1996, making them around 28 years old (as of 2024).\n",
        "\n",
        "The oldest individual in the dataset was born in 1893, making them around 131 years old (as of 2024). This could be an outlier or an error as it’s quite unusual.\n",
        "\n",
        "The median birth year is 1970, meaning that half of the individuals in the dataset were born before 1970 and half were born after.\n",
        "\n",
        "The 25th percentile (Q1) is 1959, meaning that 25% of individuals were born in 1959 or earlier.\n",
        "The 75th percentile (Q3) is 1977, meaning that 75% of individuals were born in 1977 or earlier."
      ],
      "metadata": {
        "id": "vP_B_QGnJK-W"
      }
    },
    {
      "cell_type": "markdown",
      "source": [
        "# Displaying the education counts"
      ],
      "metadata": {
        "id": "SidYytkYomPo"
      }
    },
    {
      "cell_type": "code",
      "source": [
        "store_df['Education'].value_counts()"
      ],
      "metadata": {
        "colab": {
          "base_uri": "https://localhost:8080/"
        },
        "id": "ez4LoDgcH_8M",
        "outputId": "5dc2f77b-82f9-47bf-a432-f256f5b4072c"
      },
      "execution_count": null,
      "outputs": [
        {
          "output_type": "execute_result",
          "data": {
            "text/plain": [
              "Graduation    1124\n",
              "PhD            482\n",
              "Master         369\n",
              "2n Cycle       203\n",
              "Basic           54\n",
              "Name: Education, dtype: int64"
            ]
          },
          "metadata": {},
          "execution_count": 45
        }
      ]
    },
    {
      "cell_type": "markdown",
      "source": [
        "The dataset contains information about the education level of individuals.\n",
        "\n",
        "The most common education level is Graduation, with 1124 individuals having this level of education.\n",
        "\n",
        "The second most common education level is PhD, with 482 individuals holding a PhD degree.\n",
        "\n",
        "This is followed by Master with 369 individuals, 2n Cycle with 203 individuals, and Basic with 54 individuals.\n",
        "\n",
        "It’s interesting to note that there are more individuals with a PhD than those with a Master’s degree. This could suggest that the individuals in this dataset are highly educated.\n",
        "\n",
        "The least common education level is Basic, which suggests that most individuals in this dataset have at least a college degree."
      ],
      "metadata": {
        "id": "WWZmsyUfJlom"
      }
    },
    {
      "cell_type": "markdown",
      "source": [
        "# Displaying the marital status"
      ],
      "metadata": {
        "id": "1Qf_qy-OoxuK"
      }
    },
    {
      "cell_type": "code",
      "source": [
        "store_df['Marital_Status'].unique()"
      ],
      "metadata": {
        "colab": {
          "base_uri": "https://localhost:8080/"
        },
        "id": "UhQxYK8EILcw",
        "outputId": "f451930b-53e9-48db-de81-28699baf17a5"
      },
      "execution_count": null,
      "outputs": [
        {
          "output_type": "execute_result",
          "data": {
            "text/plain": [
              "array(['Divorced', 'Single', 'Married', 'Together', 'Widow', 'YOLO',\n",
              "       'Alone', 'Absurd'], dtype=object)"
            ]
          },
          "metadata": {},
          "execution_count": 46
        }
      ]
    },
    {
      "cell_type": "code",
      "source": [
        "store_df['Marital_Status'].value_counts()"
      ],
      "metadata": {
        "colab": {
          "base_uri": "https://localhost:8080/"
        },
        "id": "I9WFibtsI-5_",
        "outputId": "43f725a8-6863-47ad-94b6-c04990436909"
      },
      "execution_count": null,
      "outputs": [
        {
          "output_type": "execute_result",
          "data": {
            "text/plain": [
              "Married     861\n",
              "Together    576\n",
              "Single      480\n",
              "Divorced    231\n",
              "Widow        77\n",
              "Alone         3\n",
              "YOLO          2\n",
              "Absurd        2\n",
              "Name: Marital_Status, dtype: int64"
            ]
          },
          "metadata": {},
          "execution_count": 47
        }
      ]
    },
    {
      "cell_type": "markdown",
      "source": [
        "The dataset contains information about the marital status of individuals.\n",
        "\n",
        "There are 8 unique categories of marital status: ‘Divorced’, ‘Single’, ‘Married’, ‘Together’, ‘Widow’, ‘YOLO’, ‘Alone’, and ‘Absurd’.\n",
        "\n",
        "Most of these categories are common and self-explanatory. However, there are a few unusual categories:\n",
        "\n",
        "‘YOLO’: This is an acronym for ‘You Only Live Once’. It’s not a typical category for marital status and might be specific to this dataset. It could possibly represent individuals who prefer not to disclose their marital status or those who do not conform to traditional categories.\n",
        "\n",
        "‘Alone’: This could possibly represent individuals who are not in a relationship or prefer to live alone.\n",
        "\n",
        "‘Absurd’: This is also not a typical category for marital status. It might be used to categorize erroneous data or responses that do not fit into any other category."
      ],
      "metadata": {
        "id": "AAcwGBj4Jyxq"
      }
    },
    {
      "cell_type": "markdown",
      "source": [
        "##Task 2 - Descriptive Statistics 📊\n",
        "\n",
        "- **Calculate measures of central tendency (mean, median, mode) and measures of dispersion (variance, standard deviation) for key variables. Identify and handle outliers if necessary.**\n"
      ],
      "metadata": {
        "id": "bDza2Cu0YpE6"
      }
    },
    {
      "cell_type": "markdown",
      "source": [
        "**Deliverables**:\n",
        "\n",
        "- **Descriptive statistics that reveal the central tendencies, variations, and potential outliers in the dataset.**:\n",
        "\n",
        "  "
      ],
      "metadata": {
        "id": "pGrBYXGWZtYe"
      }
    },
    {
      "cell_type": "code",
      "source": [
        "store_df.describe()"
      ],
      "metadata": {
        "id": "E6UYjiyVpHY9",
        "outputId": "6365208c-4523-4475-d1ee-0fd90df05968",
        "colab": {
          "base_uri": "https://localhost:8080/",
          "height": 320
        }
      },
      "execution_count": null,
      "outputs": [
        {
          "output_type": "execute_result",
          "data": {
            "text/plain": [
              "                 Id   Year_Birth         Income      Kidhome     Teenhome  \\\n",
              "count   2232.000000  2232.000000    2232.000000  2232.000000  2232.000000   \n",
              "mean    5590.736559  1968.792563   51640.233423     0.444444     0.507168   \n",
              "std     3246.390817    11.990340   20601.760289     0.538567     0.544680   \n",
              "min        0.000000  1893.000000    1730.000000     0.000000     0.000000   \n",
              "25%     2828.250000  1959.000000   35434.750000     0.000000     0.000000   \n",
              "50%     5458.500000  1970.000000   51566.000000     0.000000     0.000000   \n",
              "75%     8421.750000  1977.000000   68118.000000     1.000000     1.000000   \n",
              "max    11191.000000  1996.000000  113734.000000     2.000000     2.000000   \n",
              "\n",
              "           Recency     MntWines    MntFruits  MntMeatProducts  \\\n",
              "count  2232.000000  2232.000000  2232.000000      2232.000000   \n",
              "mean     49.111111   304.930108    26.380376       165.319444   \n",
              "std      28.952893   336.784950    39.821532       219.401447   \n",
              "min       0.000000     0.000000     0.000000         0.000000   \n",
              "25%      24.000000    24.000000     2.000000        16.000000   \n",
              "50%      49.000000   176.000000     8.000000        67.000000   \n",
              "75%      74.000000   505.000000    33.000000       231.250000   \n",
              "max      99.000000  1493.000000   199.000000      1725.000000   \n",
              "\n",
              "       MntFishProducts  MntSweetProducts  MntGoldProds  NumDealsPurchases  \\\n",
              "count      2232.000000       2232.000000   2232.000000        2232.000000   \n",
              "mean         37.644713         27.155466     44.166219           2.318100   \n",
              "std          54.689504         41.325414     52.204505           1.894595   \n",
              "min           0.000000          0.000000      0.000000           0.000000   \n",
              "25%           3.000000          1.000000      9.000000           1.000000   \n",
              "50%          12.000000          8.000000     24.500000           2.000000   \n",
              "75%          50.000000         34.000000     56.250000           3.000000   \n",
              "max         259.000000        263.000000    362.000000          15.000000   \n",
              "\n",
              "       NumWebPurchases  NumCatalogPurchases  NumStorePurchases  \\\n",
              "count      2232.000000          2232.000000        2232.000000   \n",
              "mean          4.097670             2.636201           5.808244   \n",
              "std           2.774726             2.795959           3.242198   \n",
              "min           0.000000             0.000000           0.000000   \n",
              "25%           2.000000             0.000000           3.000000   \n",
              "50%           4.000000             2.000000           5.000000   \n",
              "75%           6.000000             4.000000           8.000000   \n",
              "max          27.000000            28.000000          13.000000   \n",
              "\n",
              "       NumWebVisitsMonth     Response     Complain  \n",
              "count        2232.000000  2232.000000  2232.000000  \n",
              "mean            5.331541     0.149642     0.009409  \n",
              "std             2.415275     0.356800     0.096562  \n",
              "min             0.000000     0.000000     0.000000  \n",
              "25%             3.000000     0.000000     0.000000  \n",
              "50%             6.000000     0.000000     0.000000  \n",
              "75%             7.000000     0.000000     0.000000  \n",
              "max            20.000000     1.000000     1.000000  "
            ],
            "text/html": [
              "\n",
              "  <div id=\"df-36bd9fde-17ac-4da8-bd2b-d0c4e1bf22ce\" class=\"colab-df-container\">\n",
              "    <div>\n",
              "<style scoped>\n",
              "    .dataframe tbody tr th:only-of-type {\n",
              "        vertical-align: middle;\n",
              "    }\n",
              "\n",
              "    .dataframe tbody tr th {\n",
              "        vertical-align: top;\n",
              "    }\n",
              "\n",
              "    .dataframe thead th {\n",
              "        text-align: right;\n",
              "    }\n",
              "</style>\n",
              "<table border=\"1\" class=\"dataframe\">\n",
              "  <thead>\n",
              "    <tr style=\"text-align: right;\">\n",
              "      <th></th>\n",
              "      <th>Id</th>\n",
              "      <th>Year_Birth</th>\n",
              "      <th>Income</th>\n",
              "      <th>Kidhome</th>\n",
              "      <th>Teenhome</th>\n",
              "      <th>Recency</th>\n",
              "      <th>MntWines</th>\n",
              "      <th>MntFruits</th>\n",
              "      <th>MntMeatProducts</th>\n",
              "      <th>MntFishProducts</th>\n",
              "      <th>MntSweetProducts</th>\n",
              "      <th>MntGoldProds</th>\n",
              "      <th>NumDealsPurchases</th>\n",
              "      <th>NumWebPurchases</th>\n",
              "      <th>NumCatalogPurchases</th>\n",
              "      <th>NumStorePurchases</th>\n",
              "      <th>NumWebVisitsMonth</th>\n",
              "      <th>Response</th>\n",
              "      <th>Complain</th>\n",
              "    </tr>\n",
              "  </thead>\n",
              "  <tbody>\n",
              "    <tr>\n",
              "      <th>count</th>\n",
              "      <td>2232.000000</td>\n",
              "      <td>2232.000000</td>\n",
              "      <td>2232.000000</td>\n",
              "      <td>2232.000000</td>\n",
              "      <td>2232.000000</td>\n",
              "      <td>2232.000000</td>\n",
              "      <td>2232.000000</td>\n",
              "      <td>2232.000000</td>\n",
              "      <td>2232.000000</td>\n",
              "      <td>2232.000000</td>\n",
              "      <td>2232.000000</td>\n",
              "      <td>2232.000000</td>\n",
              "      <td>2232.000000</td>\n",
              "      <td>2232.000000</td>\n",
              "      <td>2232.000000</td>\n",
              "      <td>2232.000000</td>\n",
              "      <td>2232.000000</td>\n",
              "      <td>2232.000000</td>\n",
              "      <td>2232.000000</td>\n",
              "    </tr>\n",
              "    <tr>\n",
              "      <th>mean</th>\n",
              "      <td>5590.736559</td>\n",
              "      <td>1968.792563</td>\n",
              "      <td>51640.233423</td>\n",
              "      <td>0.444444</td>\n",
              "      <td>0.507168</td>\n",
              "      <td>49.111111</td>\n",
              "      <td>304.930108</td>\n",
              "      <td>26.380376</td>\n",
              "      <td>165.319444</td>\n",
              "      <td>37.644713</td>\n",
              "      <td>27.155466</td>\n",
              "      <td>44.166219</td>\n",
              "      <td>2.318100</td>\n",
              "      <td>4.097670</td>\n",
              "      <td>2.636201</td>\n",
              "      <td>5.808244</td>\n",
              "      <td>5.331541</td>\n",
              "      <td>0.149642</td>\n",
              "      <td>0.009409</td>\n",
              "    </tr>\n",
              "    <tr>\n",
              "      <th>std</th>\n",
              "      <td>3246.390817</td>\n",
              "      <td>11.990340</td>\n",
              "      <td>20601.760289</td>\n",
              "      <td>0.538567</td>\n",
              "      <td>0.544680</td>\n",
              "      <td>28.952893</td>\n",
              "      <td>336.784950</td>\n",
              "      <td>39.821532</td>\n",
              "      <td>219.401447</td>\n",
              "      <td>54.689504</td>\n",
              "      <td>41.325414</td>\n",
              "      <td>52.204505</td>\n",
              "      <td>1.894595</td>\n",
              "      <td>2.774726</td>\n",
              "      <td>2.795959</td>\n",
              "      <td>3.242198</td>\n",
              "      <td>2.415275</td>\n",
              "      <td>0.356800</td>\n",
              "      <td>0.096562</td>\n",
              "    </tr>\n",
              "    <tr>\n",
              "      <th>min</th>\n",
              "      <td>0.000000</td>\n",
              "      <td>1893.000000</td>\n",
              "      <td>1730.000000</td>\n",
              "      <td>0.000000</td>\n",
              "      <td>0.000000</td>\n",
              "      <td>0.000000</td>\n",
              "      <td>0.000000</td>\n",
              "      <td>0.000000</td>\n",
              "      <td>0.000000</td>\n",
              "      <td>0.000000</td>\n",
              "      <td>0.000000</td>\n",
              "      <td>0.000000</td>\n",
              "      <td>0.000000</td>\n",
              "      <td>0.000000</td>\n",
              "      <td>0.000000</td>\n",
              "      <td>0.000000</td>\n",
              "      <td>0.000000</td>\n",
              "      <td>0.000000</td>\n",
              "      <td>0.000000</td>\n",
              "    </tr>\n",
              "    <tr>\n",
              "      <th>25%</th>\n",
              "      <td>2828.250000</td>\n",
              "      <td>1959.000000</td>\n",
              "      <td>35434.750000</td>\n",
              "      <td>0.000000</td>\n",
              "      <td>0.000000</td>\n",
              "      <td>24.000000</td>\n",
              "      <td>24.000000</td>\n",
              "      <td>2.000000</td>\n",
              "      <td>16.000000</td>\n",
              "      <td>3.000000</td>\n",
              "      <td>1.000000</td>\n",
              "      <td>9.000000</td>\n",
              "      <td>1.000000</td>\n",
              "      <td>2.000000</td>\n",
              "      <td>0.000000</td>\n",
              "      <td>3.000000</td>\n",
              "      <td>3.000000</td>\n",
              "      <td>0.000000</td>\n",
              "      <td>0.000000</td>\n",
              "    </tr>\n",
              "    <tr>\n",
              "      <th>50%</th>\n",
              "      <td>5458.500000</td>\n",
              "      <td>1970.000000</td>\n",
              "      <td>51566.000000</td>\n",
              "      <td>0.000000</td>\n",
              "      <td>0.000000</td>\n",
              "      <td>49.000000</td>\n",
              "      <td>176.000000</td>\n",
              "      <td>8.000000</td>\n",
              "      <td>67.000000</td>\n",
              "      <td>12.000000</td>\n",
              "      <td>8.000000</td>\n",
              "      <td>24.500000</td>\n",
              "      <td>2.000000</td>\n",
              "      <td>4.000000</td>\n",
              "      <td>2.000000</td>\n",
              "      <td>5.000000</td>\n",
              "      <td>6.000000</td>\n",
              "      <td>0.000000</td>\n",
              "      <td>0.000000</td>\n",
              "    </tr>\n",
              "    <tr>\n",
              "      <th>75%</th>\n",
              "      <td>8421.750000</td>\n",
              "      <td>1977.000000</td>\n",
              "      <td>68118.000000</td>\n",
              "      <td>1.000000</td>\n",
              "      <td>1.000000</td>\n",
              "      <td>74.000000</td>\n",
              "      <td>505.000000</td>\n",
              "      <td>33.000000</td>\n",
              "      <td>231.250000</td>\n",
              "      <td>50.000000</td>\n",
              "      <td>34.000000</td>\n",
              "      <td>56.250000</td>\n",
              "      <td>3.000000</td>\n",
              "      <td>6.000000</td>\n",
              "      <td>4.000000</td>\n",
              "      <td>8.000000</td>\n",
              "      <td>7.000000</td>\n",
              "      <td>0.000000</td>\n",
              "      <td>0.000000</td>\n",
              "    </tr>\n",
              "    <tr>\n",
              "      <th>max</th>\n",
              "      <td>11191.000000</td>\n",
              "      <td>1996.000000</td>\n",
              "      <td>113734.000000</td>\n",
              "      <td>2.000000</td>\n",
              "      <td>2.000000</td>\n",
              "      <td>99.000000</td>\n",
              "      <td>1493.000000</td>\n",
              "      <td>199.000000</td>\n",
              "      <td>1725.000000</td>\n",
              "      <td>259.000000</td>\n",
              "      <td>263.000000</td>\n",
              "      <td>362.000000</td>\n",
              "      <td>15.000000</td>\n",
              "      <td>27.000000</td>\n",
              "      <td>28.000000</td>\n",
              "      <td>13.000000</td>\n",
              "      <td>20.000000</td>\n",
              "      <td>1.000000</td>\n",
              "      <td>1.000000</td>\n",
              "    </tr>\n",
              "  </tbody>\n",
              "</table>\n",
              "</div>\n",
              "    <div class=\"colab-df-buttons\">\n",
              "\n",
              "  <div class=\"colab-df-container\">\n",
              "    <button class=\"colab-df-convert\" onclick=\"convertToInteractive('df-36bd9fde-17ac-4da8-bd2b-d0c4e1bf22ce')\"\n",
              "            title=\"Convert this dataframe to an interactive table.\"\n",
              "            style=\"display:none;\">\n",
              "\n",
              "  <svg xmlns=\"http://www.w3.org/2000/svg\" height=\"24px\" viewBox=\"0 -960 960 960\">\n",
              "    <path d=\"M120-120v-720h720v720H120Zm60-500h600v-160H180v160Zm220 220h160v-160H400v160Zm0 220h160v-160H400v160ZM180-400h160v-160H180v160Zm440 0h160v-160H620v160ZM180-180h160v-160H180v160Zm440 0h160v-160H620v160Z\"/>\n",
              "  </svg>\n",
              "    </button>\n",
              "\n",
              "  <style>\n",
              "    .colab-df-container {\n",
              "      display:flex;\n",
              "      gap: 12px;\n",
              "    }\n",
              "\n",
              "    .colab-df-convert {\n",
              "      background-color: #E8F0FE;\n",
              "      border: none;\n",
              "      border-radius: 50%;\n",
              "      cursor: pointer;\n",
              "      display: none;\n",
              "      fill: #1967D2;\n",
              "      height: 32px;\n",
              "      padding: 0 0 0 0;\n",
              "      width: 32px;\n",
              "    }\n",
              "\n",
              "    .colab-df-convert:hover {\n",
              "      background-color: #E2EBFA;\n",
              "      box-shadow: 0px 1px 2px rgba(60, 64, 67, 0.3), 0px 1px 3px 1px rgba(60, 64, 67, 0.15);\n",
              "      fill: #174EA6;\n",
              "    }\n",
              "\n",
              "    .colab-df-buttons div {\n",
              "      margin-bottom: 4px;\n",
              "    }\n",
              "\n",
              "    [theme=dark] .colab-df-convert {\n",
              "      background-color: #3B4455;\n",
              "      fill: #D2E3FC;\n",
              "    }\n",
              "\n",
              "    [theme=dark] .colab-df-convert:hover {\n",
              "      background-color: #434B5C;\n",
              "      box-shadow: 0px 1px 3px 1px rgba(0, 0, 0, 0.15);\n",
              "      filter: drop-shadow(0px 1px 2px rgba(0, 0, 0, 0.3));\n",
              "      fill: #FFFFFF;\n",
              "    }\n",
              "  </style>\n",
              "\n",
              "    <script>\n",
              "      const buttonEl =\n",
              "        document.querySelector('#df-36bd9fde-17ac-4da8-bd2b-d0c4e1bf22ce button.colab-df-convert');\n",
              "      buttonEl.style.display =\n",
              "        google.colab.kernel.accessAllowed ? 'block' : 'none';\n",
              "\n",
              "      async function convertToInteractive(key) {\n",
              "        const element = document.querySelector('#df-36bd9fde-17ac-4da8-bd2b-d0c4e1bf22ce');\n",
              "        const dataTable =\n",
              "          await google.colab.kernel.invokeFunction('convertToInteractive',\n",
              "                                                    [key], {});\n",
              "        if (!dataTable) return;\n",
              "\n",
              "        const docLinkHtml = 'Like what you see? Visit the ' +\n",
              "          '<a target=\"_blank\" href=https://colab.research.google.com/notebooks/data_table.ipynb>data table notebook</a>'\n",
              "          + ' to learn more about interactive tables.';\n",
              "        element.innerHTML = '';\n",
              "        dataTable['output_type'] = 'display_data';\n",
              "        await google.colab.output.renderOutput(dataTable, element);\n",
              "        const docLink = document.createElement('div');\n",
              "        docLink.innerHTML = docLinkHtml;\n",
              "        element.appendChild(docLink);\n",
              "      }\n",
              "    </script>\n",
              "  </div>\n",
              "\n",
              "\n",
              "<div id=\"df-605a33d3-3bbf-462b-9a44-06bfe909b9f2\">\n",
              "  <button class=\"colab-df-quickchart\" onclick=\"quickchart('df-605a33d3-3bbf-462b-9a44-06bfe909b9f2')\"\n",
              "            title=\"Suggest charts\"\n",
              "            style=\"display:none;\">\n",
              "\n",
              "<svg xmlns=\"http://www.w3.org/2000/svg\" height=\"24px\"viewBox=\"0 0 24 24\"\n",
              "     width=\"24px\">\n",
              "    <g>\n",
              "        <path d=\"M19 3H5c-1.1 0-2 .9-2 2v14c0 1.1.9 2 2 2h14c1.1 0 2-.9 2-2V5c0-1.1-.9-2-2-2zM9 17H7v-7h2v7zm4 0h-2V7h2v10zm4 0h-2v-4h2v4z\"/>\n",
              "    </g>\n",
              "</svg>\n",
              "  </button>\n",
              "\n",
              "<style>\n",
              "  .colab-df-quickchart {\n",
              "      --bg-color: #E8F0FE;\n",
              "      --fill-color: #1967D2;\n",
              "      --hover-bg-color: #E2EBFA;\n",
              "      --hover-fill-color: #174EA6;\n",
              "      --disabled-fill-color: #AAA;\n",
              "      --disabled-bg-color: #DDD;\n",
              "  }\n",
              "\n",
              "  [theme=dark] .colab-df-quickchart {\n",
              "      --bg-color: #3B4455;\n",
              "      --fill-color: #D2E3FC;\n",
              "      --hover-bg-color: #434B5C;\n",
              "      --hover-fill-color: #FFFFFF;\n",
              "      --disabled-bg-color: #3B4455;\n",
              "      --disabled-fill-color: #666;\n",
              "  }\n",
              "\n",
              "  .colab-df-quickchart {\n",
              "    background-color: var(--bg-color);\n",
              "    border: none;\n",
              "    border-radius: 50%;\n",
              "    cursor: pointer;\n",
              "    display: none;\n",
              "    fill: var(--fill-color);\n",
              "    height: 32px;\n",
              "    padding: 0;\n",
              "    width: 32px;\n",
              "  }\n",
              "\n",
              "  .colab-df-quickchart:hover {\n",
              "    background-color: var(--hover-bg-color);\n",
              "    box-shadow: 0 1px 2px rgba(60, 64, 67, 0.3), 0 1px 3px 1px rgba(60, 64, 67, 0.15);\n",
              "    fill: var(--button-hover-fill-color);\n",
              "  }\n",
              "\n",
              "  .colab-df-quickchart-complete:disabled,\n",
              "  .colab-df-quickchart-complete:disabled:hover {\n",
              "    background-color: var(--disabled-bg-color);\n",
              "    fill: var(--disabled-fill-color);\n",
              "    box-shadow: none;\n",
              "  }\n",
              "\n",
              "  .colab-df-spinner {\n",
              "    border: 2px solid var(--fill-color);\n",
              "    border-color: transparent;\n",
              "    border-bottom-color: var(--fill-color);\n",
              "    animation:\n",
              "      spin 1s steps(1) infinite;\n",
              "  }\n",
              "\n",
              "  @keyframes spin {\n",
              "    0% {\n",
              "      border-color: transparent;\n",
              "      border-bottom-color: var(--fill-color);\n",
              "      border-left-color: var(--fill-color);\n",
              "    }\n",
              "    20% {\n",
              "      border-color: transparent;\n",
              "      border-left-color: var(--fill-color);\n",
              "      border-top-color: var(--fill-color);\n",
              "    }\n",
              "    30% {\n",
              "      border-color: transparent;\n",
              "      border-left-color: var(--fill-color);\n",
              "      border-top-color: var(--fill-color);\n",
              "      border-right-color: var(--fill-color);\n",
              "    }\n",
              "    40% {\n",
              "      border-color: transparent;\n",
              "      border-right-color: var(--fill-color);\n",
              "      border-top-color: var(--fill-color);\n",
              "    }\n",
              "    60% {\n",
              "      border-color: transparent;\n",
              "      border-right-color: var(--fill-color);\n",
              "    }\n",
              "    80% {\n",
              "      border-color: transparent;\n",
              "      border-right-color: var(--fill-color);\n",
              "      border-bottom-color: var(--fill-color);\n",
              "    }\n",
              "    90% {\n",
              "      border-color: transparent;\n",
              "      border-bottom-color: var(--fill-color);\n",
              "    }\n",
              "  }\n",
              "</style>\n",
              "\n",
              "  <script>\n",
              "    async function quickchart(key) {\n",
              "      const quickchartButtonEl =\n",
              "        document.querySelector('#' + key + ' button');\n",
              "      quickchartButtonEl.disabled = true;  // To prevent multiple clicks.\n",
              "      quickchartButtonEl.classList.add('colab-df-spinner');\n",
              "      try {\n",
              "        const charts = await google.colab.kernel.invokeFunction(\n",
              "            'suggestCharts', [key], {});\n",
              "      } catch (error) {\n",
              "        console.error('Error during call to suggestCharts:', error);\n",
              "      }\n",
              "      quickchartButtonEl.classList.remove('colab-df-spinner');\n",
              "      quickchartButtonEl.classList.add('colab-df-quickchart-complete');\n",
              "    }\n",
              "    (() => {\n",
              "      let quickchartButtonEl =\n",
              "        document.querySelector('#df-605a33d3-3bbf-462b-9a44-06bfe909b9f2 button');\n",
              "      quickchartButtonEl.style.display =\n",
              "        google.colab.kernel.accessAllowed ? 'block' : 'none';\n",
              "    })();\n",
              "  </script>\n",
              "</div>\n",
              "\n",
              "    </div>\n",
              "  </div>\n"
            ],
            "application/vnd.google.colaboratory.intrinsic+json": {
              "type": "dataframe",
              "summary": "{\n  \"name\": \"store_df\",\n  \"rows\": 8,\n  \"fields\": [\n    {\n      \"column\": \"Id\",\n      \"properties\": {\n        \"dtype\": \"number\",\n        \"std\": 3603.8976328829167,\n        \"min\": 0.0,\n        \"max\": 11191.0,\n        \"num_unique_values\": 8,\n        \"samples\": [\n          5590.736559139785,\n          5458.5,\n          2232.0\n        ],\n        \"semantic_type\": \"\",\n        \"description\": \"\"\n      }\n    },\n    {\n      \"column\": \"Year_Birth\",\n      \"properties\": {\n        \"dtype\": \"number\",\n        \"std\": 709.6718751990061,\n        \"min\": 11.990339689614826,\n        \"max\": 2232.0,\n        \"num_unique_values\": 8,\n        \"samples\": [\n          1968.7925627240143,\n          1970.0,\n          2232.0\n        ],\n        \"semantic_type\": \"\",\n        \"description\": \"\"\n      }\n    },\n    {\n      \"column\": \"Income\",\n      \"properties\": {\n        \"dtype\": \"number\",\n        \"std\": 37237.19330166081,\n        \"min\": 1730.0,\n        \"max\": 113734.0,\n        \"num_unique_values\": 8,\n        \"samples\": [\n          51640.23342293907,\n          51566.0,\n          2232.0\n        ],\n        \"semantic_type\": \"\",\n        \"description\": \"\"\n      }\n    },\n    {\n      \"column\": \"Kidhome\",\n      \"properties\": {\n        \"dtype\": \"number\",\n        \"std\": 788.930286999701,\n        \"min\": 0.0,\n        \"max\": 2232.0,\n        \"num_unique_values\": 6,\n        \"samples\": [\n          2232.0,\n          0.4444444444444444,\n          2.0\n        ],\n        \"semantic_type\": \"\",\n        \"description\": \"\"\n      }\n    },\n    {\n      \"column\": \"Teenhome\",\n      \"properties\": {\n        \"dtype\": \"number\",\n        \"std\": 788.9268090407774,\n        \"min\": 0.0,\n        \"max\": 2232.0,\n        \"num_unique_values\": 6,\n        \"samples\": [\n          2232.0,\n          0.507168458781362,\n          2.0\n        ],\n        \"semantic_type\": \"\",\n        \"description\": \"\"\n      }\n    },\n    {\n      \"column\": \"Recency\",\n      \"properties\": {\n        \"dtype\": \"number\",\n        \"std\": 773.3641973227717,\n        \"min\": 0.0,\n        \"max\": 2232.0,\n        \"num_unique_values\": 8,\n        \"samples\": [\n          49.111111111111114,\n          49.0,\n          2232.0\n        ],\n        \"semantic_type\": \"\",\n        \"description\": \"\"\n      }\n    },\n    {\n      \"column\": \"MntWines\",\n      \"properties\": {\n        \"dtype\": \"number\",\n        \"std\": 800.7647924511158,\n        \"min\": 0.0,\n        \"max\": 2232.0,\n        \"num_unique_values\": 8,\n        \"samples\": [\n          304.9301075268817,\n          176.0,\n          2232.0\n        ],\n        \"semantic_type\": \"\",\n        \"description\": \"\"\n      }\n    },\n    {\n      \"column\": \"MntFruits\",\n      \"properties\": {\n        \"dtype\": \"number\",\n        \"std\": 776.2810115145633,\n        \"min\": 0.0,\n        \"max\": 2232.0,\n        \"num_unique_values\": 8,\n        \"samples\": [\n          26.38037634408602,\n          8.0,\n          2232.0\n        ],\n        \"semantic_type\": \"\",\n        \"description\": \"\"\n      }\n    },\n    {\n      \"column\": \"MntMeatProducts\",\n      \"properties\": {\n        \"dtype\": \"number\",\n        \"std\": 876.7944830681461,\n        \"min\": 0.0,\n        \"max\": 2232.0,\n        \"num_unique_values\": 8,\n        \"samples\": [\n          165.31944444444446,\n          67.0,\n          2232.0\n        ],\n        \"semantic_type\": \"\",\n        \"description\": \"\"\n      }\n    },\n    {\n      \"column\": \"MntFishProducts\",\n      \"properties\": {\n        \"dtype\": \"number\",\n        \"std\": 772.6814905162796,\n        \"min\": 0.0,\n        \"max\": 2232.0,\n        \"num_unique_values\": 8,\n        \"samples\": [\n          37.64471326164875,\n          12.0,\n          2232.0\n        ],\n        \"semantic_type\": \"\",\n        \"description\": \"\"\n      }\n    },\n    {\n      \"column\": \"MntSweetProducts\",\n      \"properties\": {\n        \"dtype\": \"number\",\n        \"std\": 775.098278307049,\n        \"min\": 0.0,\n        \"max\": 2232.0,\n        \"num_unique_values\": 8,\n        \"samples\": [\n          27.155465949820787,\n          8.0,\n          2232.0\n        ],\n        \"semantic_type\": \"\",\n        \"description\": \"\"\n      }\n    },\n    {\n      \"column\": \"MntGoldProds\",\n      \"properties\": {\n        \"dtype\": \"number\",\n        \"std\": 770.4595449715413,\n        \"min\": 0.0,\n        \"max\": 2232.0,\n        \"num_unique_values\": 8,\n        \"samples\": [\n          44.166218637992834,\n          24.5,\n          2232.0\n        ],\n        \"semantic_type\": \"\",\n        \"description\": \"\"\n      }\n    },\n    {\n      \"column\": \"NumDealsPurchases\",\n      \"properties\": {\n        \"dtype\": \"number\",\n        \"std\": 787.8719819260546,\n        \"min\": 0.0,\n        \"max\": 2232.0,\n        \"num_unique_values\": 8,\n        \"samples\": [\n          2.318100358422939,\n          2.0,\n          2232.0\n        ],\n        \"semantic_type\": \"\",\n        \"description\": \"\"\n      }\n    },\n    {\n      \"column\": \"NumWebPurchases\",\n      \"properties\": {\n        \"dtype\": \"number\",\n        \"std\": 786.8604575900022,\n        \"min\": 0.0,\n        \"max\": 2232.0,\n        \"num_unique_values\": 8,\n        \"samples\": [\n          4.097670250896058,\n          4.0,\n          2232.0\n        ],\n        \"semantic_type\": \"\",\n        \"description\": \"\"\n      }\n    },\n    {\n      \"column\": \"NumCatalogPurchases\",\n      \"properties\": {\n        \"dtype\": \"number\",\n        \"std\": 787.1936828000945,\n        \"min\": 0.0,\n        \"max\": 2232.0,\n        \"num_unique_values\": 7,\n        \"samples\": [\n          2232.0,\n          2.6362007168458783,\n          4.0\n        ],\n        \"semantic_type\": \"\",\n        \"description\": \"\"\n      }\n    },\n    {\n      \"column\": \"NumStorePurchases\",\n      \"properties\": {\n        \"dtype\": \"number\",\n        \"std\": 787.2188043731459,\n        \"min\": 0.0,\n        \"max\": 2232.0,\n        \"num_unique_values\": 8,\n        \"samples\": [\n          5.808243727598566,\n          5.0,\n          2232.0\n        ],\n        \"semantic_type\": \"\",\n        \"description\": \"\"\n      }\n    },\n    {\n      \"column\": \"NumWebVisitsMonth\",\n      \"properties\": {\n        \"dtype\": \"number\",\n        \"std\": 786.9447532194858,\n        \"min\": 0.0,\n        \"max\": 2232.0,\n        \"num_unique_values\": 8,\n        \"samples\": [\n          5.331541218637993,\n          6.0,\n          2232.0\n        ],\n        \"semantic_type\": \"\",\n        \"description\": \"\"\n      }\n    },\n    {\n      \"column\": \"Response\",\n      \"properties\": {\n        \"dtype\": \"number\",\n        \"std\": 789.055155758733,\n        \"min\": 0.0,\n        \"max\": 2232.0,\n        \"num_unique_values\": 5,\n        \"samples\": [\n          0.1496415770609319,\n          1.0,\n          0.3567996808006911\n        ],\n        \"semantic_type\": \"\",\n        \"description\": \"\"\n      }\n    },\n    {\n      \"column\": \"Complain\",\n      \"properties\": {\n        \"dtype\": \"number\",\n        \"std\": 789.0753833995857,\n        \"min\": 0.0,\n        \"max\": 2232.0,\n        \"num_unique_values\": 5,\n        \"samples\": [\n          0.009408602150537635,\n          1.0,\n          0.09656219700797998\n        ],\n        \"semantic_type\": \"\",\n        \"description\": \"\"\n      }\n    }\n  ]\n}"
            }
          },
          "metadata": {},
          "execution_count": 48
        }
      ]
    },
    {
      "cell_type": "code",
      "source": [
        "key_variables = ['Year_Birth', 'Income', 'MntFishProducts', 'MntMeatProducts', 'MntFruits', 'MntSweetProducts', 'MntWines', 'MntGoldProds']"
      ],
      "metadata": {
        "id": "TmzcpTgkLFbn"
      },
      "execution_count": null,
      "outputs": []
    },
    {
      "cell_type": "markdown",
      "source": [
        "# Calculate measures of central tendency"
      ],
      "metadata": {
        "id": "FCL8udrao_3e"
      }
    },
    {
      "cell_type": "code",
      "source": [
        "mean = store_df[key_variables].mean()\n",
        "median = store_df[key_variables].median()\n",
        "mode = store_df[key_variables].mode()\n",
        "variance = store_df[key_variables].var()\n",
        "std_dev = store_df[key_variables].std()"
      ],
      "metadata": {
        "id": "iVdWmk6sK7bV"
      },
      "execution_count": null,
      "outputs": []
    },
    {
      "cell_type": "code",
      "source": [
        "print(\"Mean:\\n\", mean)\n",
        "print(\"\\nMedian:\\n\", median)\n",
        "print(\"\\nMode:\\n\", mode)\n",
        "print(\"\\nVariance:\\n\", variance)\n",
        "print(\"\\nStandard Deviation:\\n\", std_dev)"
      ],
      "metadata": {
        "colab": {
          "base_uri": "https://localhost:8080/"
        },
        "id": "_y1gaLr6LBzG",
        "outputId": "df301a8d-28e8-49f2-e711-9e7bff6a265f"
      },
      "execution_count": null,
      "outputs": [
        {
          "output_type": "stream",
          "name": "stdout",
          "text": [
            "Mean:\n",
            " Year_Birth           1968.792563\n",
            "Income              51640.233423\n",
            "MntFishProducts        37.644713\n",
            "MntMeatProducts       165.319444\n",
            "MntFruits              26.380376\n",
            "MntSweetProducts       27.155466\n",
            "MntWines              304.930108\n",
            "MntGoldProds           44.166219\n",
            "dtype: float64\n",
            "\n",
            "Median:\n",
            " Year_Birth           1970.0\n",
            "Income              51566.0\n",
            "MntFishProducts        12.0\n",
            "MntMeatProducts        67.0\n",
            "MntFruits               8.0\n",
            "MntSweetProducts        8.0\n",
            "MntWines              176.0\n",
            "MntGoldProds           24.5\n",
            "dtype: float64\n",
            "\n",
            "Mode:\n",
            "    Year_Birth   Income  MntFishProducts  MntMeatProducts  MntFruits  \\\n",
            "0      1976.0  52247.0              0.0              7.0        0.0   \n",
            "1         NaN      NaN              NaN              NaN        NaN   \n",
            "2         NaN      NaN              NaN              NaN        NaN   \n",
            "\n",
            "   MntSweetProducts  MntWines  MntGoldProds  \n",
            "0               0.0       2.0             1  \n",
            "1               NaN       NaN             3  \n",
            "2               NaN       NaN             4  \n",
            "\n",
            "Variance:\n",
            " Year_Birth          1.437682e+02\n",
            "Income              4.244325e+08\n",
            "MntFishProducts     2.990942e+03\n",
            "MntMeatProducts     4.813699e+04\n",
            "MntFruits           1.585754e+03\n",
            "MntSweetProducts    1.707790e+03\n",
            "MntWines            1.134241e+05\n",
            "MntGoldProds        2.725310e+03\n",
            "dtype: float64\n",
            "\n",
            "Standard Deviation:\n",
            " Year_Birth             11.990340\n",
            "Income              20601.760289\n",
            "MntFishProducts        54.689504\n",
            "MntMeatProducts       219.401447\n",
            "MntFruits              39.821532\n",
            "MntSweetProducts       41.325414\n",
            "MntWines              336.784950\n",
            "MntGoldProds           52.204505\n",
            "dtype: float64\n"
          ]
        }
      ]
    },
    {
      "cell_type": "code",
      "source": [
        "for var in key_variables:\n",
        "    plt.figure(figsize=(8, 4))\n",
        "    sns.boxplot(x=store_df[var],orient='h')\n",
        "    plt.title('Box plot of ' + var)\n",
        "    plt.show()"
      ],
      "metadata": {
        "colab": {
          "base_uri": "https://localhost:8080/",
          "height": 1000
        },
        "id": "Q66006WNLSSI",
        "outputId": "c400c997-96d4-4ec8-9e09-de3ed050a7d1"
      },
      "execution_count": null,
      "outputs": [
        {
          "output_type": "display_data",
          "data": {
            "text/plain": [
              "<Figure size 800x400 with 1 Axes>"
            ],
            "image/png": "[encoded data removed]"
          },
          "metadata": {}
        },
        {
          "output_type": "display_data",
          "data": {
            "text/plain": [
              "<Figure size 800x400 with 1 Axes>"
            ],
            "image/png": "[encoded data removed]"
          },
          "metadata": {}
        },
        {
          "output_type": "display_data",
          "data": {
            "text/plain": [
              "<Figure size 800x400 with 1 Axes>"
            ],
            "image/png": "[encoded data removed]"
          },
          "metadata": {}
        },
        {
          "output_type": "display_data",
          "data": {
            "text/plain": [
              "<Figure size 800x400 with 1 Axes>"
            ],
            "image/png": "[encoded data removed]"
          },
          "metadata": {}
        },
        {
          "output_type": "display_data",
          "data": {
            "text/plain": [
              "<Figure size 800x400 with 1 Axes>"
            ],
            "image/png": "[encoded data removed]"
          },
          "metadata": {}
        },
        {
          "output_type": "display_data",
          "data": {
            "text/plain": [
              "<Figure size 800x400 with 1 Axes>"
            ],
            "image/png": "[encoded data removed]"
          },
          "metadata": {}
        },
        {
          "output_type": "display_data",
          "data": {
            "text/plain": [
              "<Figure size 800x400 with 1 Axes>"
            ],
            "image/png": "[encoded data removed]"
          },
          "metadata": {}
        },
        {
          "output_type": "display_data",
          "data": {
            "text/plain": [
              "<Figure size 800x400 with 1 Axes>"
            ],
            "image/png": "[encoded data removed]"
          },
          "metadata": {}
        }
      ]
    },
    {
      "cell_type": "markdown",
      "source": [
        "We observed from the above boxplots outliers present in columns such as'MntFishProducts', 'MntMeatProducts', 'MntFruits', 'MntSweetProducts', 'MntWines', 'MntGoldProds'."
      ],
      "metadata": {
        "id": "aNCUKwEpaVeh"
      }
    },
    {
      "cell_type": "code",
      "source": [
        "import pandas as pd\n",
        "\n",
        "# Specify the columns you're interested in\n",
        "columns = ['MntFishProducts', 'MntMeatProducts', 'MntFruits', 'MntSweetProducts', 'MntWines', 'MntGoldProds']\n",
        "\n",
        "# Assuming store_df is your DataFrame and columns are the ones for which you want to remove outliers\n",
        "Q1 = store_df[columns].quantile(0.25)\n",
        "Q3 = store_df[columns].quantile(0.75)\n",
        "IQR = Q3 - Q1\n",
        "\n",
        "# Define a multiplier for the IQR. A common practice is to use 1.5, meaning any data point less than Q1-1.5*IQR or greater than Q3+1.5*IQR is considered an outlier.\n",
        "multiplier = 1.5\n",
        "store_df_out = store_df[~((store_df[columns] < (Q1 - multiplier * IQR)) | (store_df[columns] > (Q3 + multiplier * IQR))).any(axis=1)]\n"
      ],
      "metadata": {
        "id": "Wq0IgUKhOzQG"
      },
      "execution_count": null,
      "outputs": []
    },
    {
      "cell_type": "code",
      "source": [
        "store_df_out"
      ],
      "metadata": {
        "colab": {
          "base_uri": "https://localhost:8080/",
          "height": 443
        },
        "id": "WJdHybKfN3Q3",
        "outputId": "dc1b8064-f0c1-4a9f-cb88-361bf90a5a66"
      },
      "execution_count": null,
      "outputs": [
        {
          "output_type": "execute_result",
          "data": {
            "text/plain": [
              "         Id  Year_Birth   Education Marital_Status  Income  Kidhome  Teenhome  \\\n",
              "1         1        1961  Graduation         Single   57091        0         0   \n",
              "2     10476        1958  Graduation        Married   67267        0         1   \n",
              "3      1386        1967  Graduation       Together   32474        1         1   \n",
              "4      5371        1989  Graduation         Single   21474        1         0   \n",
              "7      1991        1967  Graduation       Together   44931        0         1   \n",
              "...     ...         ...         ...            ...     ...      ...       ...   \n",
              "2233   7829        1900    2n Cycle       Divorced   36640        1         0   \n",
              "2234   9977        1973  Graduation       Divorced   78901        0         1   \n",
              "2235  10142        1976         PhD       Divorced   66476        0         1   \n",
              "2236   5263        1977    2n Cycle        Married   31056        1         0   \n",
              "2237     22        1976  Graduation       Divorced   46310        1         0   \n",
              "\n",
              "     Dt_Customer  Recency  MntWines  ...  MntFishProducts  MntSweetProducts  \\\n",
              "1     2014-06-15        0       464  ...                7                 0   \n",
              "2     2014-05-13        0       134  ...               15                 2   \n",
              "3     2014-05-13        0        10  ...                0                 0   \n",
              "4     2014-05-13        0         6  ...               11                 0   \n",
              "7     2014-01-18        0        78  ...                0                 0   \n",
              "...          ...      ...       ...  ...              ...               ...   \n",
              "2233  2013-09-26       99        15  ...                7                 4   \n",
              "2234  2013-09-17       99       321  ...               33                26   \n",
              "2235  2013-09-17       99       372  ...               47                48   \n",
              "2236  2013-01-22       99         5  ...                3                 8   \n",
              "2237  2013-01-22       99       185  ...               15                 5   \n",
              "\n",
              "      MntGoldProds  NumDealsPurchases  NumWebPurchases  NumCatalogPurchases  \\\n",
              "1               37                  1                7                    3   \n",
              "2               30                  1                3                    2   \n",
              "3                0                  1                1                    0   \n",
              "4               34                  2                3                    1   \n",
              "7                7                  1                2                    1   \n",
              "...            ...                ...              ...                  ...   \n",
              "2233            25                  1                2                    1   \n",
              "2234            34                  3                9                    3   \n",
              "2235            78                  2                5                    2   \n",
              "2236            16                  1                1                    0   \n",
              "2237            14                  2                6                    1   \n",
              "\n",
              "      NumStorePurchases  NumWebVisitsMonth  Response  Complain  \n",
              "1                     7                  5         1         0  \n",
              "2                     5                  2         0         0  \n",
              "3                     2                  7         0         0  \n",
              "4                     2                  7         1         0  \n",
              "7                     3                  5         0         0  \n",
              "...                 ...                ...       ...       ...  \n",
              "2233                  2                  5         0         1  \n",
              "2234                  5                  4         0         0  \n",
              "2235                 11                  4         0         0  \n",
              "2236                  3                  8         0         0  \n",
              "2237                  5                  8         0         0  \n",
              "\n",
              "[1601 rows x 22 columns]"
            ],
            "text/html": [
              "\n",
              "  <div id=\"df-8fc04ccd-9a10-42f4-84c6-cca561bb4b84\" class=\"colab-df-container\">\n",
              "    <div>\n",
              "<style scoped>\n",
              "    .dataframe tbody tr th:only-of-type {\n",
              "        vertical-align: middle;\n",
              "    }\n",
              "\n",
              "    .dataframe tbody tr th {\n",
              "        vertical-align: top;\n",
              "    }\n",
              "\n",
              "    .dataframe thead th {\n",
              "        text-align: right;\n",
              "    }\n",
              "</style>\n",
              "<table border=\"1\" class=\"dataframe\">\n",
              "  <thead>\n",
              "    <tr style=\"text-align: right;\">\n",
              "      <th></th>\n",
              "      <th>Id</th>\n",
              "      <th>Year_Birth</th>\n",
              "      <th>Education</th>\n",
              "      <th>Marital_Status</th>\n",
              "      <th>Income</th>\n",
              "      <th>Kidhome</th>\n",
              "      <th>Teenhome</th>\n",
              "      <th>Dt_Customer</th>\n",
              "      <th>Recency</th>\n",
              "      <th>MntWines</th>\n",
              "      <th>...</th>\n",
              "      <th>MntFishProducts</th>\n",
              "      <th>MntSweetProducts</th>\n",
              "      <th>MntGoldProds</th>\n",
              "      <th>NumDealsPurchases</th>\n",
              "      <th>NumWebPurchases</th>\n",
              "      <th>NumCatalogPurchases</th>\n",
              "      <th>NumStorePurchases</th>\n",
              "      <th>NumWebVisitsMonth</th>\n",
              "      <th>Response</th>\n",
              "      <th>Complain</th>\n",
              "    </tr>\n",
              "  </thead>\n",
              "  <tbody>\n",
              "    <tr>\n",
              "      <th>1</th>\n",
              "      <td>1</td>\n",
              "      <td>1961</td>\n",
              "      <td>Graduation</td>\n",
              "      <td>Single</td>\n",
              "      <td>57091</td>\n",
              "      <td>0</td>\n",
              "      <td>0</td>\n",
              "      <td>2014-06-15</td>\n",
              "      <td>0</td>\n",
              "      <td>464</td>\n",
              "      <td>...</td>\n",
              "      <td>7</td>\n",
              "      <td>0</td>\n",
              "      <td>37</td>\n",
              "      <td>1</td>\n",
              "      <td>7</td>\n",
              "      <td>3</td>\n",
              "      <td>7</td>\n",
              "      <td>5</td>\n",
              "      <td>1</td>\n",
              "      <td>0</td>\n",
              "    </tr>\n",
              "    <tr>\n",
              "      <th>2</th>\n",
              "      <td>10476</td>\n",
              "      <td>1958</td>\n",
              "      <td>Graduation</td>\n",
              "      <td>Married</td>\n",
              "      <td>67267</td>\n",
              "      <td>0</td>\n",
              "      <td>1</td>\n",
              "      <td>2014-05-13</td>\n",
              "      <td>0</td>\n",
              "      <td>134</td>\n",
              "      <td>...</td>\n",
              "      <td>15</td>\n",
              "      <td>2</td>\n",
              "      <td>30</td>\n",
              "      <td>1</td>\n",
              "      <td>3</td>\n",
              "      <td>2</td>\n",
              "      <td>5</td>\n",
              "      <td>2</td>\n",
              "      <td>0</td>\n",
              "      <td>0</td>\n",
              "    </tr>\n",
              "    <tr>\n",
              "      <th>3</th>\n",
              "      <td>1386</td>\n",
              "      <td>1967</td>\n",
              "      <td>Graduation</td>\n",
              "      <td>Together</td>\n",
              "      <td>32474</td>\n",
              "      <td>1</td>\n",
              "      <td>1</td>\n",
              "      <td>2014-05-13</td>\n",
              "      <td>0</td>\n",
              "      <td>10</td>\n",
              "      <td>...</td>\n",
              "      <td>0</td>\n",
              "      <td>0</td>\n",
              "      <td>0</td>\n",
              "      <td>1</td>\n",
              "      <td>1</td>\n",
              "      <td>0</td>\n",
              "      <td>2</td>\n",
              "      <td>7</td>\n",
              "      <td>0</td>\n",
              "      <td>0</td>\n",
              "    </tr>\n",
              "    <tr>\n",
              "      <th>4</th>\n",
              "      <td>5371</td>\n",
              "      <td>1989</td>\n",
              "      <td>Graduation</td>\n",
              "      <td>Single</td>\n",
              "      <td>21474</td>\n",
              "      <td>1</td>\n",
              "      <td>0</td>\n",
              "      <td>2014-05-13</td>\n",
              "      <td>0</td>\n",
              "      <td>6</td>\n",
              "      <td>...</td>\n",
              "      <td>11</td>\n",
              "      <td>0</td>\n",
              "      <td>34</td>\n",
              "      <td>2</td>\n",
              "      <td>3</td>\n",
              "      <td>1</td>\n",
              "      <td>2</td>\n",
              "      <td>7</td>\n",
              "      <td>1</td>\n",
              "      <td>0</td>\n",
              "    </tr>\n",
              "    <tr>\n",
              "      <th>7</th>\n",
              "      <td>1991</td>\n",
              "      <td>1967</td>\n",
              "      <td>Graduation</td>\n",
              "      <td>Together</td>\n",
              "      <td>44931</td>\n",
              "      <td>0</td>\n",
              "      <td>1</td>\n",
              "      <td>2014-01-18</td>\n",
              "      <td>0</td>\n",
              "      <td>78</td>\n",
              "      <td>...</td>\n",
              "      <td>0</td>\n",
              "      <td>0</td>\n",
              "      <td>7</td>\n",
              "      <td>1</td>\n",
              "      <td>2</td>\n",
              "      <td>1</td>\n",
              "      <td>3</td>\n",
              "      <td>5</td>\n",
              "      <td>0</td>\n",
              "      <td>0</td>\n",
              "    </tr>\n",
              "    <tr>\n",
              "      <th>...</th>\n",
              "      <td>...</td>\n",
              "      <td>...</td>\n",
              "      <td>...</td>\n",
              "      <td>...</td>\n",
              "      <td>...</td>\n",
              "      <td>...</td>\n",
              "      <td>...</td>\n",
              "      <td>...</td>\n",
              "      <td>...</td>\n",
              "      <td>...</td>\n",
              "      <td>...</td>\n",
              "      <td>...</td>\n",
              "      <td>...</td>\n",
              "      <td>...</td>\n",
              "      <td>...</td>\n",
              "      <td>...</td>\n",
              "      <td>...</td>\n",
              "      <td>...</td>\n",
              "      <td>...</td>\n",
              "      <td>...</td>\n",
              "      <td>...</td>\n",
              "    </tr>\n",
              "    <tr>\n",
              "      <th>2233</th>\n",
              "      <td>7829</td>\n",
              "      <td>1900</td>\n",
              "      <td>2n Cycle</td>\n",
              "      <td>Divorced</td>\n",
              "      <td>36640</td>\n",
              "      <td>1</td>\n",
              "      <td>0</td>\n",
              "      <td>2013-09-26</td>\n",
              "      <td>99</td>\n",
              "      <td>15</td>\n",
              "      <td>...</td>\n",
              "      <td>7</td>\n",
              "      <td>4</td>\n",
              "      <td>25</td>\n",
              "      <td>1</td>\n",
              "      <td>2</td>\n",
              "      <td>1</td>\n",
              "      <td>2</td>\n",
              "      <td>5</td>\n",
              "      <td>0</td>\n",
              "      <td>1</td>\n",
              "    </tr>\n",
              "    <tr>\n",
              "      <th>2234</th>\n",
              "      <td>9977</td>\n",
              "      <td>1973</td>\n",
              "      <td>Graduation</td>\n",
              "      <td>Divorced</td>\n",
              "      <td>78901</td>\n",
              "      <td>0</td>\n",
              "      <td>1</td>\n",
              "      <td>2013-09-17</td>\n",
              "      <td>99</td>\n",
              "      <td>321</td>\n",
              "      <td>...</td>\n",
              "      <td>33</td>\n",
              "      <td>26</td>\n",
              "      <td>34</td>\n",
              "      <td>3</td>\n",
              "      <td>9</td>\n",
              "      <td>3</td>\n",
              "      <td>5</td>\n",
              "      <td>4</td>\n",
              "      <td>0</td>\n",
              "      <td>0</td>\n",
              "    </tr>\n",
              "    <tr>\n",
              "      <th>2235</th>\n",
              "      <td>10142</td>\n",
              "      <td>1976</td>\n",
              "      <td>PhD</td>\n",
              "      <td>Divorced</td>\n",
              "      <td>66476</td>\n",
              "      <td>0</td>\n",
              "      <td>1</td>\n",
              "      <td>2013-09-17</td>\n",
              "      <td>99</td>\n",
              "      <td>372</td>\n",
              "      <td>...</td>\n",
              "      <td>47</td>\n",
              "      <td>48</td>\n",
              "      <td>78</td>\n",
              "      <td>2</td>\n",
              "      <td>5</td>\n",
              "      <td>2</td>\n",
              "      <td>11</td>\n",
              "      <td>4</td>\n",
              "      <td>0</td>\n",
              "      <td>0</td>\n",
              "    </tr>\n",
              "    <tr>\n",
              "      <th>2236</th>\n",
              "      <td>5263</td>\n",
              "      <td>1977</td>\n",
              "      <td>2n Cycle</td>\n",
              "      <td>Married</td>\n",
              "      <td>31056</td>\n",
              "      <td>1</td>\n",
              "      <td>0</td>\n",
              "      <td>2013-01-22</td>\n",
              "      <td>99</td>\n",
              "      <td>5</td>\n",
              "      <td>...</td>\n",
              "      <td>3</td>\n",
              "      <td>8</td>\n",
              "      <td>16</td>\n",
              "      <td>1</td>\n",
              "      <td>1</td>\n",
              "      <td>0</td>\n",
              "      <td>3</td>\n",
              "      <td>8</td>\n",
              "      <td>0</td>\n",
              "      <td>0</td>\n",
              "    </tr>\n",
              "    <tr>\n",
              "      <th>2237</th>\n",
              "      <td>22</td>\n",
              "      <td>1976</td>\n",
              "      <td>Graduation</td>\n",
              "      <td>Divorced</td>\n",
              "      <td>46310</td>\n",
              "      <td>1</td>\n",
              "      <td>0</td>\n",
              "      <td>2013-01-22</td>\n",
              "      <td>99</td>\n",
              "      <td>185</td>\n",
              "      <td>...</td>\n",
              "      <td>15</td>\n",
              "      <td>5</td>\n",
              "      <td>14</td>\n",
              "      <td>2</td>\n",
              "      <td>6</td>\n",
              "      <td>1</td>\n",
              "      <td>5</td>\n",
              "      <td>8</td>\n",
              "      <td>0</td>\n",
              "      <td>0</td>\n",
              "    </tr>\n",
              "  </tbody>\n",
              "</table>\n",
              "<p>1601 rows × 22 columns</p>\n",
              "</div>\n",
              "    <div class=\"colab-df-buttons\">\n",
              "\n",
              "  <div class=\"colab-df-container\">\n",
              "    <button class=\"colab-df-convert\" onclick=\"convertToInteractive('df-8fc04ccd-9a10-42f4-84c6-cca561bb4b84')\"\n",
              "            title=\"Convert this dataframe to an interactive table.\"\n",
              "            style=\"display:none;\">\n",
              "\n",
              "  <svg xmlns=\"http://www.w3.org/2000/svg\" height=\"24px\" viewBox=\"0 -960 960 960\">\n",
              "    <path d=\"M120-120v-720h720v720H120Zm60-500h600v-160H180v160Zm220 220h160v-160H400v160Zm0 220h160v-160H400v160ZM180-400h160v-160H180v160Zm440 0h160v-160H620v160ZM180-180h160v-160H180v160Zm440 0h160v-160H620v160Z\"/>\n",
              "  </svg>\n",
              "    </button>\n",
              "\n",
              "  <style>\n",
              "    .colab-df-container {\n",
              "      display:flex;\n",
              "      gap: 12px;\n",
              "    }\n",
              "\n",
              "    .colab-df-convert {\n",
              "      background-color: #E8F0FE;\n",
              "      border: none;\n",
              "      border-radius: 50%;\n",
              "      cursor: pointer;\n",
              "      display: none;\n",
              "      fill: #1967D2;\n",
              "      height: 32px;\n",
              "      padding: 0 0 0 0;\n",
              "      width: 32px;\n",
              "    }\n",
              "\n",
              "    .colab-df-convert:hover {\n",
              "      background-color: #E2EBFA;\n",
              "      box-shadow: 0px 1px 2px rgba(60, 64, 67, 0.3), 0px 1px 3px 1px rgba(60, 64, 67, 0.15);\n",
              "      fill: #174EA6;\n",
              "    }\n",
              "\n",
              "    .colab-df-buttons div {\n",
              "      margin-bottom: 4px;\n",
              "    }\n",
              "\n",
              "    [theme=dark] .colab-df-convert {\n",
              "      background-color: #3B4455;\n",
              "      fill: #D2E3FC;\n",
              "    }\n",
              "\n",
              "    [theme=dark] .colab-df-convert:hover {\n",
              "      background-color: #434B5C;\n",
              "      box-shadow: 0px 1px 3px 1px rgba(0, 0, 0, 0.15);\n",
              "      filter: drop-shadow(0px 1px 2px rgba(0, 0, 0, 0.3));\n",
              "      fill: #FFFFFF;\n",
              "    }\n",
              "  </style>\n",
              "\n",
              "    <script>\n",
              "      const buttonEl =\n",
              "        document.querySelector('#df-8fc04ccd-9a10-42f4-84c6-cca561bb4b84 button.colab-df-convert');\n",
              "      buttonEl.style.display =\n",
              "        google.colab.kernel.accessAllowed ? 'block' : 'none';\n",
              "\n",
              "      async function convertToInteractive(key) {\n",
              "        const element = document.querySelector('#df-8fc04ccd-9a10-42f4-84c6-cca561bb4b84');\n",
              "        const dataTable =\n",
              "          await google.colab.kernel.invokeFunction('convertToInteractive',\n",
              "                                                    [key], {});\n",
              "        if (!dataTable) return;\n",
              "\n",
              "        const docLinkHtml = 'Like what you see? Visit the ' +\n",
              "          '<a target=\"_blank\" href=https://colab.research.google.com/notebooks/data_table.ipynb>data table notebook</a>'\n",
              "          + ' to learn more about interactive tables.';\n",
              "        element.innerHTML = '';\n",
              "        dataTable['output_type'] = 'display_data';\n",
              "        await google.colab.output.renderOutput(dataTable, element);\n",
              "        const docLink = document.createElement('div');\n",
              "        docLink.innerHTML = docLinkHtml;\n",
              "        element.appendChild(docLink);\n",
              "      }\n",
              "    </script>\n",
              "  </div>\n",
              "\n",
              "\n",
              "<div id=\"df-ce7c3ea7-88a5-4888-a73f-50596001530d\">\n",
              "  <button class=\"colab-df-quickchart\" onclick=\"quickchart('df-ce7c3ea7-88a5-4888-a73f-50596001530d')\"\n",
              "            title=\"Suggest charts\"\n",
              "            style=\"display:none;\">\n",
              "\n",
              "<svg xmlns=\"http://www.w3.org/2000/svg\" height=\"24px\"viewBox=\"0 0 24 24\"\n",
              "     width=\"24px\">\n",
              "    <g>\n",
              "        <path d=\"M19 3H5c-1.1 0-2 .9-2 2v14c0 1.1.9 2 2 2h14c1.1 0 2-.9 2-2V5c0-1.1-.9-2-2-2zM9 17H7v-7h2v7zm4 0h-2V7h2v10zm4 0h-2v-4h2v4z\"/>\n",
              "    </g>\n",
              "</svg>\n",
              "  </button>\n",
              "\n",
              "<style>\n",
              "  .colab-df-quickchart {\n",
              "      --bg-color: #E8F0FE;\n",
              "      --fill-color: #1967D2;\n",
              "      --hover-bg-color: #E2EBFA;\n",
              "      --hover-fill-color: #174EA6;\n",
              "      --disabled-fill-color: #AAA;\n",
              "      --disabled-bg-color: #DDD;\n",
              "  }\n",
              "\n",
              "  [theme=dark] .colab-df-quickchart {\n",
              "      --bg-color: #3B4455;\n",
              "      --fill-color: #D2E3FC;\n",
              "      --hover-bg-color: #434B5C;\n",
              "      --hover-fill-color: #FFFFFF;\n",
              "      --disabled-bg-color: #3B4455;\n",
              "      --disabled-fill-color: #666;\n",
              "  }\n",
              "\n",
              "  .colab-df-quickchart {\n",
              "    background-color: var(--bg-color);\n",
              "    border: none;\n",
              "    border-radius: 50%;\n",
              "    cursor: pointer;\n",
              "    display: none;\n",
              "    fill: var(--fill-color);\n",
              "    height: 32px;\n",
              "    padding: 0;\n",
              "    width: 32px;\n",
              "  }\n",
              "\n",
              "  .colab-df-quickchart:hover {\n",
              "    background-color: var(--hover-bg-color);\n",
              "    box-shadow: 0 1px 2px rgba(60, 64, 67, 0.3), 0 1px 3px 1px rgba(60, 64, 67, 0.15);\n",
              "    fill: var(--button-hover-fill-color);\n",
              "  }\n",
              "\n",
              "  .colab-df-quickchart-complete:disabled,\n",
              "  .colab-df-quickchart-complete:disabled:hover {\n",
              "    background-color: var(--disabled-bg-color);\n",
              "    fill: var(--disabled-fill-color);\n",
              "    box-shadow: none;\n",
              "  }\n",
              "\n",
              "  .colab-df-spinner {\n",
              "    border: 2px solid var(--fill-color);\n",
              "    border-color: transparent;\n",
              "    border-bottom-color: var(--fill-color);\n",
              "    animation:\n",
              "      spin 1s steps(1) infinite;\n",
              "  }\n",
              "\n",
              "  @keyframes spin {\n",
              "    0% {\n",
              "      border-color: transparent;\n",
              "      border-bottom-color: var(--fill-color);\n",
              "      border-left-color: var(--fill-color);\n",
              "    }\n",
              "    20% {\n",
              "      border-color: transparent;\n",
              "      border-left-color: var(--fill-color);\n",
              "      border-top-color: var(--fill-color);\n",
              "    }\n",
              "    30% {\n",
              "      border-color: transparent;\n",
              "      border-left-color: var(--fill-color);\n",
              "      border-top-color: var(--fill-color);\n",
              "      border-right-color: var(--fill-color);\n",
              "    }\n",
              "    40% {\n",
              "      border-color: transparent;\n",
              "      border-right-color: var(--fill-color);\n",
              "      border-top-color: var(--fill-color);\n",
              "    }\n",
              "    60% {\n",
              "      border-color: transparent;\n",
              "      border-right-color: var(--fill-color);\n",
              "    }\n",
              "    80% {\n",
              "      border-color: transparent;\n",
              "      border-right-color: var(--fill-color);\n",
              "      border-bottom-color: var(--fill-color);\n",
              "    }\n",
              "    90% {\n",
              "      border-color: transparent;\n",
              "      border-bottom-color: var(--fill-color);\n",
              "    }\n",
              "  }\n",
              "</style>\n",
              "\n",
              "  <script>\n",
              "    async function quickchart(key) {\n",
              "      const quickchartButtonEl =\n",
              "        document.querySelector('#' + key + ' button');\n",
              "      quickchartButtonEl.disabled = true;  // To prevent multiple clicks.\n",
              "      quickchartButtonEl.classList.add('colab-df-spinner');\n",
              "      try {\n",
              "        const charts = await google.colab.kernel.invokeFunction(\n",
              "            'suggestCharts', [key], {});\n",
              "      } catch (error) {\n",
              "        console.error('Error during call to suggestCharts:', error);\n",
              "      }\n",
              "      quickchartButtonEl.classList.remove('colab-df-spinner');\n",
              "      quickchartButtonEl.classList.add('colab-df-quickchart-complete');\n",
              "    }\n",
              "    (() => {\n",
              "      let quickchartButtonEl =\n",
              "        document.querySelector('#df-ce7c3ea7-88a5-4888-a73f-50596001530d button');\n",
              "      quickchartButtonEl.style.display =\n",
              "        google.colab.kernel.accessAllowed ? 'block' : 'none';\n",
              "    })();\n",
              "  </script>\n",
              "</div>\n",
              "\n",
              "  <div id=\"id_b7961045-a690-4184-88f4-25f85d5be95a\">\n",
              "    <style>\n",
              "      .colab-df-generate {\n",
              "        background-color: #E8F0FE;\n",
              "        border: none;\n",
              "        border-radius: 50%;\n",
              "        cursor: pointer;\n",
              "        display: none;\n",
              "        fill: #1967D2;\n",
              "        height: 32px;\n",
              "        padding: 0 0 0 0;\n",
              "        width: 32px;\n",
              "      }\n",
              "\n",
              "      .colab-df-generate:hover {\n",
              "        background-color: #E2EBFA;\n",
              "        box-shadow: 0px 1px 2px rgba(60, 64, 67, 0.3), 0px 1px 3px 1px rgba(60, 64, 67, 0.15);\n",
              "        fill: #174EA6;\n",
              "      }\n",
              "\n",
              "      [theme=dark] .colab-df-generate {\n",
              "        background-color: #3B4455;\n",
              "        fill: #D2E3FC;\n",
              "      }\n",
              "\n",
              "      [theme=dark] .colab-df-generate:hover {\n",
              "        background-color: #434B5C;\n",
              "        box-shadow: 0px 1px 3px 1px rgba(0, 0, 0, 0.15);\n",
              "        filter: drop-shadow(0px 1px 2px rgba(0, 0, 0, 0.3));\n",
              "        fill: #FFFFFF;\n",
              "      }\n",
              "    </style>\n",
              "    <button class=\"colab-df-generate\" onclick=\"generateWithVariable('store_df_out')\"\n",
              "            title=\"Generate code using this dataframe.\"\n",
              "            style=\"display:none;\">\n",
              "\n",
              "  <svg xmlns=\"http://www.w3.org/2000/svg\" height=\"24px\"viewBox=\"0 0 24 24\"\n",
              "       width=\"24px\">\n",
              "    <path d=\"M7,19H8.4L18.45,9,17,7.55,7,17.6ZM5,21V16.75L18.45,3.32a2,2,0,0,1,2.83,0l1.4,1.43a1.91,1.91,0,0,1,.58,1.4,1.91,1.91,0,0,1-.58,1.4L9.25,21ZM18.45,9,17,7.55Zm-12,3A5.31,5.31,0,0,0,4.9,8.1,5.31,5.31,0,0,0,1,6.5,5.31,5.31,0,0,0,4.9,4.9,5.31,5.31,0,0,0,6.5,1,5.31,5.31,0,0,0,8.1,4.9,5.31,5.31,0,0,0,12,6.5,5.46,5.46,0,0,0,6.5,12Z\"/>\n",
              "  </svg>\n",
              "    </button>\n",
              "    <script>\n",
              "      (() => {\n",
              "      const buttonEl =\n",
              "        document.querySelector('#id_b7961045-a690-4184-88f4-25f85d5be95a button.colab-df-generate');\n",
              "      buttonEl.style.display =\n",
              "        google.colab.kernel.accessAllowed ? 'block' : 'none';\n",
              "\n",
              "      buttonEl.onclick = () => {\n",
              "        google.colab.notebook.generateWithVariable('store_df_out');\n",
              "      }\n",
              "      })();\n",
              "    </script>\n",
              "  </div>\n",
              "\n",
              "    </div>\n",
              "  </div>\n"
            ],
            "application/vnd.google.colaboratory.intrinsic+json": {
              "type": "dataframe",
              "variable_name": "store_df_out"
            }
          },
          "metadata": {},
          "execution_count": 54
        }
      ]
    },
    {
      "cell_type": "code",
      "source": [
        "for column in columns:\n",
        "    plt.figure(figsize=(8, 4))\n",
        "    sns.boxplot(x=store_df_out[column],orient='h')\n",
        "    plt.title('Box plot of ' + column)\n",
        "    plt.show()"
      ],
      "metadata": {
        "colab": {
          "base_uri": "https://localhost:8080/",
          "height": 1000
        },
        "id": "wgjq90lGMMXR",
        "outputId": "5df16f29-a64a-41ba-9a63-53fcaee4255a"
      },
      "execution_count": null,
      "outputs": [
        {
          "output_type": "display_data",
          "data": {
            "text/plain": [
              "<Figure size 800x400 with 1 Axes>"
            ],
            "image/png": "[encoded data removed]"
          },
          "metadata": {}
        },
        {
          "output_type": "display_data",
          "data": {
            "text/plain": [
              "<Figure size 800x400 with 1 Axes>"
            ],
            "image/png": "[encoded data removed]"
          },
          "metadata": {}
        },
        {
          "output_type": "display_data",
          "data": {
            "text/plain": [
              "<Figure size 800x400 with 1 Axes>"
            ],
            "image/png": "[encoded data removed]"
          },
          "metadata": {}
        },
        {
          "output_type": "display_data",
          "data": {
            "text/plain": [
              "<Figure size 800x400 with 1 Axes>"
            ],
            "image/png": "[encoded data removed]"
          },
          "metadata": {}
        },
        {
          "output_type": "display_data",
          "data": {
            "text/plain": [
              "<Figure size 800x400 with 1 Axes>"
            ],
            "image/png": "[encoded data removed]"
          },
          "metadata": {}
        },
        {
          "output_type": "display_data",
          "data": {
            "text/plain": [
              "<Figure size 800x400 with 1 Axes>"
            ],
            "image/png": "[encoded data removed]"
          },
          "metadata": {}
        }
      ]
    },
    {
      "cell_type": "markdown",
      "source": [
        "## Task 3 - Probability Distributions 🎲\n",
        "\n",
        "- **Identify variables that could follow specific probability distributions (e.g., Binomial, Normal). Calculate probabilities and expected values based on these distributions.**\n",
        "\n"
      ],
      "metadata": {
        "id": "GCB3OLxXaSCZ"
      }
    },
    {
      "cell_type": "markdown",
      "source": [
        "**Deliverables**:\n",
        "\n",
        "- **Determination of suitable probability distributions for relevant variables and corresponding calculated probabilities and expected values.**:\n",
        "\n",
        "  "
      ],
      "metadata": {
        "id": "kgjtExiJay2_"
      }
    },
    {
      "cell_type": "code",
      "source": [
        "import numpy as np\n",
        "from scipy.stats import norm, binom, poisson\n",
        "\n",
        "# Normal Distribution for 'Year_Birth' and 'Income'\n",
        "mean_year_birth = store_df['Year_Birth'].mean()\n",
        "std_dev_year_birth = store_df['Year_Birth'].std()\n",
        "\n",
        "mean_income = store_df['Income'].mean()\n",
        "std_dev_income = store_df['Income'].std()\n",
        "\n",
        "# Binomial Distribution for 'Response' and 'Complain'\n",
        "p_response = store_df['Response'].mean()\n",
        "n_response = store_df['Response'].count()\n",
        "\n",
        "p_complain = store_df['Complain'].mean()\n",
        "n_complain = store_df['Complain'].count()\n",
        "\n",
        "# Poisson Distribution for 'NumWebPurchases', 'NumCatalogPurchases', 'NumStorePurchases', 'NumDealsPurchases'\n",
        "lambda_web_purchases = store_df['NumWebPurchases'].mean()\n",
        "lambda_catalog_purchases = store_df['NumCatalogPurchases'].mean()\n",
        "lambda_store_purchases = store_df['NumStorePurchases'].mean()\n",
        "lambda_deals_purchases = store_df['NumDealsPurchases'].mean()\n",
        "\n",
        "# Now you can use these parameters to calculate probabilities and expected values\n",
        "# For example, the probability that a randomly selected individual has an income less than $50,000 is:\n",
        "prob_income_less_50000 = norm.cdf(50000, loc=mean_income, scale=std_dev_income)\n",
        "\n",
        "# The expected number of responses is simply the mean of the 'Response' variable (for a Binomial distribution)\n",
        "expected_responses = n_response * p_response\n",
        "\n",
        "# The probability that a randomly selected individual made more than 5 web purchases is:\n",
        "prob_more_than_5_web_purchases = 1 - poisson.cdf(5, mu=lambda_web_purchases)\n",
        "\n",
        "# The probability that a randomly selected individual made more than 5 deals purchases is:\n",
        "prob_more_than_5_deals_purchases = 1 - poisson.cdf(5, mu=lambda_deals_purchases)\n",
        "\n",
        "print(\"Probability that a randomly selected individual has an income less than $50,000: \", prob_income_less_50000)\n",
        "print(\"Expected number of responses: \", expected_responses)\n",
        "print(\"Probability that a randomly selected individual made more than 5 web purchases: \", prob_more_than_5_web_purchases)\n",
        "print(\"Probability that a randomly selected individual made more than 5 deals purchases: \", prob_more_than_5_deals_purchases)\n"
      ],
      "metadata": {
        "colab": {
          "base_uri": "https://localhost:8080/"
        },
        "id": "AIxKsyciT6cS",
        "outputId": "632a802a-4d96-4220-93aa-8dc3e9a190dc"
      },
      "execution_count": null,
      "outputs": [
        {
          "output_type": "stream",
          "name": "stdout",
          "text": [
            "Probability that a randomly selected individual has an income less than $50,000:  0.4682712637729899\n",
            "Expected number of responses:  334.0\n",
            "Probability that a randomly selected individual made more than 5 web purchases:  0.2303151012473248\n",
            "Probability that a randomly selected individual made more than 5 deals purchases:  0.03095940468923708\n"
          ]
        }
      ]
    },
    {
      "cell_type": "markdown",
      "source": [
        "## Task 4: Insights and Customer Segmentation 📈\n",
        "\n",
        "- **Explore relationships between customer characteristics and spending habits. Segment customers based on their behaviors and characteristics.**"
      ],
      "metadata": {
        "id": "ZSHZP8wgcIKE"
      }
    },
    {
      "cell_type": "markdown",
      "source": [
        "**Deliverables**:\n",
        "\n",
        "- **Key insights regarding relationships between variables and distinct customer segments based on behaviors.**\n",
        "\n",
        "  "
      ],
      "metadata": {
        "id": "1UYOJxazcRi3"
      }
    },
    {
      "cell_type": "code",
      "source": [
        "correlation = store_df.corr()\n",
        "print(correlation)"
      ],
      "metadata": {
        "colab": {
          "base_uri": "https://localhost:8080/"
        },
        "id": "uCLA9CGWU1d5",
        "outputId": "4d360d23-2139-4ad7-8929-171d7ac2e606"
      },
      "execution_count": null,
      "outputs": [
        {
          "output_type": "stream",
          "name": "stdout",
          "text": [
            "                           Id  Year_Birth    Income   Kidhome  Teenhome  \\\n",
            "Id                   1.000000    0.001832  0.000794  0.002905 -0.001874   \n",
            "Year_Birth           0.001832    1.000000 -0.209560  0.230499 -0.352850   \n",
            "Income               0.000794   -0.209560  1.000000 -0.527623  0.042043   \n",
            "Kidhome              0.002905    0.230499 -0.527623  1.000000 -0.036841   \n",
            "Teenhome            -0.001874   -0.352850  0.042043 -0.036841  1.000000   \n",
            "Recency             -0.048885   -0.018201  0.005723  0.010428  0.015326   \n",
            "MntWines            -0.022356   -0.157340  0.728020 -0.498156  0.003338   \n",
            "MntFruits            0.004918   -0.017528  0.535837 -0.373654 -0.177940   \n",
            "MntMeatProducts     -0.002235   -0.038253  0.693954 -0.443308 -0.267387   \n",
            "MntFishProducts     -0.024134   -0.041162  0.550238 -0.388752 -0.205587   \n",
            "MntSweetProducts    -0.007367   -0.017495  0.549943 -0.371735 -0.163906   \n",
            "MntGoldProds        -0.013179   -0.061159  0.413499 -0.351017 -0.023017   \n",
            "NumDealsPurchases   -0.037305   -0.066686 -0.131303  0.231258  0.395656   \n",
            "NumWebPurchases     -0.018933   -0.144422  0.493069 -0.364699  0.154350   \n",
            "NumCatalogPurchases  0.000053   -0.135486  0.706688 -0.517080 -0.112485   \n",
            "NumStorePurchases   -0.014368   -0.127577  0.682147 -0.504096  0.048496   \n",
            "NumWebVisitsMonth   -0.007571    0.123488 -0.644793  0.449030  0.133457   \n",
            "Response            -0.021832    0.021822  0.174045 -0.080344 -0.155438   \n",
            "Complain             0.033990   -0.030059 -0.030273  0.040222  0.002978   \n",
            "\n",
            "                      Recency  MntWines  MntFruits  MntMeatProducts  \\\n",
            "Id                  -0.048885 -0.022356   0.004918        -0.002235   \n",
            "Year_Birth          -0.018201 -0.157340  -0.017528        -0.038253   \n",
            "Income               0.005723  0.728020   0.535837         0.693954   \n",
            "Kidhome              0.010428 -0.498156  -0.373654        -0.443308   \n",
            "Teenhome             0.015326  0.003338  -0.177940        -0.267387   \n",
            "Recency              1.000000  0.016190  -0.004093         0.025976   \n",
            "MntWines             0.016190  1.000000   0.388714         0.586803   \n",
            "MntFruits           -0.004093  0.388714   1.000000         0.563786   \n",
            "MntMeatProducts      0.025976  0.586803   0.563786         1.000000   \n",
            "MntFishProducts      0.001240  0.398706   0.594308         0.590312   \n",
            "MntSweetProducts     0.022694  0.385477   0.566655         0.544750   \n",
            "MntGoldProds         0.016838  0.386125   0.392104         0.367825   \n",
            "NumDealsPurchases   -0.002892  0.014020  -0.134085        -0.165584   \n",
            "NumWebPurchases     -0.010368  0.540877   0.295219         0.315160   \n",
            "NumCatalogPurchases  0.030444  0.673806   0.515792         0.704037   \n",
            "NumStorePurchases    0.001349  0.641156   0.460927         0.509449   \n",
            "NumWebVisitsMonth   -0.020333 -0.328249  -0.424982        -0.543495   \n",
            "Response            -0.198945  0.246398   0.124578         0.246767   \n",
            "Complain             0.013254 -0.039344  -0.005361        -0.023478   \n",
            "\n",
            "                     MntFishProducts  MntSweetProducts  MntGoldProds  \\\n",
            "Id                         -0.024134         -0.007367     -0.013179   \n",
            "Year_Birth                 -0.041162         -0.017495     -0.061159   \n",
            "Income                      0.550238          0.549943      0.413499   \n",
            "Kidhome                    -0.388752         -0.371735     -0.351017   \n",
            "Teenhome                   -0.205587         -0.163906     -0.023017   \n",
            "Recency                     0.001240          0.022694      0.016838   \n",
            "MntWines                    0.398706          0.385477      0.386125   \n",
            "MntFruits                   0.594308          0.566655      0.392104   \n",
            "MntMeatProducts             0.590312          0.544750      0.367825   \n",
            "MntFishProducts             1.000000          0.579301      0.421922   \n",
            "MntSweetProducts            0.579301          1.000000      0.368651   \n",
            "MntGoldProds                0.421922          0.368651      1.000000   \n",
            "NumDealsPurchases          -0.140938         -0.120717      0.053045   \n",
            "NumWebPurchases             0.291975          0.347020      0.419980   \n",
            "NumCatalogPurchases         0.565151          0.520101      0.466453   \n",
            "NumStorePurchases           0.458785          0.447598      0.379420   \n",
            "NumWebVisitsMonth          -0.453065         -0.430234     -0.257616   \n",
            "Response                    0.110527          0.116552      0.138885   \n",
            "Complain                   -0.021180         -0.022719     -0.031165   \n",
            "\n",
            "                     NumDealsPurchases  NumWebPurchases  NumCatalogPurchases  \\\n",
            "Id                           -0.037305        -0.018933             0.000053   \n",
            "Year_Birth                   -0.066686        -0.144422            -0.135486   \n",
            "Income                       -0.131303         0.493069             0.706688   \n",
            "Kidhome                       0.231258        -0.364699            -0.517080   \n",
            "Teenhome                      0.395656         0.154350            -0.112485   \n",
            "Recency                      -0.002892        -0.010368             0.030444   \n",
            "MntWines                      0.014020         0.540877             0.673806   \n",
            "MntFruits                    -0.134085         0.295219             0.515792   \n",
            "MntMeatProducts              -0.165584         0.315160             0.704037   \n",
            "MntFishProducts              -0.140938         0.291975             0.565151   \n",
            "MntSweetProducts             -0.120717         0.347020             0.520101   \n",
            "MntGoldProds                  0.053045         0.419980             0.466453   \n",
            "NumDealsPurchases             1.000000         0.245189            -0.054045   \n",
            "NumWebPurchases               0.245189         1.000000             0.411674   \n",
            "NumCatalogPurchases          -0.054045         0.411674             1.000000   \n",
            "NumStorePurchases             0.076264         0.499030             0.561571   \n",
            "NumWebVisitsMonth             0.365228        -0.065430            -0.528794   \n",
            "Response                      0.003816         0.147314             0.235217   \n",
            "Complain                      0.000784        -0.016815            -0.020521   \n",
            "\n",
            "                     NumStorePurchases  NumWebVisitsMonth  Response  Complain  \n",
            "Id                           -0.014368          -0.007571 -0.021832  0.033990  \n",
            "Year_Birth                   -0.127577           0.123488  0.021822 -0.030059  \n",
            "Income                        0.682147          -0.644793  0.174045 -0.030273  \n",
            "Kidhome                      -0.504096           0.449030 -0.080344  0.040222  \n",
            "Teenhome                      0.048496           0.133457 -0.155438  0.002978  \n",
            "Recency                       0.001349          -0.020333 -0.198945  0.013254  \n",
            "MntWines                      0.641156          -0.328249  0.246398 -0.039344  \n",
            "MntFruits                     0.460927          -0.424982  0.124578 -0.005361  \n",
            "MntMeatProducts               0.509449          -0.543495  0.246767 -0.023478  \n",
            "MntFishProducts               0.458785          -0.453065  0.110527 -0.021180  \n",
            "MntSweetProducts              0.447598          -0.430234  0.116552 -0.022719  \n",
            "MntGoldProds                  0.379420          -0.257616  0.138885 -0.031165  \n",
            "NumDealsPurchases             0.076264           0.365228  0.003816  0.000784  \n",
            "NumWebPurchases               0.499030          -0.065430  0.147314 -0.016815  \n",
            "NumCatalogPurchases           0.561571          -0.528794  0.235217 -0.020521  \n",
            "NumStorePurchases             1.000000          -0.443668  0.037215 -0.017142  \n",
            "NumWebVisitsMonth            -0.443668           1.000000 -0.006624  0.019291  \n",
            "Response                      0.037215          -0.006624  1.000000 -0.001854  \n",
            "Complain                     -0.017142           0.019291 -0.001854  1.000000  \n"
          ]
        },
        {
          "output_type": "stream",
          "name": "stderr",
          "text": [
            "<ipython-input-57-7b8d2f8090a3>:1: FutureWarning: The default value of numeric_only in DataFrame.corr is deprecated. In a future version, it will default to False. Select only valid columns or specify the value of numeric_only to silence this warning.\n",
            "  correlation = store_df.corr()\n"
          ]
        }
      ]
    },
    {
      "cell_type": "code",
      "source": [
        "import numpy as np\n",
        "from scipy.stats import norm, binom, poisson\n",
        "from sklearn.preprocessing import StandardScaler\n",
        "from sklearn.cluster import KMeans\n",
        "import matplotlib.pyplot as plt\n",
        "import seaborn as sns\n",
        "\n",
        "# Specify the numeric columns you're interested in\n",
        "numeric_columns = ['Year_Birth', 'Income', 'Kidhome', 'Teenhome', 'Recency', 'MntWines', 'MntFruits', 'MntMeatProducts', 'MntFishProducts', 'MntSweetProducts', 'MntGoldProds', 'NumDealsPurchases', 'NumWebPurchases', 'NumCatalogPurchases', 'NumStorePurchases', 'NumWebVisitsMonth']\n",
        "\n",
        "# Create a new DataFrame with just these columns\n",
        "df_numeric = store_df[numeric_columns]\n",
        "\n",
        "# Standardize the numeric columns\n",
        "scaler = StandardScaler()\n",
        "df_std = scaler.fit_transform(df_numeric)\n",
        "\n",
        "# Calculate sum of squared distances for a range of number of cluster\n",
        "ssd = []\n",
        "K = range(1,10)\n",
        "for k in K:\n",
        "    km = KMeans(n_clusters=k)\n",
        "    km = km.fit(df_std)\n",
        "    ssd.append(km.inertia_)\n",
        "\n",
        "# Plot sum of squared distances / elbow curve to find the optimal number of clusters\n",
        "plt.plot(K, ssd, 'bx-')\n",
        "plt.xlabel('Number of clusters')\n",
        "plt.ylabel('Sum of squared distances')\n",
        "plt.title('Elbow Method For Optimal Number of Clusters')\n",
        "plt.show()\n",
        "\n",
        "# Create a KMeans instance with the optimal number of clusters (you need to choose based on the plot)\n",
        "optimal_clusters = 3\n",
        "kmeans = KMeans(n_clusters=optimal_clusters, random_state=1)\n",
        "\n",
        "# Fit model to your data\n",
        "kmeans.fit(df_std)\n",
        "\n",
        "# Get the cluster assignments and add them to your original DataFrame\n",
        "labels = kmeans.labels_\n",
        "df_clustered = df_numeric.assign(Cluster=labels)\n",
        "\n",
        "# Display the mean value for each attribute for each cluster\n",
        "cluster_characteristics = df_clustered.groupby(['Cluster']).mean()\n",
        "print(cluster_characteristics)\n"
      ],
      "metadata": {
        "colab": {
          "base_uri": "https://localhost:8080/",
          "height": 1000
        },
        "id": "aN4YMTQPWEy9",
        "outputId": "4f18339f-8218-4046-cb7a-28688703f14f"
      },
      "execution_count": null,
      "outputs": [
        {
          "output_type": "stream",
          "name": "stderr",
          "text": [
            "/usr/local/lib/python3.10/dist-packages/sklearn/cluster/_kmeans.py:870: FutureWarning: The default value of `n_init` will change from 10 to 'auto' in 1.4. Set the value of `n_init` explicitly to suppress the warning\n",
            "  warnings.warn(\n",
            "/usr/local/lib/python3.10/dist-packages/sklearn/cluster/_kmeans.py:870: FutureWarning: The default value of `n_init` will change from 10 to 'auto' in 1.4. Set the value of `n_init` explicitly to suppress the warning\n",
            "  warnings.warn(\n",
            "/usr/local/lib/python3.10/dist-packages/sklearn/cluster/_kmeans.py:870: FutureWarning: The default value of `n_init` will change from 10 to 'auto' in 1.4. Set the value of `n_init` explicitly to suppress the warning\n",
            "  warnings.warn(\n",
            "/usr/local/lib/python3.10/dist-packages/sklearn/cluster/_kmeans.py:870: FutureWarning: The default value of `n_init` will change from 10 to 'auto' in 1.4. Set the value of `n_init` explicitly to suppress the warning\n",
            "  warnings.warn(\n",
            "/usr/local/lib/python3.10/dist-packages/sklearn/cluster/_kmeans.py:870: FutureWarning: The default value of `n_init` will change from 10 to 'auto' in 1.4. Set the value of `n_init` explicitly to suppress the warning\n",
            "  warnings.warn(\n",
            "/usr/local/lib/python3.10/dist-packages/sklearn/cluster/_kmeans.py:870: FutureWarning: The default value of `n_init` will change from 10 to 'auto' in 1.4. Set the value of `n_init` explicitly to suppress the warning\n",
            "  warnings.warn(\n",
            "/usr/local/lib/python3.10/dist-packages/sklearn/cluster/_kmeans.py:870: FutureWarning: The default value of `n_init` will change from 10 to 'auto' in 1.4. Set the value of `n_init` explicitly to suppress the warning\n",
            "  warnings.warn(\n",
            "/usr/local/lib/python3.10/dist-packages/sklearn/cluster/_kmeans.py:870: FutureWarning: The default value of `n_init` will change from 10 to 'auto' in 1.4. Set the value of `n_init` explicitly to suppress the warning\n",
            "  warnings.warn(\n",
            "/usr/local/lib/python3.10/dist-packages/sklearn/cluster/_kmeans.py:870: FutureWarning: The default value of `n_init` will change from 10 to 'auto' in 1.4. Set the value of `n_init` explicitly to suppress the warning\n",
            "  warnings.warn(\n"
          ]
        },
        {
          "output_type": "display_data",
          "data": {
            "text/plain": [
              "<Figure size 640x480 with 1 Axes>"
            ],
            "image/png": "[encoded data removed]"
          },
          "metadata": {}
        },
        {
          "output_type": "stream",
          "name": "stderr",
          "text": [
            "/usr/local/lib/python3.10/dist-packages/sklearn/cluster/_kmeans.py:870: FutureWarning: The default value of `n_init` will change from 10 to 'auto' in 1.4. Set the value of `n_init` explicitly to suppress the warning\n",
            "  warnings.warn(\n"
          ]
        },
        {
          "output_type": "stream",
          "name": "stdout",
          "text": [
            "          Year_Birth        Income   Kidhome  Teenhome    Recency    MntWines  \\\n",
            "Cluster                                                                         \n",
            "0        1968.318408  75121.575456  0.048093  0.189055  49.640133  602.439469   \n",
            "1        1964.205087  57349.046105  0.238474  0.939587  48.772655  443.591415   \n",
            "2        1971.964000  33890.141000  0.813000  0.427000  49.005000   38.314000   \n",
            "\n",
            "         MntFruits  MntMeatProducts  MntFishProducts  MntSweetProducts  \\\n",
            "Cluster                                                                  \n",
            "0        69.147595       444.092869        99.212272         70.825871   \n",
            "1        19.629571       125.263911        27.505564         20.683625   \n",
            "2         4.838000        22.414000         6.897000          4.893000   \n",
            "\n",
            "         MntGoldProds  NumDealsPurchases  NumWebPurchases  \\\n",
            "Cluster                                                     \n",
            "0           78.472637           1.296849         5.310116   \n",
            "1           57.456280           3.748808         6.155803   \n",
            "2           15.120000           2.034000         2.072000   \n",
            "\n",
            "         NumCatalogPurchases  NumStorePurchases  NumWebVisitsMonth  \n",
            "Cluster                                                             \n",
            "0                   5.844113           8.447761           2.905473  \n",
            "1                   2.923688           7.496025           5.732909  \n",
            "2                   0.521000           3.155000           6.542000  \n"
          ]
        }
      ]
    },
    {
      "cell_type": "markdown",
      "source": [
        "**Cluster 0:** This group has the highest average income and spends the most on wines, meat products, fish products, sweet products, and gold products compared to the other groups. They also have the highest number of catalog purchases and store purchases. However, they have the lowest number of web visits per month. This suggests that these customers prefer to buy in-store or through catalogs rather than online.\n",
        "\n",
        "**Cluster 1:** This group has a moderate average income and spends a moderate amount on wines, meat products, fish products, sweet products, and gold products. They have a high number of web purchases and a moderate number of catalog and store purchases. They also have a high number of web visits per month. This suggests that these customers prefer to shop online.\n",
        "\n",
        "**Cluster 2:** This group has the lowest average income and spends the least on wines, meat products, fish products, sweet products, and gold products. They have the lowest number of web purchases, catalog purchases, and store purchases. However, they have the highest number of web visits per month. This suggests that these customers browse online frequently but make fewer purchases."
      ],
      "metadata": {
        "id": "fDCtOljzYJ-w"
      }
    },
    {
      "cell_type": "markdown",
      "source": [
        "## Task 5: Conclusion and Recommendations\n",
        "\n",
        "- **Create clear visualizations to showcase your findings. Use insights to make recommendations for the company based on your analysis.**"
      ],
      "metadata": {
        "id": "Fv6iVJbgiwf2"
      }
    },
    {
      "cell_type": "markdown",
      "source": [
        "**Deliverables**:\n",
        "\n",
        "- **Well-designed visualizations that visually represent your insights and actionable recommendations based on customer behavior analysis.**"
      ],
      "metadata": {
        "id": "-z5hEuOejQjd"
      }
    },
    {
      "cell_type": "code",
      "source": [
        "cluster_means = df_clustered.groupby('Cluster').mean()\n",
        "\n",
        "# Plot average spending in each product category for each cluster\n",
        "cluster_means[['MntWines', 'MntFruits', 'MntMeatProducts', 'MntFishProducts', 'MntSweetProducts', 'MntGoldProds']].plot(kind='bar', stacked=True)\n",
        "plt.title('Average Spending in Each Product Category for Each Customer Segment')\n",
        "plt.xlabel('Customer Segment')\n",
        "plt.ylabel('Average Spending')\n",
        "plt.show()"
      ],
      "metadata": {
        "colab": {
          "base_uri": "https://localhost:8080/",
          "height": 475
        },
        "id": "uWy2lTM1YrKU",
        "outputId": "0fd53a45-6b2a-46a7-e15f-43f8fa5a9050"
      },
      "execution_count": null,
      "outputs": [
        {
          "output_type": "display_data",
          "data": {
            "text/plain": [
              "<Figure size 640x480 with 1 Axes>"
            ],
            "image/png": "[encoded data removed]"
          },
          "metadata": {}
        }
      ]
    },
    {
      "cell_type": "markdown",
      "source": [
        "# Insights:\n",
        "\n",
        "**Customer Segment 0:**This segment spends the most across all product categories, with the highest spending on wines. They have the highest average income among the three segments.\n",
        "\n",
        "**Customer Segment 1:** This segment has moderate spending across all product categories with a significant portion spent on meat products. Their income level is also moderate.\n",
        "\n",
        "**Customer Segment 2:** This segment spends the least across all product categories, primarily on gold products. They have the lowest average income.\n",
        "\n",
        "# Recommendations:\n",
        "\n",
        "**Customer Segment 0:** As these customers have the highest income and spend the most on wines, the company could target them with promotions for premium wine products.\n",
        "\n",
        "**Customer Segment 1:** These customers spend a significant amount on meat products. The company could consider offering them deals on meat products or introducing new meat products to this segment.\n",
        "\n",
        "**Customer Segment 2:** These customers spend the most on gold products. The company could consider offering them special deals on gold products or introducing new gold products to this segment."
      ],
      "metadata": {
        "id": "3HapQj78Zgy6"
      }
    },
    {
      "cell_type": "markdown",
      "source": [
        "## Bonus Task - Geogebra Experiment\n",
        "\n"
      ],
      "metadata": {
        "id": "Fib_ksA9jmii"
      }
    },
    {
      "cell_type": "markdown",
      "source": [
        "Here's the link to an intriguing GeoGebra experiment: [GeoGebra Experiment Link](https://www.geogebra.org/m/LZbwMZtJ)\n",
        "\n",
        "This experiment lets you simulate coin flips as per your preferences and specifications!\n",
        "\n",
        "Your task involves recording a video where you'll explain the concept of the **Law of Large Numbers** using this experiment. Dive further into the experience by adjusting the number of coins and exploring varying coin biases. 🪙📹🔍"
      ],
      "metadata": {
        "id": "olsEhR8RjsIF"
      }
    },
    {
      "cell_type": "markdown",
      "source": [
        "Geogebra expreiment video link -https://drive.google.com/file/d/1j7XUeeeJLsCoeZlWW13LoRf5d8dqZ1oZ/view?usp=sharing"
      ],
      "metadata": {
        "id": "bZhigj99ySdi"
      }
    }
  ]
}